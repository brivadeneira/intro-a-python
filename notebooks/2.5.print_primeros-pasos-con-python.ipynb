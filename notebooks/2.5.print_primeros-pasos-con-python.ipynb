{
 "cells": [
  {
   "cell_type": "markdown",
   "id": "de58d4c5-7b41-427c-8fb4-c8affebfa6af",
   "metadata": {},
   "source": [
    "# ¡print() es tu amiga!\n",
    "\n",
    "- `print()` es una **función** de python (como toda función lleva `()`)\n",
    "- *imprime* por pantalla lo que se le indice entre paréntesis:"
   ]
  },
  {
   "cell_type": "code",
   "execution_count": 1,
   "id": "b289250e-8de8-492a-b934-6b6a4d5cbb86",
   "metadata": {},
   "outputs": [
    {
     "name": "stdout",
     "output_type": "stream",
     "text": [
      "hola mundo\n"
     ]
    }
   ],
   "source": [
    "print('hola mundo')"
   ]
  },
  {
   "cell_type": "code",
   "execution_count": 3,
   "id": "ad05c549-6318-4add-8518-a01eb3ec13b8",
   "metadata": {},
   "outputs": [
    {
     "name": "stdout",
     "output_type": "stream",
     "text": [
      "Python says:  spam spam\n"
     ]
    }
   ],
   "source": [
    "message = 'spam spam'\n",
    "print('Python says: ', message)"
   ]
  },
  {
   "cell_type": "markdown",
   "id": "fc200b6b-74b9-48f0-8c84-dd1dd4e3300b",
   "metadata": {},
   "source": [
    "## Formateo elegante de la salida\n",
    "\n",
    "### formatted string literals"
   ]
  },
  {
   "cell_type": "code",
   "execution_count": 1,
   "id": "95d62b81-2750-4b35-aae4-e331a1824091",
   "metadata": {},
   "outputs": [
    {
     "data": {
      "text/plain": [
       "'Results of the 2016 Referendum'"
      ]
     },
     "execution_count": 1,
     "metadata": {},
     "output_type": "execute_result"
    }
   ],
   "source": [
    "year = 2016\n",
    "event = 'Referendum'\n",
    "\n",
    "f'Results of the {year} {event}'"
   ]
  },
  {
   "cell_type": "markdown",
   "id": "624a4cf3-e024-4aa6-a424-bc51e202c2fb",
   "metadata": {},
   "source": [
    "### str.format() requiere más esfuerzo manual."
   ]
  },
  {
   "cell_type": "code",
   "execution_count": 2,
   "id": "e4ffc508-26c9-47a2-9e40-7a8e5bc97168",
   "metadata": {},
   "outputs": [
    {
     "data": {
      "text/plain": [
       "' 42572654 YES votes  49.67%'"
      ]
     },
     "execution_count": 2,
     "metadata": {},
     "output_type": "execute_result"
    }
   ],
   "source": [
    "yes_votes = 42_572_654\n",
    "no_votes = 43_132_495\n",
    "percentage = yes_votes / (yes_votes + no_votes)\n",
    "\n",
    "'{:-9} YES votes  {:2.2%}'.format(yes_votes, percentage)"
   ]
  },
  {
   "cell_type": "code",
   "execution_count": 4,
   "id": "ff111264-8646-40ab-9331-a68c93eaa75e",
   "metadata": {},
   "outputs": [
    {
     "name": "stdout",
     "output_type": "stream",
     "text": [
      "spam and eggs\n"
     ]
    }
   ],
   "source": [
    "print('{0} and {1}'.format('spam', 'eggs'))"
   ]
  },
  {
   "cell_type": "code",
   "execution_count": 5,
   "id": "51a3c190-82ea-49c4-9b93-06af74ac2309",
   "metadata": {},
   "outputs": [
    {
     "name": "stdout",
     "output_type": "stream",
     "text": [
      "eggs and spam\n"
     ]
    }
   ],
   "source": [
    "print('{1} and {0}'.format('spam', 'eggs'))"
   ]
  },
  {
   "cell_type": "code",
   "execution_count": 7,
   "id": "187f8faf-7fab-4aba-88a4-cc12446d744b",
   "metadata": {},
   "outputs": [
    {
     "name": "stdout",
     "output_type": "stream",
     "text": [
      "This spam is absolutely horrible.\n"
     ]
    }
   ],
   "source": [
    "print('This {food} is {adjective}.'.format(\n",
    "    food='spam', adjective='absolutely horrible')\n",
    "     )"
   ]
  },
  {
   "cell_type": "markdown",
   "id": "af8627dc-1462-41d1-8e45-7d50137656a3",
   "metadata": {},
   "source": [
    "- La función `str()` retorna representaciones de los valores que son bastante legibles por humanos, mientras que\n",
    "- `repr()` genera representaciones que pueden ser leídas por el intérprete (o forzarían un SyntaxError si no hay sintaxis equivalente). \n",
    "\n",
    "Para objetos que no tienen una representación en particular para consumo humano, str() retornará el mismo valor que repr(). Muchos valores, como números o estructuras como listas y diccionarios, tienen la misma representación usando cualquiera de las dos funciones. Las cadenas, en particular, tienen dos representaciones distintas."
   ]
  },
  {
   "cell_type": "code",
   "execution_count": 8,
   "id": "0cbe5dc3-48f2-4dfe-b2ae-db165f828ae5",
   "metadata": {},
   "outputs": [
    {
     "data": {
      "text/plain": [
       "'Hello, world.'"
      ]
     },
     "execution_count": 8,
     "metadata": {},
     "output_type": "execute_result"
    }
   ],
   "source": [
    "s = 'Hello, world.'\n",
    "str(s)"
   ]
  },
  {
   "cell_type": "code",
   "execution_count": 9,
   "id": "006c34e4-9d63-49dd-9efc-fd1d912f9217",
   "metadata": {},
   "outputs": [
    {
     "data": {
      "text/plain": [
       "\"'Hello, world.'\""
      ]
     },
     "execution_count": 9,
     "metadata": {},
     "output_type": "execute_result"
    }
   ],
   "source": [
    "repr(s)"
   ]
  },
  {
   "cell_type": "code",
   "execution_count": 10,
   "id": "07ea6d4c-287a-4277-821c-a83a35855130",
   "metadata": {},
   "outputs": [
    {
     "data": {
      "text/plain": [
       "'0.14285714285714285'"
      ]
     },
     "execution_count": 10,
     "metadata": {},
     "output_type": "execute_result"
    }
   ],
   "source": [
    "str(1/7)"
   ]
  },
  {
   "cell_type": "code",
   "execution_count": 12,
   "id": "a4f84a46-2b73-44ef-819a-db6d82893dd5",
   "metadata": {},
   "outputs": [
    {
     "name": "stdout",
     "output_type": "stream",
     "text": [
      "The value of x is 32.5, and y is 40000...\n"
     ]
    }
   ],
   "source": [
    "x = 10 * 3.25\n",
    "y = 200 * 200\n",
    "s = 'The value of x is ' + repr(x) + ', and y is ' + repr(y) + '...'\n",
    "print(s)"
   ]
  },
  {
   "cell_type": "code",
   "execution_count": 13,
   "id": "3857c078-aec2-4a78-9760-40e7c55c1b60",
   "metadata": {},
   "outputs": [
    {
     "name": "stdout",
     "output_type": "stream",
     "text": [
      "The value of pi is approximately 3.142.\n"
     ]
    }
   ],
   "source": [
    "import math\n",
    "print(f'The value of pi is approximately {math.pi:.3f}.')"
   ]
  },
  {
   "cell_type": "markdown",
   "id": "80c50115-75c4-4b92-ae33-206d0ae13e57",
   "metadata": {},
   "source": [
    "> Más info: [python print - real python](https://realpython.com/python-print/)"
   ]
  },
  {
   "cell_type": "code",
   "execution_count": null,
   "id": "90ec005c-4f99-435b-8769-7174f96a8f69",
   "metadata": {},
   "outputs": [],
   "source": []
  }
 ],
 "metadata": {
  "kernelspec": {
   "display_name": "Python 3 (ipykernel)",
   "language": "python",
   "name": "python3"
  },
  "language_info": {
   "codemirror_mode": {
    "name": "ipython",
    "version": 3
   },
   "file_extension": ".py",
   "mimetype": "text/x-python",
   "name": "python",
   "nbconvert_exporter": "python",
   "pygments_lexer": "ipython3",
   "version": "3.9.12"
  }
 },
 "nbformat": 4,
 "nbformat_minor": 5
}
