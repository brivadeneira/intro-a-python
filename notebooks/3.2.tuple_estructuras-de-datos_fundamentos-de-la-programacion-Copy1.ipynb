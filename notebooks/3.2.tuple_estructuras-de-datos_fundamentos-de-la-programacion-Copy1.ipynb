{
 "cells": [
  {
   "cell_type": "markdown",
   "metadata": {
    "id": "pyLDlbh7InwM"
   },
   "source": [
    "# **MÓDULO 3 - FUNDAMENTOS DE LA PROGRAMACIÓN CON PYTHON**\n",
    "\n",
    "## Estructuras de datos\n",
    "\n",
    "* **list**: `[3, 2.0, 'eggs', [True, False]]`\n",
    "* **tuple**: `(598, 1655)`, `([1.5, True], [2.0, False])` \n",
    "* **dict**: `{'spam': 'eggs', 'eggs': 'spam'}`\n",
    "* **set**: `nums = {1, 2, 2, 3, 4, 4, 5, 5} -> {1, 2, 3, 4, 5}`"
   ]
  },
  {
   "cell_type": "markdown",
   "metadata": {},
   "source": [
    "### tuple\n",
    "\n",
    "Una tupla es un conjunto estructurado de datos, puede contener objetos de python de cualquier tipo, incluso tuplas.\n",
    "\n",
    "- Ordenada en índices, por ende admite slicing.\n",
    "- Inmutable.\n",
    "- En general homogénea.\n",
    "\n",
    "syntax:\n",
    "\n",
    "`a_tuple = ()`"
   ]
  },
  {
   "cell_type": "code",
   "execution_count": null,
   "metadata": {
    "id": "Unzz6AKYGRFO"
   },
   "outputs": [],
   "source": [
    "empty_tuple = ()\n",
    "print(empty_tuple)\n",
    "type(empty_tuple)"
   ]
  },
  {
   "cell_type": "markdown",
   "metadata": {
    "id": "d9V9-4a_GRFV"
   },
   "source": [
    "* **Ordenada**, los objetos se encuentran en las posiciones correspondientes a los *índices* dados por números enteros. Admite \"rebanado\" o `slicing`."
   ]
  },
  {
   "cell_type": "code",
   "execution_count": null,
   "metadata": {},
   "outputs": [],
   "source": [
    "num_of_tools = 10\n",
    "screwdrivers = ['philips','flat']\n",
    "wrenches = ['1/4\"', '5/16\"', '11/32\"', '3/8\"', '7/16\"', '1/2\"']\n",
    "last_update_datetime = (10, 2, 2022)"
   ]
  },
  {
   "cell_type": "code",
   "execution_count": null,
   "metadata": {},
   "outputs": [],
   "source": [
    "last_update_hour_str = '12:35:00'\n",
    "last_update_hour_list = last_update_hour_str.split(':')\n",
    "last_update_hour_tuple = tuple(last_update_hour_list)\n",
    "last_update_hour_tuple"
   ]
  },
  {
   "cell_type": "code",
   "execution_count": null,
   "metadata": {},
   "outputs": [],
   "source": [
    "last_update_datetime = last_update_datetime + last_update_hour_tuple\n",
    "last_update_datetime"
   ]
  },
  {
   "cell_type": "code",
   "execution_count": null,
   "metadata": {},
   "outputs": [],
   "source": [
    "toolbox_tuple = (num_of_tools, screwdrivers, wrenches, last_update)\n",
    "toolbox_tuple"
   ]
  },
  {
   "cell_type": "code",
   "execution_count": null,
   "metadata": {
    "id": "KLKSFkugGRFa"
   },
   "outputs": [],
   "source": [
    "toolbox_tuple[0]"
   ]
  },
  {
   "cell_type": "code",
   "execution_count": null,
   "metadata": {
    "id": "ls53WPCoGRFd"
   },
   "outputs": [],
   "source": [
    "toolbox_tuple[1]"
   ]
  },
  {
   "cell_type": "code",
   "execution_count": null,
   "metadata": {},
   "outputs": [],
   "source": [
    "toolbox_tuple[-1]"
   ]
  },
  {
   "cell_type": "code",
   "execution_count": null,
   "metadata": {},
   "outputs": [],
   "source": [
    "toolbox_tuple[2][0]"
   ]
  },
  {
   "cell_type": "markdown",
   "metadata": {},
   "source": [
    "¿Cómo obtener el *segundo* tipo de destornillador?"
   ]
  },
  {
   "cell_type": "code",
   "execution_count": null,
   "metadata": {},
   "outputs": [],
   "source": [
    "toolbox_tuple"
   ]
  },
  {
   "cell_type": "code",
   "execution_count": null,
   "metadata": {},
   "outputs": [],
   "source": []
  },
  {
   "cell_type": "markdown",
   "metadata": {
    "id": "o_LYNoavGRFg"
   },
   "source": [
    "⚠️ **Inmutable**, es decir que una vez definida una tupla, no se puede modificar el valor de los objetos que contiene."
   ]
  },
  {
   "cell_type": "code",
   "execution_count": null,
   "metadata": {},
   "outputs": [],
   "source": [
    "toolbox_tuple[-1][0] = 15"
   ]
  },
  {
   "cell_type": "markdown",
   "metadata": {
    "id": "j-JmVOa9GRFm"
   },
   "source": [
    "### Operaciones con tuplas\n",
    "\n",
    "* **count()**: Similar a lista.\n",
    "* **index()**: Similar a lista."
   ]
  },
  {
   "cell_type": "markdown",
   "metadata": {},
   "source": [
    "* **all()**: Retorna `True` si todos los elementos de la tupla son `True`. (O si está vacía).\n",
    "* **any()**: Retorna `True` si alguno de los elementos es `True`."
   ]
  },
  {
   "cell_type": "code",
   "execution_count": null,
   "metadata": {},
   "outputs": [],
   "source": [
    "bool_tuple = (True, False, True)"
   ]
  },
  {
   "cell_type": "code",
   "execution_count": null,
   "metadata": {},
   "outputs": [],
   "source": [
    "all(bool_tuple)"
   ]
  },
  {
   "cell_type": "markdown",
   "metadata": {},
   "source": [
    "any(bool_tuple)"
   ]
  },
  {
   "cell_type": "code",
   "execution_count": null,
   "metadata": {},
   "outputs": [],
   "source": [
    "ones_tuple = (1, 1, 1, 1)"
   ]
  },
  {
   "cell_type": "code",
   "execution_count": null,
   "metadata": {},
   "outputs": [],
   "source": [
    "all(ones_tuple)"
   ]
  },
  {
   "cell_type": "code",
   "execution_count": null,
   "metadata": {},
   "outputs": [],
   "source": [
    "any(ones_tuple)"
   ]
  },
  {
   "cell_type": "markdown",
   "metadata": {},
   "source": [
    "¿Cuál es el resultado de aplicar `all()` y `any()` a la siguientes tuplas?\n",
    "\n",
    "a. `str_tuple = ('', '', '')`  \n",
    "b. `tuple_of_lists = ([], ['spam', 'eggs'], ['', ''])`"
   ]
  },
  {
   "cell_type": "markdown",
   "metadata": {},
   "source": [
    "a.  \n",
    "b.  "
   ]
  },
  {
   "cell_type": "markdown",
   "metadata": {},
   "source": [
    "### list ↔️ tuple"
   ]
  },
  {
   "cell_type": "code",
   "execution_count": null,
   "metadata": {},
   "outputs": [],
   "source": [
    "last_update = toolbox_list[-1]\n",
    "last_update"
   ]
  },
  {
   "cell_type": "code",
   "execution_count": null,
   "metadata": {},
   "outputs": [],
   "source": [
    "last_update_list = list(last_update)\n",
    "last_update_list"
   ]
  },
  {
   "cell_type": "code",
   "execution_count": null,
   "metadata": {},
   "outputs": [],
   "source": [
    "last_update_list[0] = 15\n",
    "last_update_list"
   ]
  },
  {
   "cell_type": "markdown",
   "metadata": {},
   "source": [
    "## ⚠️ ¡OJO!"
   ]
  },
  {
   "cell_type": "code",
   "execution_count": null,
   "metadata": {},
   "outputs": [],
   "source": [
    "(\"am I a tuple?\")"
   ]
  },
  {
   "cell_type": "code",
   "execution_count": null,
   "metadata": {},
   "outputs": [],
   "source": [
    "('I am a tuple!',)"
   ]
  },
  {
   "cell_type": "code",
   "execution_count": null,
   "metadata": {},
   "outputs": [],
   "source": [
    "'I', 'am', 'a', 'tuple', 'too!'"
   ]
  },
  {
   "cell_type": "code",
   "execution_count": null,
   "metadata": {},
   "outputs": [],
   "source": [
    "('I ' 'am ' 'a ' 'long ' 'string!')"
   ]
  },
  {
   "cell_type": "markdown",
   "metadata": {},
   "source": [
    "## unpack a tuple"
   ]
  },
  {
   "cell_type": "code",
   "execution_count": null,
   "metadata": {},
   "outputs": [],
   "source": [
    "day, month, year = (15, 2, 2022)"
   ]
  },
  {
   "cell_type": "code",
   "execution_count": null,
   "metadata": {},
   "outputs": [],
   "source": [
    "print(day, month, year)"
   ]
  },
  {
   "cell_type": "code",
   "execution_count": null,
   "metadata": {},
   "outputs": [],
   "source": [
    "date = (day, month, year)\n",
    "date"
   ]
  },
  {
   "cell_type": "code",
   "execution_count": null,
   "metadata": {},
   "outputs": [],
   "source": [
    "print(*date)"
   ]
  },
  {
   "cell_type": "markdown",
   "metadata": {},
   "source": [
    "## Ejercicios tuple\n",
    "\n",
    "### Sincrónicos"
   ]
  },
  {
   "cell_type": "markdown",
   "metadata": {},
   "source": [
    "Dada la siguiente tupla, agregar el objeto `5` en la posición 4 **SIN CONVERTIR LA TUPLA EN UNA LISTA**:"
   ]
  },
  {
   "cell_type": "code",
   "execution_count": null,
   "metadata": {},
   "outputs": [],
   "source": [
    "ints_tuple = (1, 2, 3, 5, 6)"
   ]
  },
  {
   "cell_type": "code",
   "execution_count": null,
   "metadata": {},
   "outputs": [],
   "source": []
  },
  {
   "cell_type": "markdown",
   "metadata": {},
   "source": [
    "Obtener el `str` 'python' a partir de la siguiente tupla:"
   ]
  },
  {
   "cell_type": "code",
   "execution_count": null,
   "metadata": {},
   "outputs": [],
   "source": [
    "py_tuple = ('p', 'y', 'h', 'o', 'n', 't')"
   ]
  },
  {
   "cell_type": "code",
   "execution_count": null,
   "metadata": {},
   "outputs": [],
   "source": []
  },
  {
   "cell_type": "markdown",
   "metadata": {},
   "source": [
    "### Asincrónicos"
   ]
  },
  {
   "cell_type": "markdown",
   "metadata": {},
   "source": [
    "Dada una tupla, recibir *por teclado* un objeto y *printear* usando `formatted string literals`, el índice en el que se encuentra dicho objeto:"
   ]
  },
  {
   "cell_type": "code",
   "execution_count": null,
   "metadata": {},
   "outputs": [],
   "source": [
    "ints_tuple = [1, 48, 50, 11, 6, 43, 48, 34, 24, 49]"
   ]
  },
  {
   "cell_type": "code",
   "execution_count": null,
   "metadata": {},
   "outputs": [],
   "source": []
  },
  {
   "cell_type": "markdown",
   "metadata": {},
   "source": [
    "Dada una tupla, recibir *por teclado* un objeto y *printear* usando `str.format()`, la cantidad de ocurrencias de dicho objeto:"
   ]
  },
  {
   "cell_type": "code",
   "execution_count": null,
   "metadata": {},
   "outputs": [],
   "source": [
    "ints_until_three_tuple = [1, 3, 2, 3, 1, 1, 1, 1, 0, 2]"
   ]
  },
  {
   "cell_type": "code",
   "execution_count": null,
   "metadata": {},
   "outputs": [],
   "source": []
  },
  {
   "cell_type": "markdown",
   "metadata": {},
   "source": [
    "> Más info: [defining tuples - real python](https://realpython.com/lessons/defining-tuples/)"
   ]
  }
 ],
 "metadata": {
  "colab": {
   "name": "6.modulo_2-tuplas-sets.ipynb",
   "provenance": []
  },
  "kernelspec": {
   "display_name": "Python 3 (ipykernel)",
   "language": "python",
   "name": "python3"
  },
  "language_info": {
   "codemirror_mode": {
    "name": "ipython",
    "version": 3
   },
   "file_extension": ".py",
   "mimetype": "text/x-python",
   "name": "python",
   "nbconvert_exporter": "python",
   "pygments_lexer": "ipython3",
   "version": "3.9.12"
  }
 },
 "nbformat": 4,
 "nbformat_minor": 4
}
