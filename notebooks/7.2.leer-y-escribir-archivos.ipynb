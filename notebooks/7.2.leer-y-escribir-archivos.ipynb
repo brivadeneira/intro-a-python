{
 "cells": [
  {
   "cell_type": "markdown",
   "metadata": {
    "id": "rkErROkjHG8t"
   },
   "source": [
    "## Leer y escribir archivos\n",
    "\n",
    "`open(archivo, modo)`\n",
    "\n",
    "Modos de los archivos (por defecto son de solo lectura y texto):\n",
    "\n",
    "- 'r': Solo lectura (default)\n",
    "- 'w': Solo escritura (Si el archivo existe, lo deja en blanco).\n",
    "- 'x': Solo escritura, exclusivo para archivos que no existen.\n",
    "- 'a': Agregar al final.\n",
    "- 'b': Modo binario.\n",
    "- 't': Modo texto (default)\n",
    "- '+': Actualizar el contenido.\n",
    "\n",
    "Los archivos tienen un caracter especial (llamado EOF) al final indicando que se termino el archivo.\n",
    "\n",
    "- `write()` escribe el archivo. Primero necesitamos abrir el archivo con un modo que nos permita escribir. Tambien no tenemos que asegurar que el objeto que le metemos sea `str`. Devuelve la cantidad de caracteres escritos.\n",
    "- `read()` lee hasta el final del archivo. Devuelve string con el texto.\n",
    "- `readline()` lee hasta un salto de linea o el final del archivo. Devuelve string con la linea\n",
    "\n",
    "Los archivos tienen un cursos interno, con la posicion en la que estan.\n",
    "\n",
    "\n",
    "Por ultimo siempre hay que recordar cerrar los archivos con `close()`. Si no se hace, pueden pasar cosas malas (archivos a medio escribir/corruptos, memory leaks)"
   ]
  },
  {
   "cell_type": "code",
   "execution_count": 1,
   "metadata": {
    "colab": {
     "base_uri": "https://localhost:8080/"
    },
    "executionInfo": {
     "elapsed": 769,
     "status": "ok",
     "timestamp": 1638821687972,
     "user": {
      "displayName": "Bibiana Rivadeneira",
      "photoUrl": "https://lh3.googleusercontent.com/a-/AOh14GhL-xTUu_mVlpBRHQ1YIbHfKhfJrlVkLdoD9S19OQ=s64",
      "userId": "13403832355809551391"
     },
     "user_tz": 180
    },
    "id": "GOjH6m-aHG8v",
    "outputId": "1badb94d-4cd0-4a7a-80f7-adc2471351df"
   },
   "outputs": [
    {
     "data": {
      "text/plain": [
       "23"
      ]
     },
     "execution_count": 1,
     "metadata": {},
     "output_type": "execute_result"
    }
   ],
   "source": [
    "texto = '''Linea 0\n",
    "Linea 1\\nLinea 2'''\n",
    "\n",
    "f = open('poema.txt', 'w')            # open in read mode an text\n",
    "f.write(texto)                        # chars "
   ]
  },
  {
   "cell_type": "code",
   "execution_count": 2,
   "metadata": {
    "executionInfo": {
     "elapsed": 696,
     "status": "ok",
     "timestamp": 1638821702930,
     "user": {
      "displayName": "Bibiana Rivadeneira",
      "photoUrl": "https://lh3.googleusercontent.com/a-/AOh14GhL-xTUu_mVlpBRHQ1YIbHfKhfJrlVkLdoD9S19OQ=s64",
      "userId": "13403832355809551391"
     },
     "user_tz": 180
    },
    "id": "DHuRlAg9HG8-"
   },
   "outputs": [],
   "source": [
    "f.write('\\n\\nLinea 4. Me falta la linea 3!')        # Append strings\n",
    "f.close()                                           # ALWAYS close!"
   ]
  },
  {
   "cell_type": "code",
   "execution_count": 3,
   "metadata": {
    "colab": {
     "base_uri": "https://localhost:8080/",
     "height": 165
    },
    "executionInfo": {
     "elapsed": 297,
     "status": "error",
     "timestamp": 1638821707650,
     "user": {
      "displayName": "Bibiana Rivadeneira",
      "photoUrl": "https://lh3.googleusercontent.com/a-/AOh14GhL-xTUu_mVlpBRHQ1YIbHfKhfJrlVkLdoD9S19OQ=s64",
      "userId": "13403832355809551391"
     },
     "user_tz": 180
    },
    "id": "g8cwvKanHG9M",
    "outputId": "fa1af93e-c484-43e7-ac6c-09ec1bc14dda"
   },
   "outputs": [
    {
     "ename": "ValueError",
     "evalue": "I/O operation on closed file.",
     "output_type": "error",
     "traceback": [
      "\u001b[0;31m---------------------------------------------------------------------------\u001b[0m",
      "\u001b[0;31mValueError\u001b[0m                                Traceback (most recent call last)",
      "\u001b[0;32m/tmp/ipykernel_77179/2846159110.py\u001b[0m in \u001b[0;36m<module>\u001b[0;34m\u001b[0m\n\u001b[0;32m----> 1\u001b[0;31m \u001b[0mf\u001b[0m\u001b[0;34m.\u001b[0m\u001b[0mwrite\u001b[0m\u001b[0;34m(\u001b[0m\u001b[0;34m'En archivo cerrado no entran strings...'\u001b[0m\u001b[0;34m)\u001b[0m  \u001b[0;31m# can not write a closed file!\u001b[0m\u001b[0;34m\u001b[0m\u001b[0;34m\u001b[0m\u001b[0m\n\u001b[0m",
      "\u001b[0;31mValueError\u001b[0m: I/O operation on closed file."
     ]
    }
   ],
   "source": [
    "f.write('En archivo cerrado no entran strings...')  # can not write a closed file!"
   ]
  },
  {
   "cell_type": "code",
   "execution_count": 4,
   "metadata": {
    "colab": {
     "base_uri": "https://localhost:8080/",
     "height": 35
    },
    "executionInfo": {
     "elapsed": 319,
     "status": "ok",
     "timestamp": 1638821713522,
     "user": {
      "displayName": "Bibiana Rivadeneira",
      "photoUrl": "https://lh3.googleusercontent.com/a-/AOh14GhL-xTUu_mVlpBRHQ1YIbHfKhfJrlVkLdoD9S19OQ=s64",
      "userId": "13403832355809551391"
     },
     "user_tz": 180
    },
    "id": "FADEKlSMHG9b",
    "outputId": "d08f739d-5801-46ca-8d41-54162fe7fa98"
   },
   "outputs": [
    {
     "data": {
      "text/plain": [
       "'Linea 0\\n'"
      ]
     },
     "execution_count": 4,
     "metadata": {},
     "output_type": "execute_result"
    }
   ],
   "source": [
    "f = open('poema.txt')  # mode 'rt' by default\n",
    "f.readline()           # read ONE line"
   ]
  },
  {
   "cell_type": "code",
   "execution_count": 5,
   "metadata": {
    "colab": {
     "base_uri": "https://localhost:8080/",
     "height": 35
    },
    "executionInfo": {
     "elapsed": 297,
     "status": "ok",
     "timestamp": 1638821716762,
     "user": {
      "displayName": "Bibiana Rivadeneira",
      "photoUrl": "https://lh3.googleusercontent.com/a-/AOh14GhL-xTUu_mVlpBRHQ1YIbHfKhfJrlVkLdoD9S19OQ=s64",
      "userId": "13403832355809551391"
     },
     "user_tz": 180
    },
    "id": "WcKH11cuHG9u",
    "outputId": "5bdce3a7-82ae-47bc-820f-5be2874c9be0"
   },
   "outputs": [
    {
     "data": {
      "text/plain": [
       "'Linea 1\\nLinea 2\\n\\nLinea 4. Me falta la linea 3!'"
      ]
     },
     "execution_count": 5,
     "metadata": {},
     "output_type": "execute_result"
    }
   ],
   "source": [
    "f.read()         # read the rest of the file"
   ]
  },
  {
   "cell_type": "code",
   "execution_count": 6,
   "metadata": {
    "colab": {
     "base_uri": "https://localhost:8080/",
     "height": 35
    },
    "executionInfo": {
     "elapsed": 304,
     "status": "ok",
     "timestamp": 1638821724537,
     "user": {
      "displayName": "Bibiana Rivadeneira",
      "photoUrl": "https://lh3.googleusercontent.com/a-/AOh14GhL-xTUu_mVlpBRHQ1YIbHfKhfJrlVkLdoD9S19OQ=s64",
      "userId": "13403832355809551391"
     },
     "user_tz": 180
    },
    "id": "qUqMRmShHG94",
    "outputId": "1e337c18-a789-4cea-ab81-e007563ad50a"
   },
   "outputs": [
    {
     "data": {
      "text/plain": [
       "''"
      ]
     },
     "execution_count": 6,
     "metadata": {},
     "output_type": "execute_result"
    }
   ],
   "source": [
    "f.read()"
   ]
  },
  {
   "cell_type": "code",
   "execution_count": 7,
   "metadata": {
    "colab": {
     "base_uri": "https://localhost:8080/"
    },
    "executionInfo": {
     "elapsed": 309,
     "status": "ok",
     "timestamp": 1638821729961,
     "user": {
      "displayName": "Bibiana Rivadeneira",
      "photoUrl": "https://lh3.googleusercontent.com/a-/AOh14GhL-xTUu_mVlpBRHQ1YIbHfKhfJrlVkLdoD9S19OQ=s64",
      "userId": "13403832355809551391"
     },
     "user_tz": 180
    },
    "id": "PhSRBLGdHG-E",
    "outputId": "05227406-1a76-46b4-b766-e496f470ffed"
   },
   "outputs": [
    {
     "data": {
      "text/plain": [
       "54"
      ]
     },
     "execution_count": 7,
     "metadata": {},
     "output_type": "execute_result"
    }
   ],
   "source": [
    "f.tell()         # ask for actual position"
   ]
  },
  {
   "cell_type": "code",
   "execution_count": 8,
   "metadata": {
    "colab": {
     "base_uri": "https://localhost:8080/"
    },
    "executionInfo": {
     "elapsed": 309,
     "status": "ok",
     "timestamp": 1638821737443,
     "user": {
      "displayName": "Bibiana Rivadeneira",
      "photoUrl": "https://lh3.googleusercontent.com/a-/AOh14GhL-xTUu_mVlpBRHQ1YIbHfKhfJrlVkLdoD9S19OQ=s64",
      "userId": "13403832355809551391"
     },
     "user_tz": 180
    },
    "id": "nvGE2-F2HG-S",
    "outputId": "343517ba-688e-4798-bfd0-1a2997ef32dd"
   },
   "outputs": [
    {
     "name": "stdout",
     "output_type": "stream",
     "text": [
      "Linea 0\n",
      "Linea 1\n",
      "Linea 2\n",
      "\n",
      "Linea 4. Me falta la linea 3!\n"
     ]
    }
   ],
   "source": [
    "f.seek(0)        # Return to the beginning\n",
    "print(f.read())  # print the entire file\n",
    "f.close()        # ALWAYS close the file"
   ]
  },
  {
   "cell_type": "markdown",
   "metadata": {
    "id": "7c6R5xlFHG-i"
   },
   "source": [
    "Es buena practica usar el `with` cuando se maneja archivos. Se asegura que el archivo se cierre apropiadamente:"
   ]
  },
  {
   "cell_type": "code",
   "execution_count": 9,
   "metadata": {
    "colab": {
     "base_uri": "https://localhost:8080/",
     "height": 217
    },
    "executionInfo": {
     "elapsed": 305,
     "status": "error",
     "timestamp": 1638821747642,
     "user": {
      "displayName": "Bibiana Rivadeneira",
      "photoUrl": "https://lh3.googleusercontent.com/a-/AOh14GhL-xTUu_mVlpBRHQ1YIbHfKhfJrlVkLdoD9S19OQ=s64",
      "userId": "13403832355809551391"
     },
     "user_tz": 180
    },
    "id": "q6_kdO2hHG-l",
    "outputId": "109d8154-7ed5-4da8-d6fb-93324efbfc32"
   },
   "outputs": [
    {
     "ename": "NameError",
     "evalue": "name 'line' is not defined",
     "output_type": "error",
     "traceback": [
      "\u001b[0;31m---------------------------------------------------------------------------\u001b[0m",
      "\u001b[0;31mNameError\u001b[0m                                 Traceback (most recent call last)",
      "\u001b[0;32m/tmp/ipykernel_77179/2234480581.py\u001b[0m in \u001b[0;36m<module>\u001b[0;34m\u001b[0m\n\u001b[1;32m      1\u001b[0m \u001b[0;32mwith\u001b[0m \u001b[0mopen\u001b[0m\u001b[0;34m(\u001b[0m\u001b[0;34m'poema.txt'\u001b[0m\u001b[0;34m)\u001b[0m \u001b[0;32mas\u001b[0m \u001b[0mf\u001b[0m\u001b[0;34m:\u001b[0m  \u001b[0;31m# At the end of this block, file will be closed\u001b[0m\u001b[0;34m\u001b[0m\u001b[0;34m\u001b[0m\u001b[0m\n\u001b[0;32m----> 2\u001b[0;31m     \u001b[0mprint\u001b[0m\u001b[0;34m(\u001b[0m\u001b[0mline\u001b[0m\u001b[0;34m,\u001b[0m \u001b[0mend\u001b[0m\u001b[0;34m=\u001b[0m\u001b[0;34m''\u001b[0m\u001b[0;34m)\u001b[0m\u001b[0;34m\u001b[0m\u001b[0;34m\u001b[0m\u001b[0m\n\u001b[0m\u001b[1;32m      3\u001b[0m     \u001b[0mf\u001b[0m\u001b[0;34m.\u001b[0m\u001b[0mwrite\u001b[0m\u001b[0;34m(\u001b[0m\u001b[0;34m'ERROR!'\u001b[0m\u001b[0;34m)\u001b[0m         \u001b[0;31m# force an error\u001b[0m\u001b[0;34m\u001b[0m\u001b[0;34m\u001b[0m\u001b[0m\n\u001b[1;32m      4\u001b[0m     \u001b[0mprint\u001b[0m\u001b[0;34m(\u001b[0m\u001b[0mline\u001b[0m\u001b[0;34m,\u001b[0m \u001b[0mend\u001b[0m\u001b[0;34m=\u001b[0m\u001b[0;34m''\u001b[0m\u001b[0;34m)\u001b[0m\u001b[0;34m\u001b[0m\u001b[0;34m\u001b[0m\u001b[0m\n",
      "\u001b[0;31mNameError\u001b[0m: name 'line' is not defined"
     ]
    }
   ],
   "source": [
    "with open('poema.txt') as f:  # At the end of this block, file will be closed        \n",
    "    print(line, end='')\n",
    "    f.write('ERROR!')         # force an error\n",
    "    print(line, end='')"
   ]
  },
  {
   "cell_type": "code",
   "execution_count": 10,
   "metadata": {
    "id": "Vvd4puwcHG_B",
    "outputId": "2f8c3bf9-4c15-48ca-8467-66dcfb068094"
   },
   "outputs": [
    {
     "data": {
      "text/plain": [
       "True"
      ]
     },
     "execution_count": 10,
     "metadata": {},
     "output_type": "execute_result"
    }
   ],
   "source": [
    "f.closed"
   ]
  },
  {
   "cell_type": "code",
   "execution_count": null,
   "metadata": {
    "id": "45D8AT6lHG_Y",
    "outputId": "f046cc58-2f96-4e5f-bfd8-d3bfa5ba06ef"
   },
   "outputs": [
    {
     "name": "stdout",
     "output_type": "stream",
     "text": [
      "Linea 0\n",
      "Linea 1\n",
      "Linea 2\n",
      "\n",
      "Linea 4. Me falta la linea 3!"
     ]
    }
   ],
   "source": [
    "with open('poema.txt') as f:\n",
    "    for linea in f:\n",
    "        print(linea, end='')"
   ]
  },
  {
   "cell_type": "markdown",
   "metadata": {
    "id": "QPZLZ8PJHG_6"
   },
   "source": [
    "Lo anterior levanta el archivo completo en memoria. Si estamos con algo grande (varios GB) podemos hacer algo mas eficiente y leer linea por linea.  \n",
    "Para eso podemos usar `iter()` o `enumerate()`\n",
    "\n"
   ]
  },
  {
   "cell_type": "code",
   "execution_count": 11,
   "metadata": {
    "id": "8u34vnGiHG_9"
   },
   "outputs": [],
   "source": [
    "with open('poema.txt') as f:\n",
    "    for linea in iter(f.readline, ''):\n",
    "        pass"
   ]
  },
  {
   "cell_type": "code",
   "execution_count": 12,
   "metadata": {
    "id": "yazfjQAJHHAF",
    "outputId": "b12642bf-88f2-444a-b730-843127f20020"
   },
   "outputs": [
    {
     "name": "stdout",
     "output_type": "stream",
     "text": [
      "Linea 0\n",
      "\n",
      "Linea 2\n",
      "\n",
      "Linea 4. Me falta la linea 3!\n"
     ]
    }
   ],
   "source": [
    "with open('poema.txt') as f:\n",
    "    for i, linea in enumerate(f):\n",
    "        if i % 2 == 0:  # print the even lines\n",
    "            print(linea)"
   ]
  },
  {
   "cell_type": "markdown",
   "metadata": {},
   "source": [
    "## Ejercicios \n",
    "\n",
    "### Sincrónicos"
   ]
  },
  {
   "cell_type": "markdown",
   "metadata": {
    "id": "nSCzv9YDNN9G"
   },
   "source": [
    "* Escribir una función que, dada la ruta de un archivo de texto, escriba otro archivo con igual nombre pero precedido por el prefijo \"upper_\" cuyo contenido es el del original, todo convertido a mayúsculas"
   ]
  },
  {
   "cell_type": "code",
   "execution_count": null,
   "metadata": {
    "id": "s34-y9gZHHAm"
   },
   "outputs": [],
   "source": []
  },
  {
   "cell_type": "markdown",
   "metadata": {
    "id": "kCGQWeVGzqWa"
   },
   "source": [
    "### Para investigar 🔎\n",
    "\n",
    "* ¿Cómo leer archivos `.json()`?\n",
    "* ¿Cómo guardar un objeto de python en un archivo?"
   ]
  },
  {
   "cell_type": "code",
   "execution_count": null,
   "metadata": {},
   "outputs": [],
   "source": []
  }
 ],
 "metadata": {
  "colab": {
   "collapsed_sections": [],
   "name": "15-Leer-y-escribir-archivos.ipynb",
   "provenance": []
  },
  "kernelspec": {
   "display_name": "Python 3 (ipykernel)",
   "language": "python",
   "name": "python3"
  },
  "language_info": {
   "codemirror_mode": {
    "name": "ipython",
    "version": 3
   },
   "file_extension": ".py",
   "mimetype": "text/x-python",
   "name": "python",
   "nbconvert_exporter": "python",
   "pygments_lexer": "ipython3",
   "version": "3.9.5"
  }
 },
 "nbformat": 4,
 "nbformat_minor": 4
}
