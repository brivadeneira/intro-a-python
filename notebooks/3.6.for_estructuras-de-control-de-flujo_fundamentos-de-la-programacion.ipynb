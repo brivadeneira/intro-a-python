{
 "cells": [
  {
   "cell_type": "markdown",
   "metadata": {
    "id": "pyLDlbh7InwM"
   },
   "source": [
    "# **MÓDULO 3 - FUNDAMENTOS DE LA PROGRAMACIÓN CON PYTHON**\n",
    "\n",
    "## Estructuras de control de flujo\n",
    "\n",
    "* `if`: ejecuta un bloque de código u otro según el resultado de evaluar una condición.\n",
    "* `for`: ejecuta un bloque de código una cantidad **definida** de veces.\n",
    "* `while`: ejecuta un bloque de código **hasta que** se deje de cumplir una condición determinada.\n",
    "* `try-except`: *intenta* ejecutar un bloque de código *catcheando* (o atajando) excepciones que ocurran en dicho intento y ejecutando así otro bloque de código."
   ]
  },
  {
   "cell_type": "markdown",
   "metadata": {},
   "source": [
    "### for\n",
    "\n",
    "Se ejecuta un bloque de código de manera repetitiva (**iteración**) *en loop* una **cantidad definida de veces**.\n",
    "\n",
    "![](https://files.realpython.com/media/t.ba63222d63f5.png)\n",
    "\n",
    "syntax:\n",
    "\n",
    "```python\n",
    "for <object> in <iterable_object>:\n",
    "    # do something\n",
    "```\n",
    "\n",
    "* objetos iterables conocidos: string, list, tuple, dict_keys, dict_values, set"
   ]
  },
  {
   "cell_type": "code",
   "execution_count": null,
   "metadata": {},
   "outputs": [],
   "source": []
  },
  {
   "cell_type": "markdown",
   "metadata": {},
   "source": [
    "#### ⚠️ identado\n",
    "\n",
    "4 espacios o *Tab* que preceden el bloque de código debajo de `:` e indican que ese bloque de código se debe ejecutar según el resultado de la expresión"
   ]
  },
  {
   "cell_type": "code",
   "execution_count": 94,
   "metadata": {},
   "outputs": [],
   "source": [
    "a_str = 'I am a string'"
   ]
  },
  {
   "cell_type": "code",
   "execution_count": 95,
   "metadata": {},
   "outputs": [
    {
     "name": "stdout",
     "output_type": "stream",
     "text": [
      "I\n",
      " \n",
      "a\n",
      "m\n",
      " \n",
      "a\n",
      " \n",
      "s\n",
      "t\n",
      "r\n",
      "i\n",
      "n\n",
      "g\n"
     ]
    }
   ],
   "source": [
    "for char in a_str:\n",
    "    print(char)"
   ]
  },
  {
   "cell_type": "code",
   "execution_count": 90,
   "metadata": {},
   "outputs": [],
   "source": [
    "a = ['foo', 'bar', 'baz']"
   ]
  },
  {
   "cell_type": "code",
   "execution_count": 92,
   "metadata": {},
   "outputs": [
    {
     "name": "stdout",
     "output_type": "stream",
     "text": [
      "foo\n",
      "bar\n",
      "baz\n"
     ]
    }
   ],
   "source": [
    "for word in a:\n",
    "    print(word)"
   ]
  },
  {
   "cell_type": "code",
   "execution_count": 93,
   "metadata": {},
   "outputs": [
    {
     "name": "stdout",
     "output_type": "stream",
     "text": [
      "foo\n",
      "bar\n",
      "baz\n",
      "spam\n"
     ]
    }
   ],
   "source": [
    "for word in a:\n",
    "    print(word)\n",
    "    \n",
    "print('spam')"
   ]
  },
  {
   "cell_type": "code",
   "execution_count": 96,
   "metadata": {},
   "outputs": [
    {
     "name": "stdout",
     "output_type": "stream",
     "text": [
      "Fiat 500\n",
      "1957\n",
      "30.1\n"
     ]
    }
   ],
   "source": [
    "car_features = ('Fiat 500', 1957, 30.1)\n",
    "for data in car_features:\n",
    "    print(data)"
   ]
  },
  {
   "cell_type": "code",
   "execution_count": 98,
   "metadata": {},
   "outputs": [],
   "source": [
    "amanita_muscaria = {\n",
    "    'Division':\t'Basidiomycota',\n",
    "    'Class': 'Agaricomycetes',\n",
    "    'Order': 'Agaricales',\n",
    "    'Family': 'Amanitaceae',\n",
    "    'Genus': 'Amanita',\n",
    "    'Species': 'A. muscaria',\n",
    "    'Discovered': ['(L.) Lam.', 1783]\n",
    "}"
   ]
  },
  {
   "cell_type": "code",
   "execution_count": 99,
   "metadata": {},
   "outputs": [
    {
     "name": "stdout",
     "output_type": "stream",
     "text": [
      "Division\n",
      "Class\n",
      "Order\n",
      "Family\n",
      "Genus\n",
      "Species\n",
      "Discovered\n"
     ]
    }
   ],
   "source": [
    "for k in amanita_muscaria.keys():\n",
    "    print(k)"
   ]
  },
  {
   "cell_type": "code",
   "execution_count": 101,
   "metadata": {},
   "outputs": [
    {
     "name": "stdout",
     "output_type": "stream",
     "text": [
      "Basidiomycota\n",
      "Agaricomycetes\n",
      "Agaricales\n",
      "Amanitaceae\n",
      "Amanita\n",
      "A. muscaria\n",
      "['(L.) Lam.', 1783]\n"
     ]
    }
   ],
   "source": [
    "for value in amanita_muscaria.values():\n",
    "    print(value)"
   ]
  },
  {
   "cell_type": "code",
   "execution_count": 103,
   "metadata": {},
   "outputs": [
    {
     "name": "stdout",
     "output_type": "stream",
     "text": [
      "('Division', 'Basidiomycota')\n",
      "('Class', 'Agaricomycetes')\n",
      "('Order', 'Agaricales')\n",
      "('Family', 'Amanitaceae')\n",
      "('Genus', 'Amanita')\n",
      "('Species', 'A. muscaria')\n",
      "('Discovered', ['(L.) Lam.', 1783])\n"
     ]
    }
   ],
   "source": [
    "for item in amanita_muscaria.items():\n",
    "    print(item)"
   ]
  },
  {
   "cell_type": "code",
   "execution_count": 104,
   "metadata": {},
   "outputs": [
    {
     "name": "stdout",
     "output_type": "stream",
     "text": [
      "Division\n",
      "Class\n",
      "Order\n",
      "Family\n",
      "Genus\n",
      "Species\n",
      "Discovered\n"
     ]
    }
   ],
   "source": [
    "for item in amanita_muscaria.items():\n",
    "    print(item[0])"
   ]
  },
  {
   "cell_type": "code",
   "execution_count": 105,
   "metadata": {},
   "outputs": [
    {
     "name": "stdout",
     "output_type": "stream",
     "text": [
      "Basidiomycota\n",
      "Agaricomycetes\n",
      "Agaricales\n",
      "Amanitaceae\n",
      "Amanita\n",
      "A. muscaria\n",
      "['(L.) Lam.', 1783]\n"
     ]
    }
   ],
   "source": [
    "for item in amanita_muscaria.items():\n",
    "    print(item[1])"
   ]
  },
  {
   "cell_type": "code",
   "execution_count": 106,
   "metadata": {},
   "outputs": [
    {
     "name": "stdout",
     "output_type": "stream",
     "text": [
      "cherry\n",
      "apple\n",
      "banana\n"
     ]
    }
   ],
   "source": [
    "for fruit in {\"apple\", \"banana\", \"cherry\", \"apple\"}:\n",
    "    print(fruit)"
   ]
  },
  {
   "cell_type": "markdown",
   "metadata": {},
   "source": [
    "#### continue"
   ]
  },
  {
   "cell_type": "code",
   "execution_count": 1,
   "metadata": {},
   "outputs": [
    {
     "name": "stdout",
     "output_type": "stream",
     "text": [
      "0\n",
      "1\n",
      "2\n",
      "3\n",
      "4\n",
      "5\n",
      "6\n",
      "7\n",
      "8\n",
      "9\n"
     ]
    }
   ],
   "source": [
    "for i in range(-2, 10):\n",
    "    if i < 0:\n",
    "        continue\n",
    "    print(i)"
   ]
  },
  {
   "cell_type": "markdown",
   "metadata": {},
   "source": [
    "#### range()\n",
    "\n",
    "Retorna un objecto que *produce* una secuencia de enteros desde un inicio dado (inclusive) hasta un fin dado **(exclusive)** espaciados según se indique.\n",
    "\n",
    "syntax:\n",
    "\n",
    "`range(start, stop, step)`"
   ]
  },
  {
   "cell_type": "code",
   "execution_count": 107,
   "metadata": {},
   "outputs": [
    {
     "name": "stdout",
     "output_type": "stream",
     "text": [
      "0\n",
      "1\n",
      "2\n",
      "3\n",
      "4\n"
     ]
    }
   ],
   "source": [
    "for i in range(5):\n",
    "    print(i)"
   ]
  },
  {
   "cell_type": "code",
   "execution_count": 108,
   "metadata": {},
   "outputs": [
    {
     "name": "stdout",
     "output_type": "stream",
     "text": [
      "1\n",
      "2\n",
      "3\n",
      "4\n"
     ]
    }
   ],
   "source": [
    "for i in range(1, 5):\n",
    "    print(i)"
   ]
  },
  {
   "cell_type": "code",
   "execution_count": 111,
   "metadata": {},
   "outputs": [
    {
     "name": "stdout",
     "output_type": "stream",
     "text": [
      "0\n",
      "2\n",
      "4\n",
      "6\n",
      "8\n"
     ]
    }
   ],
   "source": [
    "for i in range(0, 10, 2):\n",
    "    print(i)"
   ]
  },
  {
   "cell_type": "markdown",
   "metadata": {},
   "source": [
    "#### for inside for"
   ]
  },
  {
   "cell_type": "code",
   "execution_count": 112,
   "metadata": {},
   "outputs": [
    {
     "name": "stdout",
     "output_type": "stream",
     "text": [
      "cherry\n",
      "c\n",
      "h\n",
      "e\n",
      "r\n",
      "r\n",
      "y\n",
      "apple\n",
      "a\n",
      "p\n",
      "p\n",
      "l\n",
      "e\n",
      "banana\n",
      "b\n",
      "a\n",
      "n\n",
      "a\n",
      "n\n",
      "a\n"
     ]
    }
   ],
   "source": [
    "for fruit in {\"apple\", \"banana\", \"cherry\", \"apple\"}:\n",
    "    print(fruit)\n",
    "    for char in fruit:\n",
    "        print(char)"
   ]
  },
  {
   "cell_type": "markdown",
   "metadata": {},
   "source": [
    "#### for + if"
   ]
  },
  {
   "cell_type": "code",
   "execution_count": 113,
   "metadata": {},
   "outputs": [
    {
     "name": "stdout",
     "output_type": "stream",
     "text": [
      "0\n",
      "2\n",
      "4\n",
      "6\n",
      "8\n"
     ]
    }
   ],
   "source": [
    "for i in range(0, 10):\n",
    "    if i % 2 == 0:\n",
    "        print(i)"
   ]
  },
  {
   "cell_type": "code",
   "execution_count": 2,
   "metadata": {},
   "outputs": [
    {
     "data": {
      "text/plain": [
       "[0, 1, 2, 3, 4, 5, 6, 7, 8, 9]"
      ]
     },
     "execution_count": 2,
     "metadata": {},
     "output_type": "execute_result"
    }
   ],
   "source": [
    "ints_list = []\n",
    "\n",
    "for i in range(0, 10):\n",
    "    ints_list.append(i)\n",
    "    \n",
    "ints_list"
   ]
  },
  {
   "cell_type": "code",
   "execution_count": 3,
   "metadata": {},
   "outputs": [
    {
     "data": {
      "text/plain": [
       "[0, 1, 2, 3, 4, 5, 6, 7, 8, 9]"
      ]
     },
     "execution_count": 3,
     "metadata": {},
     "output_type": "execute_result"
    }
   ],
   "source": [
    "[i for i in range(0, 10)]"
   ]
  },
  {
   "cell_type": "code",
   "execution_count": 4,
   "metadata": {},
   "outputs": [
    {
     "data": {
      "text/plain": [
       "[0, 2, 4, 6, 8]"
      ]
     },
     "execution_count": 4,
     "metadata": {},
     "output_type": "execute_result"
    }
   ],
   "source": [
    "ints_list = []\n",
    "\n",
    "for i in range(0, 10):\n",
    "    if i % 2 == 0:\n",
    "        ints_list.append(i)\n",
    "    \n",
    "ints_list"
   ]
  },
  {
   "cell_type": "code",
   "execution_count": 6,
   "metadata": {},
   "outputs": [
    {
     "data": {
      "text/plain": [
       "[0, 2, 4, 6, 8]"
      ]
     },
     "execution_count": 6,
     "metadata": {},
     "output_type": "execute_result"
    }
   ],
   "source": [
    "[i for i in range(0, 10) if i % 2 == 0]"
   ]
  },
  {
   "cell_type": "code",
   "execution_count": 7,
   "metadata": {},
   "outputs": [
    {
     "data": {
      "text/plain": [
       "[1, 3, 5, 7, 9]"
      ]
     },
     "execution_count": 7,
     "metadata": {},
     "output_type": "execute_result"
    }
   ],
   "source": [
    "[i + 1 for i in range(0, 10) if i % 2 == 0]"
   ]
  },
  {
   "cell_type": "markdown",
   "metadata": {
    "id": "cHPe0U_hZDwa"
   },
   "source": [
    "## ✏️ Ejercicios for\n",
    "### Sincrónicos"
   ]
  },
  {
   "cell_type": "markdown",
   "metadata": {},
   "source": [
    "* Para todos los números enteros del 1 al 20, printear aquellos divisibles por 3."
   ]
  },
  {
   "cell_type": "code",
   "execution_count": null,
   "metadata": {},
   "outputs": [],
   "source": []
  },
  {
   "cell_type": "markdown",
   "metadata": {},
   "source": [
    "* Dado el siguiente set, printear las frutas cuyo nombre tengan más de 6 letras:"
   ]
  },
  {
   "cell_type": "code",
   "execution_count": 115,
   "metadata": {},
   "outputs": [],
   "source": [
    "fruits_set = {\"apple\", \"banana\", \"cherry\", \"apple\"}"
   ]
  },
  {
   "cell_type": "code",
   "execution_count": null,
   "metadata": {},
   "outputs": [],
   "source": []
  },
  {
   "cell_type": "markdown",
   "metadata": {},
   "source": [
    "* En base al set anterior, printear las frutas cuyo nombre contiene *al menos* **dos vocales**."
   ]
  },
  {
   "cell_type": "code",
   "execution_count": null,
   "metadata": {},
   "outputs": [],
   "source": []
  },
  {
   "cell_type": "markdown",
   "metadata": {},
   "source": [
    "#### Asincrónicos"
   ]
  },
  {
   "cell_type": "markdown",
   "metadata": {},
   "source": [
    "* Printear el modelo y año de los autos *small* de la siguiente lista:\n",
    "\n",
    "> Small\t< 130 cubic feet (3,680 l)  \n",
    "> Midsize\t130–159 cubic feet (3,680–4,500 l)  \n",
    "> Large\t≥ 160 cubic feet (4,530 l)"
   ]
  },
  {
   "cell_type": "code",
   "execution_count": 116,
   "metadata": {},
   "outputs": [],
   "source": [
    "cars = [\n",
    "#   (model, year, cubic feet)\n",
    "    ('Fiat 500', 1957, 30.1),\n",
    "    ('Rolls-Royce Phantom', 2017, 412),\n",
    "    ('VW Golf Mark 1', 1974, 52.7),\n",
    "    ('Honda Accord', 2022, 105.6)\n",
    "]"
   ]
  },
  {
   "cell_type": "code",
   "execution_count": null,
   "metadata": {},
   "outputs": [],
   "source": []
  },
  {
   "cell_type": "markdown",
   "metadata": {},
   "source": [
    "* Para el siguiente diccionario, printear *el nombre* de los hongos que hayan sido descubiertos después del año 1800."
   ]
  },
  {
   "cell_type": "code",
   "execution_count": 114,
   "metadata": {},
   "outputs": [],
   "source": [
    "fungi_dict = {\n",
    "    'Amanita muscaria': {\n",
    "        'Division':\t'Basidiomycota',\n",
    "        'Class': 'Agaricomycetes',\n",
    "        'Order': 'Agaricales',\n",
    "        'Family': 'Amanitaceae',\n",
    "        'Genus': 'Amanita',\n",
    "        'Species': 'A. muscaria',\n",
    "        'Discovered': ['(L.) Lam.', 1783]\n",
    "    },\n",
    "    'Parasola auricoma': {\n",
    "        'Division': 'Basidiomycota',\n",
    "        'Class': 'Agaricomycetes',\n",
    "        'Order': 'Agaricales',\n",
    "        'Genus': 'Parasola',\n",
    "        'Species': 'P. auricoma',\n",
    "        'Discovered': ['(Pat.) Redhead, Vilgalys & Hopple', 2001],\n",
    "        'photo_url': 'https://upload.wikimedia.org/wikipedia/commons/thumb/c/c5/2011-10-29_Parasola_auricoma_%28Pat.%29_Redhead%2C_Vilgalys_%26_Hopple_178226.jpg/1280px-2011-10-29_Parasola_auricoma_%28Pat.%29_Redhead%2C_Vilgalys_%26_Hopple_178226.jpg'\n",
    "    },\n",
    "    'Lactarius indigo': {},\n",
    "    'Calvatia': {\n",
    "        'Division':\t'Basidiomycota',\n",
    "        'Class': 'Agaricomycetes',\n",
    "        'Order': 'Agaricales',\n",
    "        'Family': 'Agaricaceae',\n",
    "        'Genus': 'Calvatia',\n",
    "        'Discoverd': ['Fries', 1849],\n",
    "        'photo_url': 'https://upload.wikimedia.org/wikipedia/commons/1/19/Calvatia_craniiformis.JPG'\n",
    "    }\n",
    "}"
   ]
  },
  {
   "cell_type": "code",
   "execution_count": null,
   "metadata": {},
   "outputs": [],
   "source": []
  },
  {
   "cell_type": "markdown",
   "metadata": {},
   "source": [
    "* En base al diccionario fungi, printear los pares key, value de aquellos hongos que contengan en su nombre, el nombre de quien los descubrió."
   ]
  },
  {
   "cell_type": "code",
   "execution_count": null,
   "metadata": {},
   "outputs": [],
   "source": []
  },
  {
   "cell_type": "markdown",
   "metadata": {},
   "source": [
    "> Más info: [control flow - python official](https://docs.python.org/es/3/tutorial/controlflow.html)  \n",
    "[conditial statements - real python](https://realpython.com/python-conditional-statements/)"
   ]
  }
 ],
 "metadata": {
  "colab": {
   "authorship_tag": "ABX9TyPrxtgJbn8JKn6K/emfVHeV",
   "name": "7.modulo_2-diccionarios.ipynb",
   "provenance": []
  },
  "kernelspec": {
   "display_name": "Python 3 (ipykernel)",
   "language": "python",
   "name": "python3"
  },
  "language_info": {
   "codemirror_mode": {
    "name": "ipython",
    "version": 3
   },
   "file_extension": ".py",
   "mimetype": "text/x-python",
   "name": "python",
   "nbconvert_exporter": "python",
   "pygments_lexer": "ipython3",
   "version": "3.9.12"
  }
 },
 "nbformat": 4,
 "nbformat_minor": 4
}
