{
 "cells": [
  {
   "cell_type": "markdown",
   "metadata": {
    "id": "pyLDlbh7InwM"
   },
   "source": [
    "# **MÓDULO 3 - FUNDAMENTOS DE LA PROGRAMACIÓN CON PYTHON**\n",
    "\n",
    "## Estructuras de datos\n",
    "\n",
    "* **list**: `[3, 2.0, 'eggs', [True, False]]`\n",
    "* **tuple**: `(598, 1655)`, `([1.5, True], [2.0, False])` \n",
    "* **dict**: `{'spam': 'eggs', 'eggs': 'spam'}`\n",
    "* **set**: `nums = {1, 2, 2, 3, 4, 4, 5, 5} -> {1, 2, 3, 4, 5}`"
   ]
  },
  {
   "cell_type": "markdown",
   "metadata": {
    "id": "tNVg2doauTIy"
   },
   "source": [
    "### dict\n",
    "\n",
    "Los diccionarios son estructuras de datos del tipo `key: value`.\n",
    "\n",
    "- Ordenados\n",
    "- Mutable\n",
    "- No admiten duplicados\n",
    "- No admiten mutables en las key\n",
    "\n",
    "syntax:\n",
    "\n",
    "`a_dict: {'key': 'value', 'key_2': 'value_2'}`"
   ]
  },
  {
   "cell_type": "code",
   "execution_count": null,
   "metadata": {},
   "outputs": [],
   "source": [
    "car_dict = {\n",
    "    \"brand\": \"Ford\",\n",
    "    \"model\": \"Mustang\",\n",
    "    \"year\": 1964\n",
    "}"
   ]
  },
  {
   "cell_type": "code",
   "execution_count": null,
   "metadata": {},
   "outputs": [],
   "source": [
    "car_dict"
   ]
  },
  {
   "cell_type": "code",
   "execution_count": null,
   "metadata": {},
   "outputs": [],
   "source": [
    "type(car_dict)"
   ]
  },
  {
   "cell_type": "code",
   "execution_count": null,
   "metadata": {},
   "outputs": [],
   "source": [
    "car_dict['brand']"
   ]
  },
  {
   "cell_type": "code",
   "execution_count": null,
   "metadata": {},
   "outputs": [],
   "source": [
    "car_dict['model']"
   ]
  },
  {
   "cell_type": "code",
   "execution_count": null,
   "metadata": {},
   "outputs": [],
   "source": [
    "car_dict['year']"
   ]
  },
  {
   "cell_type": "code",
   "execution_count": null,
   "metadata": {},
   "outputs": [],
   "source": [
    "type(car_dict['year'])"
   ]
  },
  {
   "cell_type": "markdown",
   "metadata": {},
   "source": [
    "### keys()\n",
    "\n",
    "Devuelve un *iterable* con las keys de un diccionario"
   ]
  },
  {
   "cell_type": "code",
   "execution_count": null,
   "metadata": {},
   "outputs": [],
   "source": [
    "car_dict.keys()"
   ]
  },
  {
   "cell_type": "markdown",
   "metadata": {},
   "source": [
    "### values()\n",
    "\n",
    "Devuelve un *iterable* con los valores del dict"
   ]
  },
  {
   "cell_type": "code",
   "execution_count": null,
   "metadata": {},
   "outputs": [],
   "source": [
    "car_dict.values()"
   ]
  },
  {
   "cell_type": "markdown",
   "metadata": {},
   "source": [
    "### items()\n",
    "\n",
    "Devuelve *un iterable* de **tuplas** con los pares *key, value*"
   ]
  },
  {
   "cell_type": "code",
   "execution_count": null,
   "metadata": {
    "colab": {
     "base_uri": "https://localhost:8080/"
    },
    "executionInfo": {
     "elapsed": 250,
     "status": "ok",
     "timestamp": 1634148090518,
     "user": {
      "displayName": "Valentina Coggan",
      "photoUrl": "https://lh3.googleusercontent.com/a/default-user=s64",
      "userId": "05309776279401351870"
     },
     "user_tz": 180
    },
    "id": "4aJhTmvT0LaX",
    "outputId": "20e13a45-1c5d-437d-f4ae-5631ba3c1fb1"
   },
   "outputs": [],
   "source": [
    "car_dict.values()"
   ]
  },
  {
   "cell_type": "code",
   "execution_count": null,
   "metadata": {
    "colab": {
     "base_uri": "https://localhost:8080/"
    },
    "executionInfo": {
     "elapsed": 242,
     "status": "ok",
     "timestamp": 1634148185271,
     "user": {
      "displayName": "Valentina Coggan",
      "photoUrl": "https://lh3.googleusercontent.com/a/default-user=s64",
      "userId": "05309776279401351870"
     },
     "user_tz": 180
    },
    "id": "FmVneHnm0hs3",
    "outputId": "766a83f4-5f18-45b8-c51a-7ca60591e5b9"
   },
   "outputs": [],
   "source": [
    "'model' in car_dict"
   ]
  },
  {
   "cell_type": "code",
   "execution_count": null,
   "metadata": {},
   "outputs": [],
   "source": [
    "'Ford' in car_dict"
   ]
  },
  {
   "cell_type": "markdown",
   "metadata": {
    "id": "2j5NoGw01t2s"
   },
   "source": [
    "### mutar un dict\n",
    "\n",
    "#### agregar pares key value"
   ]
  },
  {
   "cell_type": "code",
   "execution_count": null,
   "metadata": {
    "colab": {
     "base_uri": "https://localhost:8080/"
    },
    "executionInfo": {
     "elapsed": 245,
     "status": "ok",
     "timestamp": 1634148555564,
     "user": {
      "displayName": "Valentina Coggan",
      "photoUrl": "https://lh3.googleusercontent.com/a/default-user=s64",
      "userId": "05309776279401351870"
     },
     "user_tz": 180
    },
    "id": "bwCYLEkN153V",
    "outputId": "b92516bc-2cdd-4aca-95c5-6d4e3a0014a4"
   },
   "outputs": [],
   "source": [
    "car_dict['speed'] = [0, 168]"
   ]
  },
  {
   "cell_type": "code",
   "execution_count": null,
   "metadata": {},
   "outputs": [],
   "source": [
    "car_dict"
   ]
  },
  {
   "cell_type": "code",
   "execution_count": null,
   "metadata": {},
   "outputs": [],
   "source": [
    "car_dict.update({'versions': ('GT', 'Mach 1')})"
   ]
  },
  {
   "cell_type": "code",
   "execution_count": null,
   "metadata": {},
   "outputs": [],
   "source": [
    "car_dict"
   ]
  },
  {
   "cell_type": "markdown",
   "metadata": {},
   "source": [
    "#### remover pares key, value"
   ]
  },
  {
   "cell_type": "code",
   "execution_count": null,
   "metadata": {
    "colab": {
     "base_uri": "https://localhost:8080/"
    },
    "executionInfo": {
     "elapsed": 229,
     "status": "ok",
     "timestamp": 1634149789629,
     "user": {
      "displayName": "Valentina Coggan",
      "photoUrl": "https://lh3.googleusercontent.com/a/default-user=s64",
      "userId": "05309776279401351870"
     },
     "user_tz": 180
    },
    "id": "QpKLInvA5fCL",
    "outputId": "5bcffe29-28cc-49e3-8b13-f3c781e7d518"
   },
   "outputs": [],
   "source": [
    "car_dict.pop('speed')"
   ]
  },
  {
   "cell_type": "code",
   "execution_count": null,
   "metadata": {},
   "outputs": [],
   "source": [
    "car_dict"
   ]
  },
  {
   "cell_type": "code",
   "execution_count": null,
   "metadata": {
    "colab": {
     "base_uri": "https://localhost:8080/"
    },
    "executionInfo": {
     "elapsed": 226,
     "status": "ok",
     "timestamp": 1634149925808,
     "user": {
      "displayName": "Valentina Coggan",
      "photoUrl": "https://lh3.googleusercontent.com/a/default-user=s64",
      "userId": "05309776279401351870"
     },
     "user_tz": 180
    },
    "id": "EZB2Urz06w5M",
    "outputId": "7c8d1cba-6d21-4c6d-86a8-405874d14dcd"
   },
   "outputs": [],
   "source": [
    "car_dict.popitem() # remueve el último par key, value"
   ]
  },
  {
   "cell_type": "code",
   "execution_count": null,
   "metadata": {},
   "outputs": [],
   "source": [
    "car_dict"
   ]
  },
  {
   "cell_type": "markdown",
   "metadata": {
    "tags": []
   },
   "source": [
    "### ⚠️"
   ]
  },
  {
   "cell_type": "code",
   "execution_count": null,
   "metadata": {},
   "outputs": [],
   "source": [
    "another_car_dict = car_dict"
   ]
  },
  {
   "cell_type": "code",
   "execution_count": null,
   "metadata": {},
   "outputs": [],
   "source": [
    "another_car_dict"
   ]
  },
  {
   "cell_type": "code",
   "execution_count": null,
   "metadata": {},
   "outputs": [],
   "source": [
    "another_car_dict['speed'] = 168"
   ]
  },
  {
   "cell_type": "code",
   "execution_count": null,
   "metadata": {},
   "outputs": [],
   "source": [
    "another_car_dict"
   ]
  },
  {
   "cell_type": "code",
   "execution_count": null,
   "metadata": {},
   "outputs": [],
   "source": [
    "car_dict"
   ]
  },
  {
   "cell_type": "markdown",
   "metadata": {},
   "source": [
    "#### ⚠️"
   ]
  },
  {
   "cell_type": "markdown",
   "metadata": {},
   "source": [
    "¡usar `copy()`!"
   ]
  },
  {
   "cell_type": "code",
   "execution_count": null,
   "metadata": {},
   "outputs": [],
   "source": [
    "car_dict.popitem()"
   ]
  },
  {
   "cell_type": "code",
   "execution_count": null,
   "metadata": {},
   "outputs": [],
   "source": [
    "car_dict"
   ]
  },
  {
   "cell_type": "code",
   "execution_count": null,
   "metadata": {},
   "outputs": [],
   "source": [
    "car_dict_copy = car_dict.copy()"
   ]
  },
  {
   "cell_type": "code",
   "execution_count": null,
   "metadata": {},
   "outputs": [],
   "source": [
    "car_dict_copy['speed'] = 168\n",
    "car_dict_copy"
   ]
  },
  {
   "cell_type": "code",
   "execution_count": null,
   "metadata": {},
   "outputs": [],
   "source": [
    "car_dict"
   ]
  },
  {
   "cell_type": "markdown",
   "metadata": {},
   "source": [
    "## Ejercicios dict\n",
    "\n",
    "### Sincrónicos"
   ]
  },
  {
   "cell_type": "markdown",
   "metadata": {},
   "source": [
    "Dado el siguiente *diccionario de diccionarios*:"
   ]
  },
  {
   "cell_type": "code",
   "execution_count": null,
   "metadata": {},
   "outputs": [],
   "source": [
    "fungi_dict = {\n",
    "    'Amanita muscaria': {\n",
    "        'Division':\t'Basidiomycota',\n",
    "        'Class': 'Agaricomycetes',\n",
    "        'Order': 'Agaricales',\n",
    "        'Family': 'Amanitaceae',\n",
    "        'Genus': 'Amanita',\n",
    "        'Species': 'A. muscaria',\n",
    "        'Discovered': ['(L.) Lam.', 1783]\n",
    "    },\n",
    "    'Parasola auricoma': {\n",
    "        'Division': 'Basidiomycota',\n",
    "        'Class': 'Agaricomycetes',\n",
    "        'Order': 'Agaricales',\n",
    "        'Genus': 'Parasola',\n",
    "        'Species': 'P. auricoma',\n",
    "        'Discovered': ['(Pat.) Redhead, Vilgalys & Hopple', 2001],\n",
    "        'photo_url': 'https://upload.wikimedia.org/wikipedia/commons/thumb/c/c5/2011-10-29_Parasola_auricoma_%28Pat.%29_Redhead%2C_Vilgalys_%26_Hopple_178226.jpg/1280px-2011-10-29_Parasola_auricoma_%28Pat.%29_Redhead%2C_Vilgalys_%26_Hopple_178226.jpg'\n",
    "    },\n",
    "    'Lactarius indigo': {},\n",
    "    'Calvatia': {\n",
    "        'Division':\t'Basidiomycota',\n",
    "        'Class': 'Agaricomycetes',\n",
    "        'Order': 'Agaricales',\n",
    "        'Family': 'Agaricaceae',\n",
    "        'Genus': 'Calvatia',\n",
    "        'Discoverd': ['Fries', 1849],\n",
    "        'photo_url': 'https://upload.wikimedia.org/wikipedia/commons/1/19/Calvatia_craniiformis.JPG'\n",
    "    }\n",
    "}"
   ]
  },
  {
   "cell_type": "markdown",
   "metadata": {},
   "source": [
    "* Printear los nombres de los hongos almacenados en el dict"
   ]
  },
  {
   "cell_type": "code",
   "execution_count": null,
   "metadata": {},
   "outputs": [],
   "source": []
  },
  {
   "cell_type": "markdown",
   "metadata": {},
   "source": [
    "- Agregar el par key, value Family: Psathyrellaceae al hongo Parasola auricoma"
   ]
  },
  {
   "cell_type": "code",
   "execution_count": null,
   "metadata": {},
   "outputs": [],
   "source": []
  },
  {
   "cell_type": "markdown",
   "metadata": {},
   "source": [
    "* Eliminar el hongo sin información"
   ]
  },
  {
   "cell_type": "code",
   "execution_count": null,
   "metadata": {},
   "outputs": [],
   "source": []
  },
  {
   "cell_type": "markdown",
   "metadata": {},
   "source": [
    "#### Asincrónicos"
   ]
  },
  {
   "cell_type": "markdown",
   "metadata": {},
   "source": [
    "- Buscar y agregar la url de la foto faltante"
   ]
  },
  {
   "cell_type": "code",
   "execution_count": null,
   "metadata": {},
   "outputs": [],
   "source": []
  },
  {
   "cell_type": "markdown",
   "metadata": {},
   "source": [
    "* Agregar el siguiente hongo al dict:\n",
    "\n",
    "Lentinus\n",
    "- Division:\tBasidiomycota\n",
    "- Class:\tAgaricomycetes\n",
    "- Order:\tPolyporales\n",
    "- Family:\tPolyporaceae\n",
    "- Genus:\tLentinus\n",
    "- Photo: https://upload.wikimedia.org/wikipedia/commons/thumb/b/b9/2016-04-07_Lentinus_tigrinus_%28Bull.%29_Fr_611877.jpg/1280px-2016-04-07_Lentinus_tigrinus_%28Bull.%29_Fr_611877.jpg\n",
    "- Discovered: Lentinus crinitus (L.) Fr. (1825)"
   ]
  },
  {
   "cell_type": "code",
   "execution_count": null,
   "metadata": {},
   "outputs": [],
   "source": []
  },
  {
   "cell_type": "markdown",
   "metadata": {},
   "source": [
    "* Para cada hongo, determinar si su nombre *contiene* el nombre de quién lo descubrió\n",
    "> Cuidado con mayúsculas y minúsculas"
   ]
  },
  {
   "cell_type": "code",
   "execution_count": null,
   "metadata": {},
   "outputs": [],
   "source": []
  },
  {
   "cell_type": "markdown",
   "metadata": {},
   "source": [
    "* Calcular el rango de años en el que fueron descubiertos todos los hongos del dict"
   ]
  },
  {
   "cell_type": "code",
   "execution_count": null,
   "metadata": {},
   "outputs": [],
   "source": []
  },
  {
   "cell_type": "markdown",
   "metadata": {},
   "source": [
    "> Más info: [python dicts - real python](https://realpython.com/python-dicts/)"
   ]
  }
 ],
 "metadata": {
  "colab": {
   "authorship_tag": "ABX9TyPrxtgJbn8JKn6K/emfVHeV",
   "name": "7.modulo_2-diccionarios.ipynb",
   "provenance": []
  },
  "kernelspec": {
   "display_name": "Python 3 (ipykernel)",
   "language": "python",
   "name": "python3"
  },
  "language_info": {
   "codemirror_mode": {
    "name": "ipython",
    "version": 3
   },
   "file_extension": ".py",
   "mimetype": "text/x-python",
   "name": "python",
   "nbconvert_exporter": "python",
   "pygments_lexer": "ipython3",
   "version": "3.9.12"
  }
 },
 "nbformat": 4,
 "nbformat_minor": 4
}
