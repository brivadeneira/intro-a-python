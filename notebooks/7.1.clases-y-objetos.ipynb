{
 "cells": [
  {
   "cell_type": "markdown",
   "metadata": {
    "id": "g78HfW_TUL-3"
   },
   "source": [
    "# Clases y objetos"
   ]
  },
  {
   "cell_type": "markdown",
   "metadata": {
    "id": "YUkgCeGQUL-4"
   },
   "source": [
    "## Programación Orientada a Objetos\n",
    "*OOP*"
   ]
  },
  {
   "cell_type": "markdown",
   "metadata": {
    "id": "xNn0IOStUL-5"
   },
   "source": [
    "´aradigma de programación que utiliza ___objetos___ en sus interacciones.  \n",
    "Un objeto es una unidad dentro de un programa que consta de un estado y de un comportamiento.\n",
    "\n",
    "* Fomenta la reutilización y extensión del código.\n",
    "* Permite crear sistemas más complejos.\n",
    "* Relacionar el sistema al mundo real."
   ]
  },
  {
   "cell_type": "markdown",
   "metadata": {
    "id": "IH7iImrkUL_D"
   },
   "source": [
    "## Clases"
   ]
  },
  {
   "cell_type": "markdown",
   "metadata": {
    "id": "1SEwlbYvUL_E"
   },
   "source": [
    "Una clase es la __definición__ de las propiedades y comportamiento de un __tipo concreto de objeto__.  \n",
    "*es el molde de la galletita*\n",
    "\n",
    "![](https://encrypted-tbn0.gstatic.com/images?q=tbn:ANd9GcQUbl9JGDSMZf9f-kLD8_Gd0xASH0UpcIPcDw&usqp=CAU)"
   ]
  },
  {
   "cell_type": "markdown",
   "metadata": {
    "id": "Bigge0IgUL_G"
   },
   "source": [
    "La __instanciación__ de una clase es la creación de un objeto concreto a partir de las definiciones de una clase.\n",
    "*es la galletita con forma*.  \n",
    "Suponiendo el objeto **perro** que se quiere abstraer, relacionandolo con la realidad, las siguientes características resultan de interés:\n",
    "- `name`\n",
    "- `age`\n",
    "- `description()`\n",
    "- `speak()`"
   ]
  },
  {
   "cell_type": "markdown",
   "metadata": {
    "id": "FsOhruDgUL-6"
   },
   "source": [
    "### Estado, comportamiento e identidad"
   ]
  },
  {
   "cell_type": "markdown",
   "metadata": {
    "id": "LxCMbEngUL-8"
   },
   "source": [
    "El __estado__ de un objeto está definido por sus __atributos__, a los que se habrán asignado unos valores concretos. "
   ]
  },
  {
   "cell_type": "markdown",
   "metadata": {},
   "source": [
    "- `name`: \"Miles\"\n",
    "- `age`: 4"
   ]
  },
  {
   "cell_type": "markdown",
   "metadata": {
    "id": "PdriX3XhUL--"
   },
   "source": [
    "El __comportamiento__ de un objeto está definido por los métodos a los que sabe responder un objeto, es decir, a las operaciones que se pueden realizar con el."
   ]
  },
  {
   "cell_type": "markdown",
   "metadata": {},
   "source": [
    "- `description`: \"Miles is 4 years old\"\n",
    "- `speak`: \"Miles says Bow Wow\""
   ]
  },
  {
   "cell_type": "markdown",
   "metadata": {
    "id": "slDomGixUL_A"
   },
   "source": [
    "La __identidad__ de un objeto es una propiedad del mismo que lo diferencia del resto."
   ]
  },
  {
   "cell_type": "code",
   "execution_count": 1,
   "metadata": {},
   "outputs": [
    {
     "data": {
      "text/plain": [
       "140068261402032"
      ]
     },
     "execution_count": 1,
     "metadata": {},
     "output_type": "execute_result"
    }
   ],
   "source": [
    "a_str = \"I am a str\"\n",
    "id(a_str)"
   ]
  },
  {
   "cell_type": "markdown",
   "metadata": {
    "id": "V4A7CxzcUL_K"
   },
   "source": [
    "## Algunas características de la programación orientada a objetos"
   ]
  },
  {
   "cell_type": "markdown",
   "metadata": {
    "id": "Q7CWiirOUL_L"
   },
   "source": [
    "* __Abstracción__: Consiste en __enfatizar el comportamiento__ de un objeto, dejando de lado su funcionamiento interno\n",
    "* __Modularidad__: A grandes rasgos, consiste en separar un código en segmentos menores, o módulos, a fin de simplificar el desarrollo del programa."
   ]
  },
  {
   "cell_type": "markdown",
   "metadata": {
    "id": "YNnEWdBhUL_P"
   },
   "source": [
    "La __abstracción__ y la __modularidad__ hacen posible __importar módulos__ de un archivo a otro, esto aporta __simplicidad__ y permite __reciclar código__. "
   ]
  },
  {
   "cell_type": "markdown",
   "metadata": {
    "id": "XSW4Nvx6UL_R"
   },
   "source": [
    "## Creando clases y objetos a partir de ellas"
   ]
  },
  {
   "cell_type": "markdown",
   "metadata": {
    "id": "r7dyNTSjUL_S"
   },
   "source": [
    "Syntax:\n",
    "\n",
    "```python\n",
    "\n",
    "class ClassName(object):\n",
    "    \n",
    "    \"\"\"\n",
    "    class docstring\n",
    "    \"\"\"\n",
    "    \n",
    "    def __init__(self, attr1, attr2):\n",
    "        self.attr1 = attr1\n",
    "        self.attr2 = attr2\n",
    "        \n",
    "    def method1(self):\n",
    "        ... \n",
    "    def method2(self, parameter1, parameter2):\n",
    "        ... \n",
    "```\n",
    "\n",
    "*el molde*"
   ]
  },
  {
   "cell_type": "markdown",
   "metadata": {},
   "source": [
    "Para crear un objeto, es decir instanciar la clase recién definida la sintaxis es:\n",
    "\n",
    "```python\n",
    "an_object = ClassName(attr1, attr2)\n",
    "```"
   ]
  },
  {
   "cell_type": "markdown",
   "metadata": {
    "id": "IJKRe6kj4SWW"
   },
   "source": [
    "### Clase \"Dog\""
   ]
  },
  {
   "cell_type": "code",
   "execution_count": 2,
   "metadata": {},
   "outputs": [],
   "source": [
    "class Dog:\n",
    "    ..."
   ]
  },
  {
   "cell_type": "code",
   "execution_count": 6,
   "metadata": {},
   "outputs": [
    {
     "data": {
      "text/plain": [
       "<__main__.Dog at 0x7f642ea9ba90>"
      ]
     },
     "execution_count": 6,
     "metadata": {},
     "output_type": "execute_result"
    }
   ],
   "source": [
    "a_dog = Dog()\n",
    "a_dog"
   ]
  },
  {
   "cell_type": "markdown",
   "metadata": {},
   "source": [
    "Estado: atributos\n",
    "\n",
    "* `name`\n",
    "* `age`"
   ]
  },
  {
   "cell_type": "markdown",
   "metadata": {},
   "source": [
    "#### Constructor\n",
    "\n",
    "`def __init__(self, attr1, attr2, ...)`"
   ]
  },
  {
   "cell_type": "code",
   "execution_count": 9,
   "metadata": {},
   "outputs": [],
   "source": [
    "class Dog:\n",
    "    def __init__(self, name, age):\n",
    "        self.name = name\n",
    "        self.age = age"
   ]
  },
  {
   "cell_type": "code",
   "execution_count": 10,
   "metadata": {},
   "outputs": [
    {
     "ename": "TypeError",
     "evalue": "__init__() missing 2 required positional arguments: 'name' and 'age'",
     "output_type": "error",
     "traceback": [
      "\u001b[0;31m---------------------------------------------------------------------------\u001b[0m",
      "\u001b[0;31mTypeError\u001b[0m                                 Traceback (most recent call last)",
      "\u001b[0;32m/tmp/ipykernel_75256/3381080053.py\u001b[0m in \u001b[0;36m<module>\u001b[0;34m\u001b[0m\n\u001b[0;32m----> 1\u001b[0;31m \u001b[0ma_dog\u001b[0m \u001b[0;34m=\u001b[0m \u001b[0mDog\u001b[0m\u001b[0;34m(\u001b[0m\u001b[0;34m)\u001b[0m\u001b[0;34m\u001b[0m\u001b[0;34m\u001b[0m\u001b[0m\n\u001b[0m",
      "\u001b[0;31mTypeError\u001b[0m: __init__() missing 2 required positional arguments: 'name' and 'age'"
     ]
    }
   ],
   "source": [
    "a_dog = Dog()"
   ]
  },
  {
   "cell_type": "code",
   "execution_count": 11,
   "metadata": {},
   "outputs": [
    {
     "ename": "TypeError",
     "evalue": "__init__() missing 1 required positional argument: 'age'",
     "output_type": "error",
     "traceback": [
      "\u001b[0;31m---------------------------------------------------------------------------\u001b[0m",
      "\u001b[0;31mTypeError\u001b[0m                                 Traceback (most recent call last)",
      "\u001b[0;32m/tmp/ipykernel_75256/2393250110.py\u001b[0m in \u001b[0;36m<module>\u001b[0;34m\u001b[0m\n\u001b[0;32m----> 1\u001b[0;31m \u001b[0ma_dog\u001b[0m \u001b[0;34m=\u001b[0m \u001b[0mDog\u001b[0m\u001b[0;34m(\u001b[0m\u001b[0;34m\"Miles\"\u001b[0m\u001b[0;34m)\u001b[0m\u001b[0;34m\u001b[0m\u001b[0;34m\u001b[0m\u001b[0m\n\u001b[0m",
      "\u001b[0;31mTypeError\u001b[0m: __init__() missing 1 required positional argument: 'age'"
     ]
    }
   ],
   "source": [
    "a_dog = Dog(\"Miles\")"
   ]
  },
  {
   "cell_type": "code",
   "execution_count": 12,
   "metadata": {},
   "outputs": [],
   "source": [
    "a_dog = Dog(\"Miles\", 4)"
   ]
  },
  {
   "cell_type": "code",
   "execution_count": 13,
   "metadata": {},
   "outputs": [
    {
     "data": {
      "text/plain": [
       "<__main__.Dog at 0x7f642e1c4100>"
      ]
     },
     "execution_count": 13,
     "metadata": {},
     "output_type": "execute_result"
    }
   ],
   "source": [
    "a_dog"
   ]
  },
  {
   "cell_type": "code",
   "execution_count": 14,
   "metadata": {},
   "outputs": [
    {
     "data": {
      "text/plain": [
       "'Miles'"
      ]
     },
     "execution_count": 14,
     "metadata": {},
     "output_type": "execute_result"
    }
   ],
   "source": [
    "a_dog.name"
   ]
  },
  {
   "cell_type": "code",
   "execution_count": 15,
   "metadata": {},
   "outputs": [
    {
     "data": {
      "text/plain": [
       "4"
      ]
     },
     "execution_count": 15,
     "metadata": {},
     "output_type": "execute_result"
    }
   ],
   "source": [
    "a_dog.age"
   ]
  },
  {
   "cell_type": "markdown",
   "metadata": {},
   "source": [
    "Comportamiento: métodos\n",
    "\n",
    "* `description()`\n",
    "* `speak()`"
   ]
  },
  {
   "cell_type": "code",
   "execution_count": 16,
   "metadata": {},
   "outputs": [],
   "source": [
    "class Dog:\n",
    "    def __init__(self, name, age):\n",
    "        self.name = name\n",
    "        self.age = age\n",
    "        \n",
    "    def description(self):\n",
    "        return f\"{self.name} is {self.age} years old\"\n",
    "\n",
    "    def speak(self, sound):\n",
    "        return f\"{self.name} says {sound}\""
   ]
  },
  {
   "cell_type": "code",
   "execution_count": 17,
   "metadata": {},
   "outputs": [],
   "source": [
    "a_dog = Dog(\"Miles\", 4)"
   ]
  },
  {
   "cell_type": "code",
   "execution_count": 18,
   "metadata": {},
   "outputs": [
    {
     "data": {
      "text/plain": [
       "('Miles', 4)"
      ]
     },
     "execution_count": 18,
     "metadata": {},
     "output_type": "execute_result"
    }
   ],
   "source": [
    "a_dog.name, a_dog.age"
   ]
  },
  {
   "cell_type": "code",
   "execution_count": 19,
   "metadata": {},
   "outputs": [
    {
     "data": {
      "text/plain": [
       "'Miles is 4 years old'"
      ]
     },
     "execution_count": 19,
     "metadata": {},
     "output_type": "execute_result"
    }
   ],
   "source": [
    "a_dog.description()"
   ]
  },
  {
   "cell_type": "code",
   "execution_count": 20,
   "metadata": {},
   "outputs": [
    {
     "ename": "TypeError",
     "evalue": "speak() missing 1 required positional argument: 'sound'",
     "output_type": "error",
     "traceback": [
      "\u001b[0;31m---------------------------------------------------------------------------\u001b[0m",
      "\u001b[0;31mTypeError\u001b[0m                                 Traceback (most recent call last)",
      "\u001b[0;32m/tmp/ipykernel_75256/4023774946.py\u001b[0m in \u001b[0;36m<module>\u001b[0;34m\u001b[0m\n\u001b[0;32m----> 1\u001b[0;31m \u001b[0ma_dog\u001b[0m\u001b[0;34m.\u001b[0m\u001b[0mspeak\u001b[0m\u001b[0;34m(\u001b[0m\u001b[0;34m)\u001b[0m\u001b[0;34m\u001b[0m\u001b[0;34m\u001b[0m\u001b[0m\n\u001b[0m",
      "\u001b[0;31mTypeError\u001b[0m: speak() missing 1 required positional argument: 'sound'"
     ]
    }
   ],
   "source": [
    "a_dog.speak()"
   ]
  },
  {
   "cell_type": "code",
   "execution_count": 22,
   "metadata": {},
   "outputs": [
    {
     "data": {
      "text/plain": [
       "'Miles says WOOF WOOF'"
      ]
     },
     "execution_count": 22,
     "metadata": {},
     "output_type": "execute_result"
    }
   ],
   "source": [
    "a_dog.speak(\"WOOF WOOF\")"
   ]
  },
  {
   "cell_type": "markdown",
   "metadata": {},
   "source": [
    "#### Mejorando `print()` de dog"
   ]
  },
  {
   "cell_type": "code",
   "execution_count": 25,
   "metadata": {},
   "outputs": [
    {
     "name": "stdout",
     "output_type": "stream",
     "text": [
      "<__main__.Dog object at 0x7f642eab6a90>\n"
     ]
    }
   ],
   "source": [
    "print(a_dog)"
   ]
  },
  {
   "cell_type": "code",
   "execution_count": 26,
   "metadata": {},
   "outputs": [],
   "source": [
    "class Dog:\n",
    "    def __init__(self, name, age):\n",
    "        self.name = name\n",
    "        self.age = age\n",
    "        \n",
    "    def description(self):\n",
    "        return f\"{self.name} is {self.age} years old\"\n",
    "\n",
    "    def speak(self, sound):\n",
    "        return f\"{self.name} says {sound}\"\n",
    "    \n",
    "    def __str__(self):\n",
    "        return f\"{self.name} is {self.age} years old\""
   ]
  },
  {
   "cell_type": "code",
   "execution_count": 28,
   "metadata": {},
   "outputs": [],
   "source": [
    "a_dog = Dog(\"Miles\", 4)"
   ]
  },
  {
   "cell_type": "code",
   "execution_count": 29,
   "metadata": {},
   "outputs": [
    {
     "name": "stdout",
     "output_type": "stream",
     "text": [
      "Miles is 4 years old\n"
     ]
    }
   ],
   "source": [
    "print(a_dog)"
   ]
  },
  {
   "cell_type": "markdown",
   "metadata": {},
   "source": [
    "## Ejercicios clases y objetos\n",
    "### Sincrónicos"
   ]
  },
  {
   "cell_type": "markdown",
   "metadata": {},
   "source": [
    "* Agregar el atributo `breed` a la clase `Dog`."
   ]
  },
  {
   "cell_type": "code",
   "execution_count": null,
   "metadata": {},
   "outputs": [],
   "source": []
  },
  {
   "cell_type": "markdown",
   "metadata": {},
   "source": [
    "* Crear al menos dos objegos de la clase `Dog` con sus correspondientes razas."
   ]
  },
  {
   "cell_type": "code",
   "execution_count": null,
   "metadata": {},
   "outputs": [],
   "source": []
  },
  {
   "cell_type": "markdown",
   "metadata": {},
   "source": [
    "* Agregar a la clase el método `sniff` que reciba como parámetro un objeto del tipo `Dog`.\n",
    "> Cuando un *dog* invoque el método `sniff` sobre otro, ambos tendrán un nuevo amigo.  \n",
    "> Se requiere agregar el atributo `friends`."
   ]
  },
  {
   "cell_type": "code",
   "execution_count": null,
   "metadata": {},
   "outputs": [],
   "source": []
  },
  {
   "cell_type": "markdown",
   "metadata": {},
   "source": [
    "### Asincrónicos"
   ]
  },
  {
   "cell_type": "markdown",
   "metadata": {},
   "source": [
    "* Crear una clase llamada `Car` con los atributos:\n",
    "    * `model`\n",
    "    * `branch`\n",
    "    * `model`\n",
    "    * `year`\n",
    "    * `mileage`  \n",
    "y los métodos:  \n",
    "    * `drive` (modifica mileage)\n",
    "    * `park` (recibe lat y lon)"
   ]
  },
  {
   "cell_type": "code",
   "execution_count": null,
   "metadata": {},
   "outputs": [],
   "source": []
  },
  {
   "cell_type": "markdown",
   "metadata": {},
   "source": [
    "> Más info [oop real python](https://realpython.com/python3-object-oriented-programming/)"
   ]
  }
 ],
 "metadata": {
  "colab": {
   "name": "16.modulo_4.clases-y-objetos.ipynb",
   "provenance": []
  },
  "kernelspec": {
   "display_name": "Python 3 (ipykernel)",
   "language": "python",
   "name": "python3"
  },
  "language_info": {
   "codemirror_mode": {
    "name": "ipython",
    "version": 3
   },
   "file_extension": ".py",
   "mimetype": "text/x-python",
   "name": "python",
   "nbconvert_exporter": "python",
   "pygments_lexer": "ipython3",
   "version": "3.9.5"
  }
 },
 "nbformat": 4,
 "nbformat_minor": 4
}
