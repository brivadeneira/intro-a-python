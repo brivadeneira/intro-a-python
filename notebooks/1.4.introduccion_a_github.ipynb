{
 "cells": [
  {
   "cell_type": "markdown",
   "id": "940b2df5-49cd-4ee1-a6ba-e94ab819fe61",
   "metadata": {},
   "source": [
    "# **MÓDULO 1 - Github**"
   ]
  },
  {
   "cell_type": "markdown",
   "id": "9f72950d-dca8-4f38-9e43-ae7e5cb81d79",
   "metadata": {},
   "source": [
    "## [¿Qué es Github?](https://www.youtube.com/watch?v=w3jLJU7DT5E)\n",
    "\n",
    "GitHub es una plataforma web colaborativa que *usa git*. Permite crear repositorios públicos o privados, y ofrece herramientas varias para los equipos.\n",
    "\n",
    "![](https://i.imgur.com/CiVb0CK.png)"
   ]
  },
  {
   "cell_type": "markdown",
   "id": "a7c90640-af2d-4164-b652-5c3c6ab2242c",
   "metadata": {},
   "source": [
    "## Exporando un repositorio \n",
    "\n",
    "![](https://i.imgur.com/qF3NHGy.png)"
   ]
  },
  {
   "cell_type": "markdown",
   "id": "a661f4b1-3efd-4d20-abd3-31a8e59d7808",
   "metadata": {},
   "source": [
    "### README\n",
    "\n",
    "![](https://i.imgur.com/1E25Q53.png)\n",
    "\n",
    "*(README.txt o README.md)* Usualmente contiene:\n",
    "- Información general del sistema o proyecto que lo contiene.\n",
    "- Su estado.\n",
    "- Requisitos o requerimientos. \n",
    "- Una guía de instalación y funcionamiento.\n",
    "- Una lista de tecnologías empleadas.\n",
    "- Bugs conocidos y posibles fix.\n",
    "- Sección de preguntas frecuentes.\n",
    "- Información sobre derechos de autor y licencias.\n",
    "\n",
    "[Awesome README](https://github.com/matiassingers/awesome-readme)"
   ]
  },
  {
   "cell_type": "markdown",
   "id": "5f779c63-f510-448c-8cec-496d7e784d5e",
   "metadata": {},
   "source": [
    "### Issues\n",
    "\n",
    "En GitHub, un issue es la unidad de trabajo designada para realizar una mejora en un Sistema informático. Un issue puede ser el arreglo de un fallo, una característica pedida, una tarea, una solicitud de Documentación en específico y todo tipo de solicitud al equipo de desarrollo.\n",
    "\n",
    "![](https://i.imgur.com/zqudTRV.png)\n",
    "\n",
    "![](https://i.imgur.com/pLIerOg.png)"
   ]
  },
  {
   "cell_type": "markdown",
   "id": "e086308e-34a6-4e90-8c9c-672ec670056a",
   "metadata": {},
   "source": [
    "### Branch\n",
    "\n",
    "Crear una rama en GitHub.\n",
    "\n",
    "En la sección `code` click en el menú desplegable de la rama `main` (a partir de la que se creará la nueva rama). Nombrarla en el espacio disponible para escribir:\n",
    "\n",
    "![](https://i.imgur.com/7y5XOZI.png)"
   ]
  },
  {
   "cell_type": "markdown",
   "id": "afef4bca-5950-4892-bc03-2f2b5d8f178f",
   "metadata": {
    "jp-MarkdownHeadingCollapsed": true,
    "tags": []
   },
   "source": [
    "### Commit\n",
    "\n",
    "Para *commitear* un nuevo archivo, desde la sección `code`, en la branch correspondiente y en el botón (verde) `code` click en `Create new file`:\n",
    "\n",
    "![](https://i.imgur.com/KbQBrt8.png)\n",
    "\n",
    "Se definen el path y nombre del nuevo archivo así como su contenido en el editor:\n",
    "\n",
    "![](https://i.imgur.com/calU8LS.png)\n",
    "\n",
    "Se crea un commit, su tag y *opcionalmente* una descripción extendida.\n",
    "\n",
    "![](https://i.imgur.com/Uyj3I1J.png)"
   ]
  },
  {
   "cell_type": "markdown",
   "id": "8d8d9730-60dc-4ff7-bfef-6f41e12574c2",
   "metadata": {},
   "source": [
    "### Pull request\n",
    "\n",
    "Un Pull request (PR) es una solicitud para, potencialmente, *mergear* el código de una branch en particular a la principal. Se puede concebir como una petición de contribuir al proyecto. La deben aprobar quienes sean propietarios del proyecto.\n",
    "\n",
    "En la sección `Pull requests` click en el botón (verde) `New pull request`. A la izquierda la branch principal, a la que se desea contribuir, a la derecha la branch que se va a mergear.\n",
    "\n",
    "![](https://i.imgur.com/CuIUl3T.png)\n",
    "\n",
    "![](https://i.imgur.com/ey7pA3n.png)"
   ]
  },
  {
   "cell_type": "markdown",
   "id": "06e2e49f-1388-4832-b0e9-c423fe7e39c3",
   "metadata": {},
   "source": [
    "#### Changes requested\n",
    "\n",
    "Quien/quienes revisen el PR pueden hacer comentarios, editar archivos y *solicitar cambios* antes de mergear, esto se ve reflejado en la tab `Converation`:\n",
    "\n",
    "![](https://i.imgur.com/SYDqu7E.png)\n",
    "\n",
    "En la sección `Pull requests` y tab `Files changed` se pueden agregar cambios a la branch:\n",
    "\n",
    "![](https://i.imgur.com/WHSBSBB.png)"
   ]
  },
  {
   "cell_type": "markdown",
   "id": "f201515f-af90-46de-a1fc-57d94d47ba4e",
   "metadata": {},
   "source": [
    "#### Merge pull request\n",
    "\n",
    "Una vez que los cambios sean aprobados se habilita el botón de `merge pull request`, lo que va a *mergear* el contenido/los cambios de la branch en cuestión a la branch en la que se realiza el merge:\n",
    "\n",
    "![](https://i.imgur.com/j6sR7MQ.png)\n",
    "\n",
    "![](https://i.imgur.com/3JJkTCd.png)"
   ]
  },
  {
   "cell_type": "markdown",
   "id": "6b94aa12-0ecc-41de-82f1-1d2cdbf13139",
   "metadata": {},
   "source": [
    "> [Introducción a github interactiva](https://lab.github.com/githubtraining/introduction-to-github)  \n",
    "> [Github learning lab](https://lab.github.com/)  \n",
    "> [github pages](https://pages.github.com/)  "
   ]
  },
  {
   "cell_type": "markdown",
   "id": "d1b012f1-198a-4527-83aa-b2bf13631ce5",
   "metadata": {},
   "source": [
    "Seguir la guía [creating-a-personal-access-token](https://docs.github.com/es/authentication/keeping-your-account-and-data-secure/creating-a-personal-access-token)"
   ]
  }
 ],
 "metadata": {
  "kernelspec": {
   "display_name": "Python 3 (ipykernel)",
   "language": "python",
   "name": "python3"
  },
  "language_info": {
   "codemirror_mode": {
    "name": "ipython",
    "version": 3
   },
   "file_extension": ".py",
   "mimetype": "text/x-python",
   "name": "python",
   "nbconvert_exporter": "python",
   "pygments_lexer": "ipython3",
   "version": "3.9.12"
  }
 },
 "nbformat": 4,
 "nbformat_minor": 5
}
