{
 "cells": [
  {
   "cell_type": "markdown",
   "metadata": {
    "id": "pyLDlbh7InwM"
   },
   "source": [
    "# **MÓDULO 3 - FUNDAMENTOS DE LA PROGRAMACIÓN CON PYTHON**\n",
    "\n",
    "## Estructuras de datos\n",
    "\n",
    "* **list**: `[3, 2.0, 'eggs', [True, False]]`\n",
    "* **tuple**: `(598, 1655)`, `([1.5, True], [2.0, False])` \n",
    "* **dict**: `{'spam': 'eggs', 'eggs': 'spam'}`\n",
    "* **set**: `nums = {1, 2, 2, 3, 4, 4, 5, 5} -> {1, 2, 3, 4, 5}`"
   ]
  },
  {
   "cell_type": "markdown",
   "metadata": {
    "id": "kdZA3TdlFLlN"
   },
   "source": [
    "## set\n",
    "\n",
    "Responde a la definición matemática de *conjunto*.\n",
    "- No tiene orden, por ende no admite slicing.\n",
    "- No admite duplicados.\n",
    "- En general se usan para *remover duplicados* y *evaluar pertenencia a conjuntos*.\n",
    "\n",
    "syntax:\n",
    "\n",
    "`a_set = {} `"
   ]
  },
  {
   "cell_type": "code",
   "execution_count": null,
   "metadata": {
    "id": "mcUfScKmNIbI"
   },
   "outputs": [],
   "source": [
    "fruits_set = {\"apple\", \"banana\", \"cherry\"}\n",
    "fruits_set"
   ]
  },
  {
   "cell_type": "code",
   "execution_count": null,
   "metadata": {
    "id": "TCMaSzxZONDz"
   },
   "outputs": [],
   "source": [
    "fruits_set = {\"apple\", \"banana\", \"cherry\", \"apple\"}\n",
    "fruits_set"
   ]
  },
  {
   "cell_type": "code",
   "execution_count": null,
   "metadata": {},
   "outputs": [],
   "source": [
    "fruits_tuple = (\"apple\", \"banana\", \"cherry\")\n",
    "set(fruits_tuple)"
   ]
  },
  {
   "cell_type": "code",
   "execution_count": null,
   "metadata": {},
   "outputs": [],
   "source": [
    "fruits_list = (\"apple\", \"banana\", \"cherry\", \"banana\")\n",
    "set(fruits_list)"
   ]
  },
  {
   "cell_type": "markdown",
   "metadata": {
    "id": "_2Nk8I2CSF-X"
   },
   "source": [
    "### add()\n",
    "\n",
    "*Similar a append()*, agrega un elemento a un `set`. "
   ]
  },
  {
   "cell_type": "code",
   "execution_count": null,
   "metadata": {
    "id": "lKAW-thvSc-f"
   },
   "outputs": [],
   "source": [
    "ints_set = {1, 2, 3}"
   ]
  },
  {
   "cell_type": "code",
   "execution_count": null,
   "metadata": {
    "id": "XWMVJIXtSuau"
   },
   "outputs": [],
   "source": [
    "ints_set.add(4)\n",
    "ints_set"
   ]
  },
  {
   "cell_type": "markdown",
   "metadata": {},
   "source": [
    "### update()\n",
    "\n",
    "Agrega *un conjunto de elementos* a un `set`."
   ]
  },
  {
   "cell_type": "code",
   "execution_count": null,
   "metadata": {
    "id": "7PFz911dT3oG"
   },
   "outputs": [],
   "source": [
    "nineteens_bands = {'Nirvana', 'Alice In Chains', 'Soundgarden', 'Green Day', 'Radiohead', 'Pearl Jam'}\n",
    "nineteens_bands"
   ]
  },
  {
   "cell_type": "code",
   "execution_count": null,
   "metadata": {},
   "outputs": [],
   "source": [
    "nineteens_bands.update(['R.E.M', 'Foo Fighters', 'Red Hot Chili Peppers', 'Pantera'])\n",
    "nineteens_bands"
   ]
  },
  {
   "cell_type": "markdown",
   "metadata": {
    "id": "y7bY1DjbVLlu"
   },
   "source": [
    "### remove()\n",
    "\n",
    "Remueve un elemento dado de un set si este lo contiene, de lo contrario *retorna error*."
   ]
  },
  {
   "cell_type": "code",
   "execution_count": null,
   "metadata": {
    "id": "WLcZtie8ZJsr"
   },
   "outputs": [],
   "source": [
    "fruits_set = {\"apple\", \"banana\", \"cherry\", \"apple\"}\n",
    "fruits_set"
   ]
  },
  {
   "cell_type": "code",
   "execution_count": null,
   "metadata": {},
   "outputs": [],
   "source": [
    "fruits_set.remove(\"banana\")\n",
    "fruits_set"
   ]
  },
  {
   "cell_type": "code",
   "execution_count": null,
   "metadata": {},
   "outputs": [],
   "source": [
    "fruits_set.remove(\"banana\")\n",
    "fruits_set"
   ]
  },
  {
   "cell_type": "markdown",
   "metadata": {},
   "source": [
    "### discard()\n",
    "\n",
    "Remueve un elemento dado de un set si este lo contiene."
   ]
  },
  {
   "cell_type": "code",
   "execution_count": null,
   "metadata": {
    "id": "yTEJu4hVZMxM"
   },
   "outputs": [],
   "source": [
    "fruits_set = {\"apple\", \"banana\", \"cherry\", \"apple\"}\n",
    "fruits_set"
   ]
  },
  {
   "cell_type": "code",
   "execution_count": null,
   "metadata": {},
   "outputs": [],
   "source": [
    "fruits_set.discard(\"banana\")\n",
    "fruits_set"
   ]
  },
  {
   "cell_type": "code",
   "execution_count": null,
   "metadata": {},
   "outputs": [],
   "source": [
    "fruits_set.discard(\"banana\")\n",
    "fruits_set"
   ]
  },
  {
   "cell_type": "markdown",
   "metadata": {},
   "source": [
    "### set operations\n",
    "\n",
    "![](https://i.pinimg.com/originals/92/74/49/927449ed2c05f7cabe41d12d0db4c0ac.png)"
   ]
  },
  {
   "cell_type": "code",
   "execution_count": null,
   "metadata": {},
   "outputs": [],
   "source": [
    "a_set = {'star', 'square', 'rectangle', 'circle', 'triangle'}\n",
    "another_set = {'square', 'rectangle', 'rect', 'point'}"
   ]
  },
  {
   "cell_type": "markdown",
   "metadata": {},
   "source": [
    "#### `∪` union"
   ]
  },
  {
   "cell_type": "code",
   "execution_count": null,
   "metadata": {},
   "outputs": [],
   "source": [
    "a_set.union(another_set)"
   ]
  },
  {
   "cell_type": "code",
   "execution_count": null,
   "metadata": {},
   "outputs": [],
   "source": [
    "another_set.union(a_set)"
   ]
  },
  {
   "cell_type": "markdown",
   "metadata": {},
   "source": [
    "#### `∩` intersection"
   ]
  },
  {
   "cell_type": "code",
   "execution_count": null,
   "metadata": {},
   "outputs": [],
   "source": [
    "a_set.intersection(another_set)"
   ]
  },
  {
   "cell_type": "code",
   "execution_count": null,
   "metadata": {},
   "outputs": [],
   "source": [
    "another_set.intersection(a_set)"
   ]
  },
  {
   "cell_type": "markdown",
   "metadata": {},
   "source": [
    "### Para investigar\n",
    "\n",
    "¿Cómo se comporta el método `intersection_update()`?  \n",
    "¿Qué recibe?  \n",
    "¿Qué retorna?  "
   ]
  },
  {
   "cell_type": "markdown",
   "metadata": {},
   "source": [
    "#### difference"
   ]
  },
  {
   "cell_type": "code",
   "execution_count": null,
   "metadata": {},
   "outputs": [],
   "source": [
    "a_set.difference(another_set)"
   ]
  },
  {
   "cell_type": "code",
   "execution_count": null,
   "metadata": {},
   "outputs": [],
   "source": [
    "another_set.difference(a_set)"
   ]
  },
  {
   "cell_type": "markdown",
   "metadata": {},
   "source": [
    "### Para investigar\n",
    "\n",
    "¿Cómo se comporta el método `difference_update()`?  \n",
    "¿Qué recibe?  \n",
    "¿Qué retorna?  "
   ]
  },
  {
   "cell_type": "markdown",
   "metadata": {},
   "source": [
    "#### symetric difference"
   ]
  },
  {
   "cell_type": "code",
   "execution_count": null,
   "metadata": {},
   "outputs": [],
   "source": [
    "a_set.symmetric_difference(another_set)"
   ]
  },
  {
   "cell_type": "code",
   "execution_count": null,
   "metadata": {},
   "outputs": [],
   "source": [
    "another_set.symmetric_difference(a_set)"
   ]
  },
  {
   "cell_type": "markdown",
   "metadata": {},
   "source": [
    "## Ejercicios set\n",
    "\n",
    "### Sincrónicos"
   ]
  },
  {
   "cell_type": "markdown",
   "metadata": {},
   "source": [
    "Dadas las siguientes listas de jugadores elegidos MVP en la NBA:"
   ]
  },
  {
   "cell_type": "code",
   "execution_count": null,
   "metadata": {},
   "outputs": [],
   "source": [
    "boston_celtic_mvps = [\n",
    "    \"Bob Cousy\",\n",
    "    \"Larry Bird\",\n",
    "    \"Bill Russell\",\n",
    "    \"Bill Russell\",\n",
    "    \"Bill Russell\",\n",
    "    \"Bill Russell\",\n",
    "    \"Bill Russell\",\n",
    "    \"Dave Cowens\",\n",
    "    \"Larry Bird\",\n",
    "    \"Larry Bird\"\n",
    "]"
   ]
  },
  {
   "cell_type": "code",
   "execution_count": null,
   "metadata": {},
   "outputs": [],
   "source": [
    "chicago_bulls_mvps = [\n",
    "    \"Michael Jordan\",\n",
    "    \"Michael Jordan\",\n",
    "    \"Michael Jordan\",\n",
    "    \"Michael Jordan\",\n",
    "    \"Michael Jordan\",\n",
    "    \"Derrick Rose\"\n",
    "]"
   ]
  },
  {
   "cell_type": "code",
   "execution_count": null,
   "metadata": {},
   "outputs": [],
   "source": [
    "houston_rockets_mvps = [\n",
    "    \"Moses Malone\",\n",
    "    \"Moses Malone\",\n",
    "    \"Hakeem Olajuwon\",\n",
    "    \"James Harden\"\n",
    "]"
   ]
  },
  {
   "cell_type": "code",
   "execution_count": null,
   "metadata": {},
   "outputs": [],
   "source": [
    "power_forward_mvps = [\n",
    "    \"Wes Unseld\",\n",
    "    \"Bill Russell\",\n",
    "    \"Bill Russell\",\n",
    "    \"Bill Russell\",\n",
    "    \"Bill Russell\",\n",
    "    \"Bill Russell\",\n",
    "    \"Dave Cowens\"\n",
    "]"
   ]
  },
  {
   "cell_type": "code",
   "execution_count": null,
   "metadata": {},
   "outputs": [],
   "source": [
    "point_guard_mvps = [\n",
    "    \"Bob Cousy\",\n",
    "    \"Derrick Rose\",\n",
    "    \"Oscar Robertson\"\n",
    "]"
   ]
  },
  {
   "cell_type": "code",
   "execution_count": null,
   "metadata": {},
   "outputs": [],
   "source": [
    "small_forward_mvps = [\n",
    "    \"Wes Unseld\",\n",
    "    \"Larry Bird\",\n",
    "    \"Larry Bird\",\n",
    "    \"Larry Bird\"\n",
    "]"
   ]
  },
  {
   "cell_type": "markdown",
   "metadata": {},
   "source": [
    "* Printear el nombre de cada jugador que fue elegido MVP al menos una vez"
   ]
  },
  {
   "cell_type": "code",
   "execution_count": null,
   "metadata": {},
   "outputs": [],
   "source": []
  },
  {
   "cell_type": "markdown",
   "metadata": {},
   "source": [
    "* Printear el nombre de los jugadores que hayan obtenido el título de MVP con Boston Celtic o Chicago Bulls"
   ]
  },
  {
   "cell_type": "code",
   "execution_count": null,
   "metadata": {},
   "outputs": [],
   "source": []
  },
  {
   "cell_type": "markdown",
   "metadata": {},
   "source": [
    "### Asincrónicos"
   ]
  },
  {
   "cell_type": "markdown",
   "metadata": {},
   "source": [
    "* Printear el nombre de los jugadores que hayan sido elegidos MVP con Houston Rockets en la posición de power forward (o pivot)"
   ]
  },
  {
   "cell_type": "code",
   "execution_count": null,
   "metadata": {},
   "outputs": [],
   "source": []
  },
  {
   "cell_type": "markdown",
   "metadata": {},
   "source": [
    "* Printear el nombre de los jugadores MVP que NO hayan obtenido ese título como point guard (o base)"
   ]
  },
  {
   "cell_type": "code",
   "execution_count": null,
   "metadata": {},
   "outputs": [],
   "source": []
  },
  {
   "cell_type": "markdown",
   "metadata": {},
   "source": [
    "> Más info: [sets in python - real python](https://realpython.com/python-sets/)"
   ]
  }
 ],
 "metadata": {
  "colab": {
   "name": "6.modulo_2-tuplas-sets.ipynb",
   "provenance": []
  },
  "kernelspec": {
   "display_name": "Python 3 (ipykernel)",
   "language": "python",
   "name": "python3"
  },
  "language_info": {
   "codemirror_mode": {
    "name": "ipython",
    "version": 3
   },
   "file_extension": ".py",
   "mimetype": "text/x-python",
   "name": "python",
   "nbconvert_exporter": "python",
   "pygments_lexer": "ipython3",
   "version": "3.9.12"
  }
 },
 "nbformat": 4,
 "nbformat_minor": 4
}
