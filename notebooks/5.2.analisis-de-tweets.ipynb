{
 "cells": [
  {
   "cell_type": "markdown",
   "id": "41154291-76ee-416d-8106-9d47c52b272f",
   "metadata": {
    "id": "41154291-76ee-416d-8106-9d47c52b272f"
   },
   "source": [
    "# Análisis de tweets\n",
    "\n",
    "*Elon Musk*\n",
    "\n",
    "Se facilita una lista de `dict` con datos reales de ventas con las siguientes keys:\n",
    "\n",
    "* 'Unnamed: 0'\n",
    "* 'id'\n",
    "* 'conversation_id'\n",
    "* 'created_at'\n",
    "* 'date'\n",
    "* 'timezone'\n",
    "* 'place'\n",
    "* 'tweet'\n",
    "* 'language'\n",
    "* 'hashtags'\n",
    "* 'cashtags'\n",
    "* 'user_id'\n",
    "* 'user_id_str'\n",
    "* 'username'\n",
    "* 'name'\n",
    "* 'day'\n",
    "* 'hour'\n",
    "* 'link'\n",
    "* 'urls'\n",
    "* 'photos'\n",
    "* 'video'\n",
    "* 'thumbnail'\n",
    "* 'retweet'\n",
    "* 'nlikes'\n",
    "* 'nreplies'\n",
    "* 'nretweets'\n",
    "* 'quote_url'\n",
    "* 'search'\n",
    "* 'near'\n",
    "* 'geo'\n",
    "* 'source'\n",
    "* 'user_rt_id'\n",
    "* 'user_rt'\n",
    "* 'retweet_id'\n",
    "* 'reply_to'\n",
    "* 'retweet_date'\n",
    "* 'translate'\n",
    "* 'trans_src'\n",
    "* 'trans_dest'\n",
    "\n",
    "y values de diferentes tipos:"
   ]
  },
  {
   "cell_type": "code",
   "execution_count": 5,
   "id": "b5d05795-bd04-427e-b8f4-004b9b52f160",
   "metadata": {},
   "outputs": [],
   "source": [
    "import pickle\n",
    "\n",
    "with open('elon_tweets.pickle', 'rb') as handle:\n",
    "    elon_tweets = pickle.load(handle)"
   ]
  },
  {
   "cell_type": "code",
   "execution_count": 6,
   "id": "17c10c0e-fa4e-4175-8ddc-ee4767d2bbf8",
   "metadata": {},
   "outputs": [
    {
     "data": {
      "text/plain": [
       "[{'Unnamed: 0': 0,\n",
       "  'id': 15434727182,\n",
       "  'conversation_id': 15434727182,\n",
       "  'created_at': 1275676317000.0,\n",
       "  'date': '2010-06-04 18:31:57',\n",
       "  'timezone': 0,\n",
       "  'place': nan,\n",
       "  'tweet': 'Please ignore prior tweets, as that was someone pretending to be me :)  This is actually me.',\n",
       "  'language': 'en',\n",
       "  'hashtags': '[]',\n",
       "  'cashtags': '[]',\n",
       "  'user_id': 44196397,\n",
       "  'user_id_str': 44196397,\n",
       "  'username': 'elonmusk',\n",
       "  'name': 'Elon Musk',\n",
       "  'day': 5,\n",
       "  'hour': 18,\n",
       "  'link': 'https://twitter.com/elonmusk/status/15434727182',\n",
       "  'urls': '[]',\n",
       "  'photos': '[]',\n",
       "  'video': 0,\n",
       "  'thumbnail': nan,\n",
       "  'retweet': False,\n",
       "  'nlikes': 4652,\n",
       "  'nreplies': 391,\n",
       "  'nretweets': 348,\n",
       "  'quote_url': nan,\n",
       "  'search': 'None',\n",
       "  'near': nan,\n",
       "  'geo': nan,\n",
       "  'source': nan,\n",
       "  'user_rt_id': nan,\n",
       "  'user_rt': nan,\n",
       "  'retweet_id': nan,\n",
       "  'reply_to': '[]',\n",
       "  'retweet_date': nan,\n",
       "  'translate': nan,\n",
       "  'trans_src': nan,\n",
       "  'trans_dest': nan},\n",
       " {'Unnamed: 0': 0,\n",
       "  'id': 679163784062107649,\n",
       "  'conversation_id': 679163784062107649,\n",
       "  'created_at': 1450760239000.0,\n",
       "  'date': '2015-12-22 04:57:19',\n",
       "  'timezone': 0,\n",
       "  'place': nan,\n",
       "  'tweet': 'High res video of landing from the helo  https://t.co/G0Yq2V5J3m',\n",
       "  'language': 'en',\n",
       "  'hashtags': '[]',\n",
       "  'cashtags': '[]',\n",
       "  'user_id': 44196397,\n",
       "  'user_id_str': 44196397,\n",
       "  'username': 'elonmusk',\n",
       "  'name': 'Elon Musk',\n",
       "  'day': 2,\n",
       "  'hour': 4,\n",
       "  'link': 'https://twitter.com/elonmusk/status/679163784062107649',\n",
       "  'urls': \"['https://m.youtube.com/watch?v=ZCBE8ocOkAQ&feature=youtu.be']\",\n",
       "  'photos': '[]',\n",
       "  'video': 0,\n",
       "  'thumbnail': nan,\n",
       "  'retweet': False,\n",
       "  'nlikes': 9953,\n",
       "  'nreplies': 610,\n",
       "  'nretweets': 6896,\n",
       "  'quote_url': nan,\n",
       "  'search': 'None',\n",
       "  'near': nan,\n",
       "  'geo': nan,\n",
       "  'source': nan,\n",
       "  'user_rt_id': nan,\n",
       "  'user_rt': nan,\n",
       "  'retweet_id': nan,\n",
       "  'reply_to': '[]',\n",
       "  'retweet_date': nan,\n",
       "  'translate': nan,\n",
       "  'trans_src': nan,\n",
       "  'trans_dest': nan},\n",
       " {'Unnamed: 0': 1,\n",
       "  'id': 679145544673923072,\n",
       "  'conversation_id': 679145544673923072,\n",
       "  'created_at': 1450755890000.0,\n",
       "  'date': '2015-12-22 03:44:50',\n",
       "  'timezone': 0,\n",
       "  'place': nan,\n",
       "  'tweet': 'Live video from LZ-1  https://t.co/Ve6gEXfOdh',\n",
       "  'language': 'en',\n",
       "  'hashtags': '[]',\n",
       "  'cashtags': '[]',\n",
       "  'user_id': 44196397,\n",
       "  'user_id_str': 44196397,\n",
       "  'username': 'elonmusk',\n",
       "  'name': 'Elon Musk',\n",
       "  'day': 2,\n",
       "  'hour': 3,\n",
       "  'link': 'https://twitter.com/elonmusk/status/679145544673923072',\n",
       "  'urls': '[]',\n",
       "  'photos': '[]',\n",
       "  'video': 1,\n",
       "  'thumbnail': 'https://pbs.twimg.com/ext_tw_video_thumb/679145419507548161/pu/img/6DQ1zHR6pVDCJdeV.jpg',\n",
       "  'retweet': False,\n",
       "  'nlikes': 10710,\n",
       "  'nreplies': 373,\n",
       "  'nretweets': 5027,\n",
       "  'quote_url': nan,\n",
       "  'search': 'None',\n",
       "  'near': nan,\n",
       "  'geo': nan,\n",
       "  'source': nan,\n",
       "  'user_rt_id': nan,\n",
       "  'user_rt': nan,\n",
       "  'retweet_id': nan,\n",
       "  'reply_to': '[]',\n",
       "  'retweet_date': nan,\n",
       "  'translate': nan,\n",
       "  'trans_src': nan,\n",
       "  'trans_dest': nan}]"
      ]
     },
     "execution_count": 6,
     "metadata": {},
     "output_type": "execute_result"
    }
   ],
   "source": [
    "elon_tweets[0:3]"
   ]
  },
  {
   "cell_type": "markdown",
   "id": "bd775d37-d9b6-457f-acf3-6cf561dbc27f",
   "metadata": {},
   "source": [
    "Responder los siguientes interrogantes de interés, para lo que se requiere:\n",
    "\n",
    "* Inspeccionar los datos\n",
    "* Formatearlos adecuadamente\n",
    "* Elegir y confeccionar nuevas estructuras de datos"
   ]
  },
  {
   "cell_type": "code",
   "execution_count": null,
   "id": "9d7c9580-c873-4e53-aa64-5515982f9ee2",
   "metadata": {},
   "outputs": [],
   "source": []
  },
  {
   "cell_type": "markdown",
   "id": "65b001ce-12b7-4b6a-b5e0-f067307d5c3a",
   "metadata": {
    "id": "65b001ce-12b7-4b6a-b5e0-f067307d5c3a"
   },
   "source": [
    "**1)** ¿Cuáles son los tweets (3) más populares *por año*? *(mayor cantidad de likes y retweets)*\n",
    "> Deben ser tweets y no retweets o respuestas."
   ]
  },
  {
   "cell_type": "code",
   "execution_count": null,
   "id": "3ec4c0a0-4aec-4756-bf25-0a4e79242293",
   "metadata": {},
   "outputs": [],
   "source": []
  },
  {
   "cell_type": "markdown",
   "id": "111cd58e-7c14-437c-9a58-d269504d3dc6",
   "metadata": {
    "id": "111cd58e-7c14-437c-9a58-d269504d3dc6"
   },
   "source": [
    "**2)** ¿Cuáles son las palabras más frecuentes en esos tweets? ¿Se puede inferir alguna conclusión sobre *los sentimientos* de dichos tweets?\n",
    "> Obviar las *stop_words*"
   ]
  },
  {
   "cell_type": "code",
   "execution_count": 11,
   "id": "bef35c63-34ac-4113-b85b-98f218116560",
   "metadata": {},
   "outputs": [],
   "source": [
    "en_stop_words = ['a', 'about', 'above', 'after', 'again', 'against', 'ain', 'all', 'am', 'an', 'and', 'any', 'are', 'aren', \"aren't\", 'as', 'at', 'be', 'because', \n",
    "                 'been', 'before', 'being', 'below', 'between', 'both', 'but', 'by', 'can', 'couldn', \"couldn't\", 'd', 'did', 'didn', \"didn't\", 'do', 'does', 'doesn', \n",
    "                 \"doesn't\", 'doing', 'don', \"don't\", 'down', 'during', 'each', 'few', 'for', 'from', 'further', 'had', 'hadn', \"hadn't\", 'has', 'hasn', \"hasn't\", \n",
    "                 'have', 'haven', \"haven't\", 'having', 'he', 'her', 'here', 'hers', 'herself', 'him', 'himself', 'his', 'how', 'i', 'if', 'in', 'into', 'is', 'isn', \n",
    "                 \"isn't\", 'it', \"it's\", 'its', 'itself', 'just', 'll', 'm', 'ma', 'me', 'mightn', \"mightn't\", 'more', 'most', 'mustn', \"mustn't\", 'my', 'myself', \n",
    "                 'needn', \"needn't\", 'no', 'nor', 'not', 'now', 'o', 'of', 'off', 'on', 'once', 'only', 'or', 'other', 'our', 'ours', 'ourselves', 'out', 'over', \n",
    "                 'own', 're', 's', 'same', 'shan', \"shan't\", 'she', \"she's\", 'should', \"should've\", 'shouldn', \"shouldn't\", 'so', 'some', 'such', 't', 'than', \n",
    "                 'that', \"that'll\", 'the', 'their', 'theirs', 'them', 'themselves', 'then', 'there', 'these', 'they', 'this', 'those', 'through', 'to', 'too', \n",
    "                 'under', 'until', 'up', 've', 'very', 'was', 'wasn', \"wasn't\", 'we', 'were', 'weren', \"weren't\", 'what', 'when', 'where', 'which', 'while', 'who', \n",
    "                 'whom', 'why', 'will', 'with', 'won', \"won't\", 'wouldn', \"wouldn't\", 'y', 'you', \"you'd\", \"you'll\", \"you're\", \"you've\", 'your', 'yours', 'yourself', \n",
    "                 'yourselves']"
   ]
  },
  {
   "cell_type": "code",
   "execution_count": null,
   "id": "4264469a-cdd5-416a-aa9b-2ebd192c3d0e",
   "metadata": {},
   "outputs": [],
   "source": []
  },
  {
   "cell_type": "markdown",
   "id": "f3eaeae9-19b6-4512-ba98-94f79613d3a5",
   "metadata": {
    "id": "f3eaeae9-19b6-4512-ba98-94f79613d3a5"
   },
   "source": [
    "**3)** ¿Cuáles son las fechas en las que se publicaron los tweets más populares? ¿Se puede inferir alguna correlación con la fecha (y/u hora) y su popularidad?"
   ]
  },
  {
   "cell_type": "code",
   "execution_count": null,
   "id": "6294a3f2-e381-479a-94a3-703282d429eb",
   "metadata": {},
   "outputs": [],
   "source": []
  },
  {
   "cell_type": "markdown",
   "id": "a123911e-0328-4600-9a7f-0753e79bbd6d",
   "metadata": {
    "id": "a123911e-0328-4600-9a7f-0753e79bbd6d"
   },
   "source": [
    "**4)** ¿Cuáles son las personas (3) con las que más interactúa Elon?"
   ]
  },
  {
   "cell_type": "code",
   "execution_count": null,
   "id": "9bd994fb-ea3f-44e1-9b92-d2a76234d005",
   "metadata": {},
   "outputs": [],
   "source": []
  },
  {
   "cell_type": "markdown",
   "id": "7ff085be-3d8e-455b-a66b-c7e905f4c584",
   "metadata": {
    "id": "7ff085be-3d8e-455b-a66b-c7e905f4c584"
   },
   "source": [
    "**5)** ¿Cuáles son los tweets más populares con contenido multimedia? (Foto o video) ¿Se puede inferir algo sobre *por qué* son los más populares?"
   ]
  },
  {
   "cell_type": "code",
   "execution_count": null,
   "id": "e8c41569-5292-4fe6-b76a-1f2943377a3a",
   "metadata": {},
   "outputs": [],
   "source": []
  },
  {
   "cell_type": "markdown",
   "id": "3a8016d8-a00d-4bc4-ac5a-db4e197daae8",
   "metadata": {},
   "source": [
    "**6)** ¿Qué emojis se pueden encontrar en los tweets de Elon?"
   ]
  },
  {
   "cell_type": "code",
   "execution_count": 2,
   "id": "94fba2b2-447e-47d4-9aaa-4678af61fc9f",
   "metadata": {},
   "outputs": [],
   "source": [
    "import pickle\n",
    "with open('en_emojis.pickle', 'rb') as handle:\n",
    "    en_emojis = pickle.load(handle)"
   ]
  },
  {
   "cell_type": "code",
   "execution_count": null,
   "id": "9023bc6d-4949-4a52-a29b-935b4b52fbb0",
   "metadata": {},
   "outputs": [],
   "source": [
    "en_emojis"
   ]
  },
  {
   "cell_type": "markdown",
   "id": "00a3ad79-7389-4e03-aacb-70513df23df6",
   "metadata": {},
   "source": [
    "**7)** ¿Cuáles son los (3) más usados? ¿Se pueden inferir *sentimientos* a partir de los emojis más usados?"
   ]
  },
  {
   "cell_type": "markdown",
   "id": "dc62e49b-d585-4e18-856d-d2af2b7f277e",
   "metadata": {},
   "source": [
    "Si, durante el análisis de estos datos se encontró algo interesante, gracioso o que se quiera destacar, es posible hacerlo en el siguiente espacio:"
   ]
  },
  {
   "cell_type": "code",
   "execution_count": null,
   "id": "ebf6fb0e-3663-4bd3-be08-e48cf871053f",
   "metadata": {},
   "outputs": [],
   "source": []
  }
 ],
 "metadata": {
  "colab": {
   "name": "analisis-de-producto.ipynb",
   "provenance": []
  },
  "kernelspec": {
   "display_name": "Python 3 (ipykernel)",
   "language": "python",
   "name": "python3"
  },
  "language_info": {
   "codemirror_mode": {
    "name": "ipython",
    "version": 3
   },
   "file_extension": ".py",
   "mimetype": "text/x-python",
   "name": "python",
   "nbconvert_exporter": "python",
   "pygments_lexer": "ipython3",
   "version": "3.9.12"
  }
 },
 "nbformat": 4,
 "nbformat_minor": 5
}
