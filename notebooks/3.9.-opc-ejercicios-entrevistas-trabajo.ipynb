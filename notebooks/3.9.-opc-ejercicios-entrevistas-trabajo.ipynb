{
 "cells": [
  {
   "cell_type": "markdown",
   "metadata": {
    "id": "8eeSUTgIxsKT"
   },
   "source": [
    "# Ejercicios del tipo code interview"
   ]
  },
  {
   "cell_type": "markdown",
   "metadata": {
    "id": "Jm3aB4jcxU5W"
   },
   "source": [
    "* Given an integer, return the integer with reversed digits.\n",
    "> Note: The integer could be either positive or negative.\n",
    "\n",
    "```python\n",
    "print(reverse_integer(-231))\n",
    "-132\n",
    "\n",
    "print(reverse_interger(345))\n",
    "543\n",
    "```"
   ]
  },
  {
   "cell_type": "code",
   "execution_count": null,
   "metadata": {},
   "outputs": [],
   "source": []
  },
  {
   "cell_type": "markdown",
   "metadata": {
    "colab": {
     "base_uri": "https://localhost:8080/"
    },
    "executionInfo": {
     "elapsed": 297,
     "status": "ok",
     "timestamp": 1638308411970,
     "user": {
      "displayName": "Bibiana Rivadeneira",
      "photoUrl": "https://lh3.googleusercontent.com/a-/AOh14GhL-xTUu_mVlpBRHQ1YIbHfKhfJrlVkLdoD9S19OQ=s64",
      "userId": "13403832355809551391"
     },
     "user_tz": 180
    },
    "id": "H0xJ63vlyCcr",
    "outputId": "f0876951-d381-48d9-c9f1-2d0c764c98f5"
   },
   "source": [
    "* For a given sentence, return the average word length. \n",
    "> Note: Remember to remove punctuation first.\n",
    "\n",
    "```python\n",
    "sentence1 = \"Hi all, my name is Tom...I am originally from Australia.\"\n",
    "sentence2 = \"I need to work very hard to learn more about algorithms in Python!\"\n",
    "\n",
    "def word_average(sentence):\n",
    "    for p in \"!?',;.\":\n",
    "        sentence = sentence.replace(p, '')\n",
    "    words = sentence.split()\n",
    "    words_lenghts = [len(word) for word in words]\n",
    "    return sum(words_lenghts)/len(words)\n",
    "    \n",
    "print(word_average(sentence1))\n",
    "print(word_average(sentence2))\n",
    "# 4.2\n",
    "# 4.08\n",
    "```"
   ]
  },
  {
   "cell_type": "markdown",
   "metadata": {
    "id": "G8O4tjXSyk9x"
   },
   "source": [
    "* Given a non-empty string s, you may delete at most one character. Judge whether you can make it a palindrome.\n",
    "> The string will only contain lowercase characters a-z.\n",
    "\n",
    "```python\n",
    "s = 'radkar'\n",
    "def is_a_palindrome(s):\n",
    "    ...\n",
    "  \n",
    "is_a_palindrome(s)\n",
    "```"
   ]
  },
  {
   "cell_type": "code",
   "execution_count": null,
   "metadata": {},
   "outputs": [],
   "source": []
  },
  {
   "cell_type": "markdown",
   "metadata": {
    "executionInfo": {
     "elapsed": 14,
     "status": "ok",
     "timestamp": 1638390120851,
     "user": {
      "displayName": "Bibiana Rivadeneira",
      "photoUrl": "https://lh3.googleusercontent.com/a-/AOh14GhL-xTUu_mVlpBRHQ1YIbHfKhfJrlVkLdoD9S19OQ=s64",
      "userId": "13403832355809551391"
     },
     "user_tz": 180
    },
    "id": "IU7DQF30zOFv"
   },
   "source": [
    "* We've decided to keep all our interview questions inside Python dictionaries. We have a default template to get us started:\n",
    "\n",
    "```python\n",
    "question_template = {\n",
    "  \"title\": \"default title\",\n",
    "  \"question\": \"default question\",\n",
    "  \"answer\": \"default answer\",\n",
    "  \"hints\": []\n",
    "}\n",
    "\n",
    "def make_new_question(title, question, answer, hints=None):\n",
    "  new_q = question_template.copy()\n",
    "\n",
    "  # always require title, question, answer\n",
    "  new_q[\"title\"] = title\n",
    "  new_q[\"question\"] = question\n",
    "  new_q[\"answer\"] = answer\n",
    "\n",
    "  # sometimes there aren't hints, that's fine. Otherwise, add them:\n",
    "  if hints is not None:\n",
    "      new_q[\"hints\"].extend(hints)\n",
    "\n",
    "  return new_q\n",
    "```"
   ]
  },
  {
   "cell_type": "markdown",
   "metadata": {
    "executionInfo": {
     "elapsed": 719,
     "status": "ok",
     "timestamp": 1638390135796,
     "user": {
      "displayName": "Bibiana Rivadeneira",
      "photoUrl": "https://lh3.googleusercontent.com/a-/AOh14GhL-xTUu_mVlpBRHQ1YIbHfKhfJrlVkLdoD9S19OQ=s64",
      "userId": "13403832355809551391"
     },
     "user_tz": 180
    },
    "id": "yQd2a24yqRlN"
   },
   "source": [
    "Then we added a few questions (abbreviated for simplicity):\n",
    "\n",
    "```python\n",
    "question_1 = make_new_question(\"title1\", \"question1\", \"answer1\", [\"q1 hint1\", \"q1 hint2\"])\n",
    "question_2 = make_new_question(\"title2\", \"question2\", \"answer2\")\n",
    "question_3 = make_new_question(\"title3\", \"question3\", \"answer3\", [\"q3 hint1\"])\n",
    "```\n",
    "\n",
    "* What did we do wrong? How can we fix it?"
   ]
  },
  {
   "cell_type": "markdown",
   "metadata": {
    "colab": {
     "base_uri": "https://localhost:8080/"
    },
    "executionInfo": {
     "elapsed": 299,
     "status": "ok",
     "timestamp": 1638391325270,
     "user": {
      "displayName": "Bibiana Rivadeneira",
      "photoUrl": "https://lh3.googleusercontent.com/a-/AOh14GhL-xTUu_mVlpBRHQ1YIbHfKhfJrlVkLdoD9S19OQ=s64",
      "userId": "13403832355809551391"
     },
     "user_tz": 180
    },
    "id": "3jeOSSpZqaIW",
    "outputId": "6eacb46a-f707-4481-d583-f1d16785a551"
   },
   "source": [
    "* Remove duplicates from a given list\n",
    "\n",
    "```python\n",
    "def remove_duplicates(a_list):\n",
    "  result_list = []\n",
    "  for item in a_list:\n",
    "    if item not in result_list:\n",
    "      result_list.append(item)\n",
    "  return result_list\n",
    "\n",
    "print(remove_duplicates([0, 0, 1, 1, 2, 2, 3, 3]))\n",
    "print(remove_duplicates(['a', 'a', 'b', 'c']))\n",
    "\n",
    "[0, 1, 2, 3]\n",
    "['a', 'b', 'c']\n",
    "```"
   ]
  },
  {
   "cell_type": "code",
   "execution_count": null,
   "metadata": {},
   "outputs": [],
   "source": []
  },
  {
   "cell_type": "markdown",
   "metadata": {
    "colab": {
     "base_uri": "https://localhost:8080/"
    },
    "executionInfo": {
     "elapsed": 323,
     "status": "ok",
     "timestamp": 1638391488544,
     "user": {
      "displayName": "Bibiana Rivadeneira",
      "photoUrl": "https://lh3.googleusercontent.com/a-/AOh14GhL-xTUu_mVlpBRHQ1YIbHfKhfJrlVkLdoD9S19OQ=s64",
      "userId": "13403832355809551391"
     },
     "user_tz": 180
    },
    "id": "_K4hGvjZuxaT",
    "outputId": "5f15be11-b8dd-4067-d3d2-09da363bae05"
   },
   "source": [
    "* Rotate a given matrix 180 degress\n",
    "\n",
    "```python\n",
    "# [ [0, 1],\n",
    "#   [2, 3]\n",
    "# ]\n",
    "\n",
    "# [ [2, 0],\n",
    "#   [3, 1]\n",
    "# ]\n",
    "\n",
    "# [ [3, 2],\n",
    "#   [1, 0]\n",
    "# ]\n",
    "\n",
    "\n",
    "\n",
    "def rotate_matrix(matrix):\n",
    "  ...\n",
    "\n",
    "print(rotate_matrix([[0, 1], [2, 3]]))\n",
    "```"
   ]
  },
  {
   "cell_type": "code",
   "execution_count": null,
   "metadata": {},
   "outputs": [],
   "source": []
  },
  {
   "cell_type": "markdown",
   "metadata": {
    "executionInfo": {
     "elapsed": 262,
     "status": "ok",
     "timestamp": 1638391946763,
     "user": {
      "displayName": "Bibiana Rivadeneira",
      "photoUrl": "https://lh3.googleusercontent.com/a-/AOh14GhL-xTUu_mVlpBRHQ1YIbHfKhfJrlVkLdoD9S19OQ=s64",
      "userId": "13403832355809551391"
     },
     "user_tz": 180
    },
    "id": "eMgu2lj7vhtX"
   },
   "source": [
    "* Calculate the median of a given list of integers\n",
    "\n",
    "```python\n",
    "# [10, 2, 55, 23, 7] -> 10\n",
    "# [5, 2, 8, 10] -> (5 + 8) / 2\n",
    "```"
   ]
  },
  {
   "cell_type": "code",
   "execution_count": null,
   "metadata": {},
   "outputs": [],
   "source": []
  },
  {
   "cell_type": "markdown",
   "metadata": {
    "executionInfo": {
     "elapsed": 270,
     "status": "ok",
     "timestamp": 1638392069764,
     "user": {
      "displayName": "Bibiana Rivadeneira",
      "photoUrl": "https://lh3.googleusercontent.com/a-/AOh14GhL-xTUu_mVlpBRHQ1YIbHfKhfJrlVkLdoD9S19OQ=s64",
      "userId": "13403832355809551391"
     },
     "user_tz": 180
    },
    "id": "joVSifDMxRvQ"
   },
   "source": [
    "* Write a Python program to create and display all combinations of letters, selecting each letter from a different key in a dictionary. Go to the editor\n",
    "```python\n",
    "# Sample data : {'1':['a','b'], '2':['c','d']}\n",
    "# Expected Output:\n",
    "# ac\n",
    "# ad\n",
    "# bc\n",
    "# bd\n",
    "```"
   ]
  },
  {
   "cell_type": "code",
   "execution_count": null,
   "metadata": {
    "id": "4jisUmrzxvxD"
   },
   "outputs": [],
   "source": []
  }
 ],
 "metadata": {
  "colab": {
   "authorship_tag": "ABX9TyOH/mK0+Jx5/pClZ9VhmPM3",
   "name": "ejercicios-entrevistas-trabajo.ipynb",
   "provenance": []
  },
  "kernelspec": {
   "display_name": "Python 3 (ipykernel)",
   "language": "python",
   "name": "python3"
  },
  "language_info": {
   "codemirror_mode": {
    "name": "ipython",
    "version": 3
   },
   "file_extension": ".py",
   "mimetype": "text/x-python",
   "name": "python",
   "nbconvert_exporter": "python",
   "pygments_lexer": "ipython3",
   "version": "3.9.5"
  }
 },
 "nbformat": 4,
 "nbformat_minor": 4
}
