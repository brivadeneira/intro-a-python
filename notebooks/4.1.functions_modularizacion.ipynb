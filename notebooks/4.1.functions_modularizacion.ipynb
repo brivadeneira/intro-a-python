{
 "cells": [
  {
   "cell_type": "markdown",
   "id": "94d5d38c-af44-4dda-9029-d7b05724e0fd",
   "metadata": {},
   "source": [
    "# **MÓDULO 4 - MODULARIZACIÓN**\n"
   ]
  },
  {
   "cell_type": "markdown",
   "id": "4380015a-c812-44de-bcba-71046438ebd9",
   "metadata": {},
   "source": [
    "## Funciones\n",
    "\n",
    "*porción de código escrito para resolver una tarea bien específica*\n",
    "\n",
    "### Tipos de funciones\n",
    "\n",
    "* **built-in functions**: como `print()`, `min()`, etc.\n",
    "* **User-Defined Functions(UDFs)**: funciones definidas por el usuario para resolver tareas específicas.\n",
    "* **Funciones anónimas**: o **lambda**, que se crean sin la palabra reservada `def`."
   ]
  },
  {
   "cell_type": "markdown",
   "id": "36abc9b0-c36f-42b7-a690-c583b0561027",
   "metadata": {},
   "source": [
    "Las funciones son parte esencial de la programación en Python. Hasta este punto del curso se usaron muchas de ellas, las que *\"vienen con Python\"* o las `built-in` Python:"
   ]
  },
  {
   "cell_type": "markdown",
   "id": "4e5c7610-9f1a-432b-9593-885d926f876d",
   "metadata": {},
   "source": [
    "| **Built-in Functions**                                                                                                                                                                                                                                                                                                                  |                                                                                                                                                                                                                                                                                                                                                |                                                                                                                                                                                                                                                                                         |                                                                                                                                                                                                                                                                                                                  |\n",
    "|-----------------------------------------------------------------------------------------------------------------------------------------------------------------------------------------------------------------------------------------------------------------------------------------------------------------------------------------|------------------------------------------------------------------------------------------------------------------------------------------------------------------------------------------------------------------------------------------------------------------------------------------------------------------------------------------------|-----------------------------------------------------------------------------------------------------------------------------------------------------------------------------------------------------------------------------------------------------------------------------------------|------------------------------------------------------------------------------------------------------------------------------------------------------------------------------------------------------------------------------------------------------------------------------------------------------------------|\n",
    "| **A**  <br>abs()  <br>aiter()  <br>all()  <br>any()  <br>anext()  <br>ascii()  <br>  <br>**B**<br>bin()  <br>bool()  <br>breakpoint()  <br>bytearray()  <br>bytes()  <br>  <br>**C**  <br>callable()  <br>chr()  <br>classmethod()  <br>compile()  <br>complex()  <br>  <br>**D**  <br>delattr()  <br>dict()  <br>dir()  <br>divmod()   | **E**  <br>enumerate()  <br>eval()  <br>exec()  <br>  <br>**F**<br>filter()  <br>float()  <br>format()  <br>frozenset()  <br>  <br>**G**  <br>getattr()  <br>globals()  <br>  <br>**H**  <br>hasattr()  <br>hash()  <br>help()  <br>hex()  <br>  <br>**I**  <br>id()  <br>input()  <br>int()  <br>isinstance()  <br>issubclass()  <br>iter()   | **L**  <br>len()  <br>list()  <br>locals()  <br>  <br>**M**  <br>map()  <br>max()  <br>memoryview()  <br>min()  <br>  <br>**N**  <br>next()  <br>  <br>**O**  <br>object()  <br>oct()  <br>open()  <br>ord()  <br>  <br>**P**  <br>pow()  <br>print()  <br>property()<br><br><br><br>   | **R**<br>range() <br>repr()  <br>reversed()  <br>round()  <br>  <br>**S**  <br>set()  <br>setattr()  <br>slice()  <br>sorted()  <br>staticmethod()  <br>str()  <br>sum()  <br>super()  <br>  <br>**T**  <br>tuple()  <br>type()  <br>  <br>**V**  <br>vars()  <br><br>**Z**<br>zip()  <br><br> |"
   ]
  },
  {
   "cell_type": "markdown",
   "id": "ecde0d23-d7ce-414b-bff3-3e0a12b230bb",
   "metadata": {},
   "source": [
    "> [python functions](https://docs.python.org/3/library/functions.html)"
   ]
  },
  {
   "cell_type": "markdown",
   "id": "79062eea-c26a-4384-8718-4715c0ab11b6",
   "metadata": {},
   "source": [
    "## Anatomía de una función\n",
    "\n",
    "* syntax:\n",
    "\n",
    "```\n",
    "def function_name(parameter1, parameter2, ...):\n",
    "    \"\"\"\n",
    "    docstring\n",
    "    \"\"\"\n",
    "    \n",
    "    # code\n",
    "    return <var>  # (opc)\n",
    "```\n",
    "\n",
    "\n",
    "![](https://www.informit.com/content/images/chap2_9780134076430/elementLinks/p0215_01.jpg)"
   ]
  },
  {
   "cell_type": "markdown",
   "id": "a9d58fc5-3b58-463e-808c-821fa1841c65",
   "metadata": {},
   "source": [
    "Es de gran importancia **definir funciones propias**, o conjunto de instrucciones que se requieren usar repetidamente.  \n",
    "Que, por su complejidad, es mejor que esté contenido en un *sub-programa* para invocarlo cuando sea necesario.  "
   ]
  },
  {
   "cell_type": "markdown",
   "id": "76f0034a-7ebf-4366-8afb-279fc3bf1b5c",
   "metadata": {},
   "source": [
    "## Functions vs Methods\n",
    "\n",
    "Sin haber profundizado en los temas *Clases y objetos*, se hizo uso de métodos varios, como ser aquellos intrínsecos de los `str`: `lower()`, `upper()`, etc. Y se refieren a una función que es parte de una *clase* (se aborda más adelante en este curso)."
   ]
  },
  {
   "cell_type": "markdown",
   "id": "2e15a955-ae4e-4b21-b509-7593f741afd0",
   "metadata": {},
   "source": [
    "## Function `add()`"
   ]
  },
  {
   "cell_type": "code",
   "execution_count": null,
   "id": "8720bea3-721a-4727-9374-5de8ebfcd8fb",
   "metadata": {},
   "outputs": [],
   "source": [
    "def add(a, b):\n",
    "    return a + b"
   ]
  },
  {
   "cell_type": "code",
   "execution_count": null,
   "id": "c5c091df-61dc-4490-96f0-bcfb493e737c",
   "metadata": {},
   "outputs": [],
   "source": [
    "add(2, 4)"
   ]
  },
  {
   "cell_type": "code",
   "execution_count": null,
   "id": "2fb9ca70-d4de-4e50-98e6-c3153488d6cc",
   "metadata": {},
   "outputs": [],
   "source": [
    "sum_result = add(5, 2)\n",
    "sum_result"
   ]
  },
  {
   "cell_type": "code",
   "execution_count": null,
   "id": "6f935d7d-fc99-4df8-bb5a-3f24fc395c52",
   "metadata": {},
   "outputs": [],
   "source": [
    "def hello():\n",
    "    print(\"Hello\") \n",
    "    return \n",
    "    print(\"World\")"
   ]
  },
  {
   "cell_type": "code",
   "execution_count": null,
   "id": "9da7948f-d136-400f-962c-3b123e3c1801",
   "metadata": {},
   "outputs": [],
   "source": [
    "hello()"
   ]
  },
  {
   "cell_type": "code",
   "execution_count": null,
   "id": "e82f961a-21ef-4cf7-84b2-4866e343c597",
   "metadata": {},
   "outputs": [],
   "source": [
    "def add(a, b):\n",
    "    addition = a + b\n",
    "    return (addition, a)"
   ]
  },
  {
   "cell_type": "code",
   "execution_count": null,
   "id": "79b56e3a-6ace-4c65-979c-9e4bd177366b",
   "metadata": {},
   "outputs": [],
   "source": [
    "add(3, 8)"
   ]
  },
  {
   "cell_type": "code",
   "execution_count": null,
   "id": "9a79c74c-694c-46e3-8efd-f802be4ae16a",
   "metadata": {},
   "outputs": [],
   "source": [
    "addition, a = add(3, 8)\n",
    "addition, a"
   ]
  },
  {
   "cell_type": "markdown",
   "id": "9de29851-28ed-4068-9b83-02f76f9c9cfb",
   "metadata": {
    "tags": []
   },
   "source": [
    "## Doctstring\n",
    "\n",
    "Docstring describe qué hace una función, qué operaciones realiza y *qué retorna*. Esta descripción sirve de documentación, para que quien la lea no deba recurrir al código y entenderlo.\n",
    "\n",
    "### Docstring format types\n",
    "\n",
    "|                                          Formatting Type                                         |                                                             Description                                                             |\n",
    "|:------------------------------------------------------------------------------------------------:|:-----------------------------------------------------------------------------------------------------------------------------------:|\n",
    "| [NumPy/SciPy docstrings](https://numpydoc.readthedocs.io/en/latest/format.html)                  | Combination of reStructured and GoogleDocstrings and supported by Sphinx                                                            |\n",
    "| [reStructuredText](https://www.python.org/dev/peps/pep-0287/) | reStructuredText                                                                                                                       |"
   ]
  },
  {
   "cell_type": "markdown",
   "id": "49e6d495-051d-4959-be82-4fc23f826eb1",
   "metadata": {},
   "source": [
    "```python\n",
    "def add(a, b):\n",
    "    addition = a + b\n",
    "    return addition\n",
    "```"
   ]
  },
  {
   "cell_type": "markdown",
   "id": "fac9840e-a363-4f2f-a522-7806079d293e",
   "metadata": {},
   "source": [
    "#### NumPy/SciPy docstrings\n",
    "\n",
    "```\n",
    "Sum two numbers.\n",
    "\n",
    "Parameters\n",
    "----------\n",
    "a : number (int of float) to sum up\n",
    "b : number (int of float) to sum up\n",
    "\n",
    "Returns\n",
    "-------\n",
    "addition : number (int of float)\n",
    "    The sum of `a` and `b`.\n",
    "\n",
    "Notes\n",
    "-----\n",
    "`a` and `b` can be negative.\n",
    "\n",
    "Examples\n",
    "--------\n",
    ">>> add(3, 8)\n",
    "11\n",
    "\n",
    ">>> add(-2, 4)\n",
    "2\n",
    "```"
   ]
  },
  {
   "cell_type": "markdown",
   "id": "adcf46d1-da34-4cd7-ab46-b8cabc550443",
   "metadata": {},
   "source": [
    "#### reStructuredText docstrings\n",
    "\n",
    "```\n",
    "Sum two numbers.\n",
    "\n",
    ":param a: number (int of float) to sum up\n",
    ":param b: number (int of float) to sum up\n",
    ":return: number (int of float) The sum of `a` and `b`.\n",
    "\n",
    "`a` and `b` can be negative.\n",
    "\n",
    ">>> add(3, 8)\n",
    "11\n",
    "\n",
    ">>> add(-2, 4)\n",
    "2\n",
    "```"
   ]
  },
  {
   "cell_type": "markdown",
   "id": "75afe9fb-46d6-40da-8894-f7c802677dc3",
   "metadata": {},
   "source": [
    "## Function Parameters and Arguments\n",
    "\n",
    "* Parámetro: el **nombre** de la variable que se le pasa a una función o método *dentro de sus paréntesis*.\n",
    "* Argumento: el valor de dicha variable.\n",
    "\n",
    "### Tipos de argumentos\n",
    "\n",
    "* Default arguments\n",
    "* Required arguments\n",
    "* Keyword arguments\n",
    "* Variable number of arguments"
   ]
  },
  {
   "cell_type": "markdown",
   "id": "6192a0c0-b34e-4b3e-ac3a-e8b73c29a517",
   "metadata": {},
   "source": [
    "#### Default arguments\n",
    "\n",
    "Valor por defecto que toma un parámetro si no se especifica uno cuando se invoca a la función."
   ]
  },
  {
   "cell_type": "code",
   "execution_count": null,
   "id": "371f139a-69f5-468b-b4d0-1275983e0806",
   "metadata": {},
   "outputs": [],
   "source": [
    "def add(a, b = 2):\n",
    "    return a + b\n",
    "  \n",
    "add(a=1)"
   ]
  },
  {
   "cell_type": "code",
   "execution_count": null,
   "id": "4f09ba14-c561-4571-a5bb-5371c9618d6f",
   "metadata": {},
   "outputs": [],
   "source": [
    "add(a=1, b=3)"
   ]
  },
  {
   "cell_type": "markdown",
   "id": "fcb5de7a-5c9d-48cf-bf6f-54c23f5d4a70",
   "metadata": {},
   "source": [
    "#### Required arguments\n",
    "\n",
    "Parámetros obligatorios de la función, que no se puede omitir"
   ]
  },
  {
   "cell_type": "code",
   "execution_count": null,
   "id": "96050d70-6c3c-46ff-bee1-6c962a7bca3f",
   "metadata": {},
   "outputs": [],
   "source": [
    "def add(a, b):\n",
    "    return a + b"
   ]
  },
  {
   "cell_type": "markdown",
   "id": "12eeb792-b5bc-44f8-a1d9-d1170a0e90d9",
   "metadata": {},
   "source": [
    "#### Keyword arguments\n",
    "\n",
    "Se usan si se desea asegurar el mapeo correcto de los parámetros en caso de que estén potencialmente desordenados."
   ]
  },
  {
   "cell_type": "code",
   "execution_count": null,
   "id": "af16928a-a51f-4afd-bec4-712154d161f3",
   "metadata": {},
   "outputs": [],
   "source": [
    "add(b=1, a=3)"
   ]
  },
  {
   "cell_type": "markdown",
   "id": "41f004d8-bb89-4bd7-ac7a-0cc2986c5c9b",
   "metadata": {},
   "source": [
    "### *args\n",
    "\n",
    "Si no se conoce a priori la cantidad de parámetros, se emplea `*args`"
   ]
  },
  {
   "cell_type": "code",
   "execution_count": null,
   "id": "b627f225-ed11-47c3-9579-4127bf132d1e",
   "metadata": {},
   "outputs": [],
   "source": [
    "def add(*args):\n",
    "    return sum(args)"
   ]
  },
  {
   "cell_type": "code",
   "execution_count": null,
   "id": "5c7e34fe-3857-42ab-a149-9d3fc52b7806",
   "metadata": {},
   "outputs": [],
   "source": [
    "add(1, 4, 5)"
   ]
  },
  {
   "cell_type": "markdown",
   "id": "960bee58-60a1-455b-bfe6-b4e0cd13df5c",
   "metadata": {},
   "source": [
    "## Local vs Global variables"
   ]
  },
  {
   "cell_type": "code",
   "execution_count": null,
   "id": "b4a31367-0cea-4565-a6d9-cd67bc41ec4c",
   "metadata": {},
   "outputs": [],
   "source": [
    "c = 3  # global\n",
    "\n",
    "def add(a, b):\n",
    "    # a local\n",
    "    # b local\n",
    "    return a + b - c"
   ]
  },
  {
   "cell_type": "code",
   "execution_count": null,
   "id": "b67a3753-b597-43d4-83ed-dd1a3e518e08",
   "metadata": {},
   "outputs": [],
   "source": [
    "add(10, 5)"
   ]
  },
  {
   "cell_type": "code",
   "execution_count": null,
   "id": "99199354-715e-4656-ad64-51e8d49bbe62",
   "metadata": {},
   "outputs": [],
   "source": [
    "print(b)"
   ]
  },
  {
   "cell_type": "markdown",
   "id": "4a624f74-cec0-41c7-8bf6-2141c746fb1b",
   "metadata": {},
   "source": [
    "## Anonymous Functions\n",
    "\n",
    "*lambda functions*\n",
    "\n",
    "Se trata de funciones *de una línea* en las que se usa la palabra reservada `lambda`"
   ]
  },
  {
   "cell_type": "code",
   "execution_count": null,
   "id": "259ba94f-9c15-4b04-959b-be8e7ce5e332",
   "metadata": {},
   "outputs": [],
   "source": [
    "double = lambda x: x*2\n",
    "\n",
    "double(5)"
   ]
  },
  {
   "cell_type": "markdown",
   "id": "1933b8db-4af7-4010-ad6e-9f019725ec5d",
   "metadata": {},
   "source": [
    "Es equivalente a:"
   ]
  },
  {
   "cell_type": "code",
   "execution_count": null,
   "id": "18658e01-8b57-4d2f-8d0e-e690d116daee",
   "metadata": {},
   "outputs": [],
   "source": [
    "def double(x):\n",
    "    return x*2"
   ]
  },
  {
   "cell_type": "code",
   "execution_count": null,
   "id": "befab951-1a99-4152-bbdc-54e505b661ad",
   "metadata": {},
   "outputs": [],
   "source": [
    "double(5)"
   ]
  },
  {
   "cell_type": "code",
   "execution_count": null,
   "id": "c7d0d7fd-4a37-4d27-b87d-dbbb5f30cdaf",
   "metadata": {},
   "outputs": [],
   "source": [
    "add = lambda x, y: x + y"
   ]
  },
  {
   "cell_type": "code",
   "execution_count": null,
   "id": "451f6989-391a-4d9a-929b-621a3fb52748",
   "metadata": {},
   "outputs": [],
   "source": [
    "add(4, 5)"
   ]
  },
  {
   "cell_type": "markdown",
   "id": "0c53eaf9-5a45-4c85-8b44-1b3aa3cde58b",
   "metadata": {},
   "source": [
    "## Typing\n",
    "\n",
    "Es posible especificar el tipo de objeto de los parámetros que recibe una función y sus return:"
   ]
  },
  {
   "cell_type": "code",
   "execution_count": null,
   "id": "ce2c3923-6026-45d1-b827-4e8ecef16a90",
   "metadata": {},
   "outputs": [],
   "source": [
    "def add(a: int, b: int) -> int:\n",
    "    return a + b"
   ]
  },
  {
   "cell_type": "code",
   "execution_count": null,
   "id": "6283b878-6400-442e-b238-1d240684c93f",
   "metadata": {},
   "outputs": [],
   "source": [
    "def add(a: float, b: float) -> float:\n",
    "    return a + b"
   ]
  },
  {
   "cell_type": "code",
   "execution_count": null,
   "id": "338a9b04-4cc3-4f6b-ab38-89545e3ae411",
   "metadata": {},
   "outputs": [],
   "source": [
    "from typing import Union\n",
    "\n",
    "Number = Union[int, float]\n",
    "\n",
    "def add(a: Number, b: Number) -> Number:\n",
    "    return a + b"
   ]
  },
  {
   "cell_type": "markdown",
   "id": "f308543c-09fe-437d-b03d-0e935ed1d121",
   "metadata": {},
   "source": [
    "⚠️ typing no valida tipos"
   ]
  },
  {
   "cell_type": "code",
   "execution_count": null,
   "id": "ee930911-c8e9-43c6-ac72-ea9bee073b90",
   "metadata": {},
   "outputs": [],
   "source": [
    "add('a', 'b')"
   ]
  },
  {
   "cell_type": "code",
   "execution_count": null,
   "id": "66783738-76ef-4ceb-a5ee-dd7631000dd0",
   "metadata": {},
   "outputs": [],
   "source": [
    "from typing import Union\n",
    "\n",
    "Number = Union[int, float]\n",
    "\n",
    "def add(a: Number, b: Number) -> Number:\n",
    "    if isinstance(a, int) or isinstance(a, float):\n",
    "        if isinstance(b, int) or isinstance(b, float):\n",
    "            return a + b\n",
    "    print('a and b must be numbers')\n",
    "    return None"
   ]
  },
  {
   "cell_type": "code",
   "execution_count": null,
   "id": "36432e1c-ded7-47b4-96c9-e38c2e291e6f",
   "metadata": {},
   "outputs": [],
   "source": [
    "add('a', 'b')"
   ]
  },
  {
   "cell_type": "markdown",
   "id": "23fb9dba-a16a-4a93-b86d-b52f3eb4f0a1",
   "metadata": {},
   "source": [
    "## ✏️ Ejercicios funciones\n",
    "### Sincrónicos"
   ]
  },
  {
   "cell_type": "markdown",
   "id": "92c5659b-5d21-4166-9c86-a112e24d124c",
   "metadata": {},
   "source": [
    "* Write a Python function which accepts the radius of a circle and return the area.\n",
    "\n",
    "```\n",
    "circle_area(1.1)\n",
    "3.8013271108436504\n",
    "```"
   ]
  },
  {
   "cell_type": "code",
   "execution_count": null,
   "id": "6891fb5f-d95d-4391-a95f-510808995223",
   "metadata": {},
   "outputs": [],
   "source": []
  },
  {
   "cell_type": "markdown",
   "id": "e6b21070-873d-4aa6-8e4d-f6d8974d4b7e",
   "metadata": {},
   "source": [
    "* Write a function which returns True or False according to a given number is even or odd\n",
    "\n",
    "```\n",
    "is_even(6)\n",
    "True\n",
    "```\n",
    "\n",
    "```\n",
    "is_even(5)\n",
    "False\n",
    "```"
   ]
  },
  {
   "cell_type": "code",
   "execution_count": null,
   "id": "9616f2c1-a45f-41da-b829-fd6ab1c0a3a9",
   "metadata": {},
   "outputs": [],
   "source": []
  },
  {
   "cell_type": "markdown",
   "id": "cc3e9ec7-505e-47e3-9823-f828601304f8",
   "metadata": {},
   "source": [
    "* Given a str log with sat info, return a list with next elements:\n",
    "\n",
    "total_number_of_messages  \n",
    "message_number  \n",
    "total_number_of_sat_in_view  \n",
    "pr  \n",
    "elevation_degrees  \n",
    "azimuth  \n",
    "SNR  \n",
    "\n",
    "log example: `'$GPGSV,3,1,11,18,87,050,48'`\n",
    "\n",
    "> Check the `$GPGSV` str at the beginning of str  \n",
    "> Check the quantity of elements in the str  \n",
    "> Check the range of each value:\n",
    "\n",
    "\n",
    "|    Field    |  Structure  |                                                                          Description                                                                         | Symbol |  Example |\n",
    "|:-----------:|:-----------:|:------------------------------------------------------------------------------------------------------------------------------------------------------------:|:------:|:--------:|\n",
    "| 1           | `$GPGSV`      | Log header. For information about the log headers, see ASCII, Abbreviated ASCII or Binary.                                                                   |        | $GPGSV   |\n",
    "| 2           | # msgs      | Total number of messages (1-9)                                                                                                                               | x      | 3        |\n",
    "| 3           | msg #       | Message number (1-9)                                                                                                                                         | x      | 1        |\n",
    "| 4           | # sats      | Total number of satellites in view. May be different than the number of satellites in use (see also the GPGGA log)                                           | xx     | 09       |\n",
    "| 5           | prn         | Satellite PRN number GPS = 1 to 32 Galileo = 1 to 36 BeiDou = 1 to 63 NavIC = 1 to 14 QZSS = 1 to 10 SBAS = 33 to 64 (add 87 for PRN#s) GLONASS = 65 to 96 1 | xx     | 03       |\n",
    "| 6           | elev        | Elevation, degrees, 90 maximum                                                                                                                               | xx     | 51       |\n",
    "| 7           | azimuth     | Azimuth, degrees True, 000 to 359                                                                                                                            | xxx    | 140      |\n",
    "| 8           | SNR         | SNR (C/No) 00-99 dB, null when not tracking                                                                                                                  | xx     | 42       |\n",
    "| ... ... ... | ... ... ... | Next satellite PRN number, elev, azimuth, SNR, ... Last satellite PRN number, elev, azimuth, SNR,                                                            |        |          |\n",
    "| variable    | system ID   | GNSS system ID. See Table: System and Signal IDs. This field is only output if the NMEAVERSION is 4.11 (see the NMEAVERSION command).                        |        |          |\n",
    "| variable    | *xx         | Check sum                                                                                                                                                    | *hh    | *72      |\n",
    "| variable    | [CR][LF]    | Sentence terminator                                                                                                                                          |        | [CR][LF] |"
   ]
  },
  {
   "cell_type": "markdown",
   "id": "ac6811d7-b6ff-4144-9715-a35193c9b22e",
   "metadata": {},
   "source": [
    "### Asincrónicos\n",
    "\n",
    "Confeccionar funciones a partir de cada uno de los ejercicios integradores, haciendo las validaciones que se crean necesarias"
   ]
  },
  {
   "cell_type": "code",
   "execution_count": null,
   "id": "4c4f8b5a-13d9-4598-8ff5-c502c6700bcf",
   "metadata": {},
   "outputs": [],
   "source": []
  }
 ],
 "metadata": {
  "kernelspec": {
   "display_name": "Python 3 (ipykernel)",
   "language": "python",
   "name": "python3"
  },
  "language_info": {
   "codemirror_mode": {
    "name": "ipython",
    "version": 3
   },
   "file_extension": ".py",
   "mimetype": "text/x-python",
   "name": "python",
   "nbconvert_exporter": "python",
   "pygments_lexer": "ipython3",
   "version": "3.9.7"
  }
 },
 "nbformat": 4,
 "nbformat_minor": 5
}
