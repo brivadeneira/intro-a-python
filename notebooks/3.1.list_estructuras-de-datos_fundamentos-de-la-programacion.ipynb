{
 "cells": [
  {
   "cell_type": "markdown",
   "metadata": {
    "id": "KGCxolYvoGPl"
   },
   "source": [
    "# **MÓDULO 3 - FUNDAMENTOS DE LA PROGRAMACIÓN CON PYTHON**\n",
    "\n",
    "\n",
    "Habiendo abordado los tipos de objetos elementales:\n",
    "\n",
    "* **Número**  \n",
    "    * **Int** (entero), `3`, `598`, `1655`  \n",
    "    * **Float** (de punto flotante), `1.5`, `2.0`  \n",
    "    * **Complex** (complejo), `1 + 2j`, `29 + 56j`  \n",
    "* **String** (cadenas de texto), `'hola'`, `\"A\"`  \n",
    "* **Bool**, `True`, `False`  \n",
    "\n",
    "## Estructuras de datos\n",
    "\n",
    "* **list**: `[3, 2.0, 'eggs', [True, False]]`\n",
    "* **tuple**: `(598, 1655)`, `([1.5, True], [2.0, False])` \n",
    "* **dict**: `{'spam': 'eggs', 'eggs': 'spam'}`\n",
    "* **set**: `nums = {1, 2, 2, 3, 4, 4, 5, 5} -> {1, 2, 3, 4, 5}`"
   ]
  },
  {
   "cell_type": "markdown",
   "metadata": {},
   "source": [
    "## 🗒️ list\n",
    "\n",
    "Una lista es un conjunto estructurado de datos, puede contener objetos de python de cualquier tipo, incluso listas.\n",
    "\n",
    "- Ordenada en índices, por ende admite slicing.\n",
    "- Mutable.\n",
    "- En general heterogénea.\n",
    "\n",
    "syntax:\n",
    "\n",
    "`a_list = []`"
   ]
  },
  {
   "cell_type": "code",
   "execution_count": null,
   "metadata": {
    "colab": {
     "base_uri": "https://localhost:8080/"
    },
    "executionInfo": {
     "elapsed": 391,
     "status": "ok",
     "timestamp": 1634135862328,
     "user": {
      "displayName": "Valentina Coggan",
      "photoUrl": "https://lh3.googleusercontent.com/a/default-user=s64",
      "userId": "05309776279401351870"
     },
     "user_tz": 180
    },
    "id": "VxWmKjXdoF08",
    "outputId": "4f60c404-2290-4254-9dd5-e93f1c395fb2"
   },
   "outputs": [],
   "source": [
    "a_list = [1, 2]"
   ]
  },
  {
   "cell_type": "code",
   "execution_count": null,
   "metadata": {
    "colab": {
     "base_uri": "https://localhost:8080/"
    },
    "executionInfo": {
     "elapsed": 9,
     "status": "ok",
     "timestamp": 1634401053824,
     "user": {
      "displayName": "Bibiana Rivadeneira",
      "photoUrl": "https://lh3.googleusercontent.com/a-/AOh14GhL-xTUu_mVlpBRHQ1YIbHfKhfJrlVkLdoD9S19OQ=s64",
      "userId": "13403832355809551391"
     },
     "user_tz": 180
    },
    "id": "yKM-N1Hwonip",
    "outputId": "8acf4d40-c308-4598-f79e-ac9a3d115a0c"
   },
   "outputs": [],
   "source": [
    "another_list = [False, \"uno\", 2, 3.0]"
   ]
  },
  {
   "cell_type": "markdown",
   "metadata": {
    "id": "LHQjIRFKoxbH"
   },
   "source": [
    "### Acceder a los elementos de una lista\n",
    "\n",
    "Las listas son estructuras de datos *ordenadas* e indexadas, se puede acceder a cada uno de sus elementos mediante *indexado* o *slicing*:\n",
    "\n",
    "`a_list[index]`\n",
    "\n",
    "donde `index` es un número entero."
   ]
  },
  {
   "cell_type": "code",
   "execution_count": null,
   "metadata": {
    "id": "EYDDNS2no1-_"
   },
   "outputs": [],
   "source": [
    "nums_list = ['zero', 1, 'two', 3, 'four', 5]"
   ]
  },
  {
   "cell_type": "code",
   "execution_count": null,
   "metadata": {
    "colab": {
     "base_uri": "https://localhost:8080/",
     "height": 35
    },
    "executionInfo": {
     "elapsed": 242,
     "status": "ok",
     "timestamp": 1634135877611,
     "user": {
      "displayName": "Valentina Coggan",
      "photoUrl": "https://lh3.googleusercontent.com/a/default-user=s64",
      "userId": "05309776279401351870"
     },
     "user_tz": 180
    },
    "id": "kNRaVMc1pABg",
    "outputId": "d8ff1322-c4f1-4f4a-853b-96c10640fc69"
   },
   "outputs": [],
   "source": [
    "nums_list[0]"
   ]
  },
  {
   "cell_type": "code",
   "execution_count": null,
   "metadata": {
    "colab": {
     "base_uri": "https://localhost:8080/",
     "height": 35
    },
    "executionInfo": {
     "elapsed": 280,
     "status": "ok",
     "timestamp": 1634135879920,
     "user": {
      "displayName": "Valentina Coggan",
      "photoUrl": "https://lh3.googleusercontent.com/a/default-user=s64",
      "userId": "05309776279401351870"
     },
     "user_tz": 180
    },
    "id": "XBUvwIe8pBIA",
    "outputId": "337f9397-c21c-417c-b451-0f66d3c9314d"
   },
   "outputs": [],
   "source": [
    "nums_list[-1]"
   ]
  },
  {
   "cell_type": "code",
   "execution_count": null,
   "metadata": {
    "colab": {
     "base_uri": "https://localhost:8080/"
    },
    "executionInfo": {
     "elapsed": 253,
     "status": "ok",
     "timestamp": 1634135881588,
     "user": {
      "displayName": "Valentina Coggan",
      "photoUrl": "https://lh3.googleusercontent.com/a/default-user=s64",
      "userId": "05309776279401351870"
     },
     "user_tz": 180
    },
    "id": "6NPQ-MrBpEde",
    "outputId": "d223bbbc-0b4a-45f9-d03f-53c16f57f590"
   },
   "outputs": [],
   "source": [
    "nums_list[0:3]"
   ]
  },
  {
   "cell_type": "code",
   "execution_count": null,
   "metadata": {},
   "outputs": [],
   "source": [
    "nums_list[:3]"
   ]
  },
  {
   "cell_type": "code",
   "execution_count": null,
   "metadata": {},
   "outputs": [],
   "source": [
    "nums_list[3:]"
   ]
  },
  {
   "cell_type": "code",
   "execution_count": null,
   "metadata": {},
   "outputs": [],
   "source": [
    "nums_list[::-1]"
   ]
  },
  {
   "cell_type": "code",
   "execution_count": null,
   "metadata": {},
   "outputs": [],
   "source": [
    "nums_list[-2]"
   ]
  },
  {
   "cell_type": "code",
   "execution_count": null,
   "metadata": {},
   "outputs": [],
   "source": [
    "nums_list[-2][0]"
   ]
  },
  {
   "cell_type": "code",
   "execution_count": null,
   "metadata": {},
   "outputs": [],
   "source": [
    "nums_list[-2][-1]"
   ]
  },
  {
   "cell_type": "markdown",
   "metadata": {
    "id": "NR18Tb6di-fX"
   },
   "source": [
    "### Mutabilidad\n",
    "\n",
    "Las listas son un objeto del tipo `mutable`, es decir que sus valores puede *cambiar* una vez definida."
   ]
  },
  {
   "cell_type": "code",
   "execution_count": null,
   "metadata": {},
   "outputs": [],
   "source": [
    "nums_list[0] = 'six'\n",
    "nums_list"
   ]
  },
  {
   "cell_type": "code",
   "execution_count": null,
   "metadata": {
    "colab": {
     "base_uri": "https://localhost:8080/"
    },
    "executionInfo": {
     "elapsed": 319,
     "status": "ok",
     "timestamp": 1634133167446,
     "user": {
      "displayName": "Valentina Coggan",
      "photoUrl": "https://lh3.googleusercontent.com/a/default-user=s64",
      "userId": "05309776279401351870"
     },
     "user_tz": 180
    },
    "id": "3iBZlcVZi-fY",
    "outputId": "58931172-96d8-4a82-8416-81e1240b6c0f"
   },
   "outputs": [],
   "source": [
    "nums_list[0] = 'zero'\n",
    "nums_list"
   ]
  },
  {
   "cell_type": "markdown",
   "metadata": {
    "id": "2CVBVqlOi-fY"
   },
   "source": [
    "La asignación de valores de los elementos de una lista se puede hacer en rangos:"
   ]
  },
  {
   "cell_type": "code",
   "execution_count": null,
   "metadata": {
    "colab": {
     "base_uri": "https://localhost:8080/"
    },
    "executionInfo": {
     "elapsed": 247,
     "status": "ok",
     "timestamp": 1634133173639,
     "user": {
      "displayName": "Valentina Coggan",
      "photoUrl": "https://lh3.googleusercontent.com/a/default-user=s64",
      "userId": "05309776279401351870"
     },
     "user_tz": 180
    },
    "id": "8ZXX7Bbri-fY",
    "outputId": "51bae361-6dc9-44e7-95a7-fc508757fee6"
   },
   "outputs": [],
   "source": [
    "nums_list[0:3] = [0, 1, 2]\n",
    "nums_list"
   ]
  },
  {
   "cell_type": "code",
   "execution_count": null,
   "metadata": {
    "colab": {
     "base_uri": "https://localhost:8080/"
    },
    "executionInfo": {
     "elapsed": 284,
     "status": "ok",
     "timestamp": 1634133290411,
     "user": {
      "displayName": "Valentina Coggan",
      "photoUrl": "https://lh3.googleusercontent.com/a/default-user=s64",
      "userId": "05309776279401351870"
     },
     "user_tz": 180
    },
    "id": "K7vF7HKa6JlH",
    "outputId": "b5a2d1e8-e519-4ead-832b-de4e3f7388e7"
   },
   "outputs": [],
   "source": [
    "nums_list[0:3] = [0, 1, 2, 3]\n",
    "nums_list"
   ]
  },
  {
   "cell_type": "markdown",
   "metadata": {
    "id": "Fw5k3wL_rE-5"
   },
   "source": [
    "## Métodos del objeto list\n",
    "\n",
    "### append\n",
    "\n",
    "Agrega un objeto *al final* de la lista"
   ]
  },
  {
   "cell_type": "code",
   "execution_count": null,
   "metadata": {
    "id": "aQO3RplVrEU9"
   },
   "outputs": [],
   "source": [
    "cubes = [1, 8, 27, 64]"
   ]
  },
  {
   "cell_type": "code",
   "execution_count": null,
   "metadata": {
    "id": "6AqSsN37rEXQ"
   },
   "outputs": [],
   "source": [
    "cubes.append(5**3)\n",
    "cubes"
   ]
  },
  {
   "cell_type": "markdown",
   "metadata": {},
   "source": [
    "### insert\n",
    "\n",
    "Agrega un objeto en un índice dado de la lista"
   ]
  },
  {
   "cell_type": "code",
   "execution_count": null,
   "metadata": {
    "id": "zToE5iB2rvsu"
   },
   "outputs": [],
   "source": [
    "cubes.insert(0, 0)\n",
    "cubes"
   ]
  },
  {
   "cell_type": "markdown",
   "metadata": {},
   "source": [
    "*¡shift + Tab son tus amigas!*"
   ]
  },
  {
   "cell_type": "markdown",
   "metadata": {
    "id": "G9RiatJWqOMs"
   },
   "source": [
    "### Sumar listas"
   ]
  },
  {
   "cell_type": "code",
   "execution_count": null,
   "metadata": {
    "id": "sPlVp7Inp2w9"
   },
   "outputs": [],
   "source": [
    "some_numbers = [1, 2, 3, 4, 5]\n",
    "more_numbers = [6, 7, 8, 9, 10]"
   ]
  },
  {
   "cell_type": "code",
   "execution_count": null,
   "metadata": {
    "id": "y924w920p2y5"
   },
   "outputs": [],
   "source": [
    "some_numbers + more_numbers"
   ]
  },
  {
   "cell_type": "markdown",
   "metadata": {},
   "source": [
    "¿`some_numbers` y `more_numbers` cambiaron?"
   ]
  },
  {
   "cell_type": "code",
   "execution_count": null,
   "metadata": {},
   "outputs": [],
   "source": []
  },
  {
   "cell_type": "markdown",
   "metadata": {},
   "source": [
    "### count()\n",
    "\n",
    "*Cuenta* el número de ocurrencias de un objeto en una lista"
   ]
  },
  {
   "cell_type": "code",
   "execution_count": null,
   "metadata": {},
   "outputs": [],
   "source": [
    "some_numbers.append(4)\n",
    "some_numbers"
   ]
  },
  {
   "cell_type": "code",
   "execution_count": null,
   "metadata": {},
   "outputs": [],
   "source": [
    "some_numbers.count(4)"
   ]
  },
  {
   "cell_type": "code",
   "execution_count": null,
   "metadata": {},
   "outputs": [],
   "source": [
    "some_numbers.count(1)"
   ]
  },
  {
   "cell_type": "markdown",
   "metadata": {},
   "source": [
    "¿Qué tipo de objeto *retorna* el método `count()`?"
   ]
  },
  {
   "cell_type": "markdown",
   "metadata": {},
   "source": []
  },
  {
   "cell_type": "markdown",
   "metadata": {},
   "source": [
    "## index()\n",
    "\n",
    "Retorna *el índice* de la *primer ocurrencia* de un objeto dado:"
   ]
  },
  {
   "cell_type": "code",
   "execution_count": null,
   "metadata": {},
   "outputs": [],
   "source": [
    "print(some_numbers)\n",
    "some_numbers.index(4)"
   ]
  },
  {
   "cell_type": "code",
   "execution_count": null,
   "metadata": {},
   "outputs": [],
   "source": [
    "some_numbers.index(2)"
   ]
  },
  {
   "cell_type": "markdown",
   "metadata": {},
   "source": [
    "¿Qué tipo de objeto *retorna* el método `index()`?"
   ]
  },
  {
   "cell_type": "markdown",
   "metadata": {},
   "source": []
  },
  {
   "cell_type": "markdown",
   "metadata": {
    "id": "DDIZWPyfqWEz"
   },
   "source": [
    "### extend()\n",
    "\n",
    "Combina una lista con otra, modificando aquella lista sobre la que se ejecuta el método."
   ]
  },
  {
   "cell_type": "code",
   "execution_count": null,
   "metadata": {
    "id": "uGiLDwgeqjAY"
   },
   "outputs": [],
   "source": [
    "some_nums = [1, 2, 3, 4, 5]\n",
    "more_nums = [6, 7, 8, 9, 10]"
   ]
  },
  {
   "cell_type": "code",
   "execution_count": null,
   "metadata": {
    "id": "fb_w_EFbp21J"
   },
   "outputs": [],
   "source": [
    "some_nums.extend(more_nums)"
   ]
  },
  {
   "cell_type": "code",
   "execution_count": null,
   "metadata": {},
   "outputs": [],
   "source": [
    "some_nums"
   ]
  },
  {
   "cell_type": "markdown",
   "metadata": {
    "id": "k_D0uD1Fswpa"
   },
   "source": [
    "### pop()\n",
    "\n",
    "Elimina un objeto de la lista de una posición dada o *por defecto* la última. Retorna el elemento que se eliminó."
   ]
  },
  {
   "cell_type": "code",
   "execution_count": null,
   "metadata": {
    "id": "X4NiUP0as0D0"
   },
   "outputs": [],
   "source": [
    "vocals = ['a', 'e', 'i', 'o', 'u']"
   ]
  },
  {
   "cell_type": "code",
   "execution_count": null,
   "metadata": {
    "id": "9xF93nrFs0F6"
   },
   "outputs": [],
   "source": [
    "vocals.pop() # saco la letra 'u' de la lista"
   ]
  },
  {
   "cell_type": "code",
   "execution_count": null,
   "metadata": {
    "id": "T_jGZs1qs0H9"
   },
   "outputs": [],
   "source": [
    "vocals"
   ]
  },
  {
   "cell_type": "code",
   "execution_count": null,
   "metadata": {
    "id": "OyU0nDyNwkA1"
   },
   "outputs": [],
   "source": [
    "vocals = ['a', 'e', 'i', 'o', 'u']\n",
    "vocals.pop(-1)\n",
    "vocals"
   ]
  },
  {
   "cell_type": "markdown",
   "metadata": {
    "id": "J4mh2fnVtP30"
   },
   "source": [
    "¿Cuántas veces es posible ejecutar `pop()` de manera simultánea sobre una lista?"
   ]
  },
  {
   "cell_type": "code",
   "execution_count": null,
   "metadata": {
    "id": "tGjly4xQsgs6"
   },
   "outputs": [],
   "source": []
  },
  {
   "cell_type": "markdown",
   "metadata": {
    "id": "PQDTKQhR9Q2w"
   },
   "source": [
    "### remove()\n",
    "\n",
    "Remueve la primer ocurrencia de *un objeto dado* de la lista."
   ]
  },
  {
   "cell_type": "code",
   "execution_count": null,
   "metadata": {
    "id": "AevHdsg3vPxB"
   },
   "outputs": [],
   "source": [
    "vocals = ['a', 'e', 'i', 'y', 'o', 'u']"
   ]
  },
  {
   "cell_type": "code",
   "execution_count": null,
   "metadata": {
    "id": "DpOR_earu4pq"
   },
   "outputs": [],
   "source": [
    "vocals.remove('y')\n",
    "vocals"
   ]
  },
  {
   "cell_type": "code",
   "execution_count": null,
   "metadata": {
    "id": "AA7oujvqtUYt"
   },
   "outputs": [],
   "source": [
    "vocals = ['a', 'e', 'i', 'y', 'o', 'u', 'y']"
   ]
  },
  {
   "cell_type": "code",
   "execution_count": null,
   "metadata": {
    "id": "Dq1fPLknwDd8"
   },
   "outputs": [],
   "source": [
    "vocals.remove('y')\n",
    "vocals"
   ]
  },
  {
   "cell_type": "markdown",
   "metadata": {
    "id": "sBIW4l2lCbol"
   },
   "source": [
    "### sort()\n",
    "\n",
    "Ordena una lista *por defecto* de manera ascendente"
   ]
  },
  {
   "cell_type": "code",
   "execution_count": null,
   "metadata": {
    "colab": {
     "base_uri": "https://localhost:8080/"
    },
    "executionInfo": {
     "elapsed": 282,
     "status": "ok",
     "timestamp": 1634135091594,
     "user": {
      "displayName": "Valentina Coggan",
      "photoUrl": "https://lh3.googleusercontent.com/a/default-user=s64",
      "userId": "05309776279401351870"
     },
     "user_tz": 180
    },
    "id": "VGdzd3pVCi2_",
    "outputId": "ea17bb1f-5cd0-4899-8926-2a8bc7d1c97b"
   },
   "outputs": [],
   "source": [
    "nums = [1, 5, 99, 2, 3.14, 2//3, 2**3, 0]\n",
    "nums"
   ]
  },
  {
   "cell_type": "code",
   "execution_count": null,
   "metadata": {},
   "outputs": [],
   "source": [
    "nums.sort()\n",
    "nums"
   ]
  },
  {
   "cell_type": "markdown",
   "metadata": {
    "id": "nQRyhJ92HIR2"
   },
   "source": [
    "### Para investigar 🔎\n",
    "\n",
    "¿Cómo ordenar una lista de forma descendente?"
   ]
  },
  {
   "cell_type": "code",
   "execution_count": null,
   "metadata": {
    "id": "MX_lh_RGH3zF"
   },
   "outputs": [],
   "source": []
  },
  {
   "cell_type": "markdown",
   "metadata": {
    "id": "t3Krtnmg-qwj"
   },
   "source": [
    "### Operaciones sobre list"
   ]
  },
  {
   "cell_type": "code",
   "execution_count": null,
   "metadata": {
    "id": "z82uLmnW_9z1"
   },
   "outputs": [],
   "source": [
    "str_list = ['zero', 'one', 'two', 'four', 'five']"
   ]
  },
  {
   "cell_type": "code",
   "execution_count": null,
   "metadata": {
    "colab": {
     "base_uri": "https://localhost:8080/"
    },
    "executionInfo": {
     "elapsed": 241,
     "status": "ok",
     "timestamp": 1634134589118,
     "user": {
      "displayName": "Valentina Coggan",
      "photoUrl": "https://lh3.googleusercontent.com/a/default-user=s64",
      "userId": "05309776279401351870"
     },
     "user_tz": 180
    },
    "id": "ZyCy09mJAOnU",
    "outputId": "b2034224-d627-4843-bddc-75ccd963e274"
   },
   "outputs": [],
   "source": [
    "len(str_list)"
   ]
  },
  {
   "cell_type": "code",
   "execution_count": null,
   "metadata": {
    "colab": {
     "base_uri": "https://localhost:8080/"
    },
    "executionInfo": {
     "elapsed": 251,
     "status": "ok",
     "timestamp": 1634134590779,
     "user": {
      "displayName": "Valentina Coggan",
      "photoUrl": "https://lh3.googleusercontent.com/a/default-user=s64",
      "userId": "05309776279401351870"
     },
     "user_tz": 180
    },
    "id": "jGq6dnUyAfvs",
    "outputId": "3abd0d59-4127-4ed9-802b-30622370e5bf"
   },
   "outputs": [],
   "source": [
    "type(str_list)"
   ]
  },
  {
   "cell_type": "code",
   "execution_count": null,
   "metadata": {
    "colab": {
     "base_uri": "https://localhost:8080/"
    },
    "executionInfo": {
     "elapsed": 235,
     "status": "ok",
     "timestamp": 1634134592703,
     "user": {
      "displayName": "Valentina Coggan",
      "photoUrl": "https://lh3.googleusercontent.com/a/default-user=s64",
      "userId": "05309776279401351870"
     },
     "user_tz": 180
    },
    "id": "HJkSJTAGAjAU",
    "outputId": "bab9fe80-ccc0-4145-881b-91222d06a1ab"
   },
   "outputs": [],
   "source": [
    "'one' in str_list"
   ]
  },
  {
   "cell_type": "code",
   "execution_count": null,
   "metadata": {},
   "outputs": [],
   "source": [
    "'six' in str_list"
   ]
  },
  {
   "cell_type": "code",
   "execution_count": null,
   "metadata": {
    "colab": {
     "base_uri": "https://localhost:8080/"
    },
    "executionInfo": {
     "elapsed": 254,
     "status": "ok",
     "timestamp": 1634134952480,
     "user": {
      "displayName": "Valentina Coggan",
      "photoUrl": "https://lh3.googleusercontent.com/a/default-user=s64",
      "userId": "05309776279401351870"
     },
     "user_tz": 180
    },
    "id": "3pDxj0k2CB6r",
    "outputId": "8e4c9d17-6b56-4145-a77f-274db7dc081c"
   },
   "outputs": [],
   "source": [
    "str_list * 2"
   ]
  },
  {
   "cell_type": "markdown",
   "metadata": {
    "id": "VEQ862uJ6jOE"
   },
   "source": [
    "### list of lists"
   ]
  },
  {
   "cell_type": "code",
   "execution_count": null,
   "metadata": {
    "id": "dvnh-oNv6nU3"
   },
   "outputs": [],
   "source": [
    "a_matrix = [[1,2],[3,4]]"
   ]
  },
  {
   "cell_type": "markdown",
   "metadata": {
    "id": "zqel9_Qa6utR"
   },
   "source": [
    "|   | 0   | 1   |\n",
    "|---|-----|-----|\n",
    "| 0 | `1` | `2` |\n",
    "| 1 | `3` | `4` |"
   ]
  },
  {
   "cell_type": "code",
   "execution_count": null,
   "metadata": {
    "id": "l8sDF7ISuyqj"
   },
   "outputs": [],
   "source": [
    "a_matrix[0]"
   ]
  },
  {
   "cell_type": "code",
   "execution_count": null,
   "metadata": {
    "id": "HuFpd1bH6iwr"
   },
   "outputs": [],
   "source": [
    "a_matrix[1]"
   ]
  },
  {
   "cell_type": "code",
   "execution_count": null,
   "metadata": {},
   "outputs": [],
   "source": [
    "a_matrix[0][0]"
   ]
  },
  {
   "cell_type": "markdown",
   "metadata": {
    "id": "YxFZc3a_unP8"
   },
   "source": [
    "¿Cómo obtener el número 4?"
   ]
  },
  {
   "cell_type": "code",
   "execution_count": null,
   "metadata": {
    "id": "Z3v73hF-613V"
   },
   "outputs": [],
   "source": []
  },
  {
   "cell_type": "markdown",
   "metadata": {
    "id": "YxFZc3a_unP8"
   },
   "source": [
    "¿Cómo obtener el número 2?"
   ]
  },
  {
   "cell_type": "code",
   "execution_count": null,
   "metadata": {},
   "outputs": [],
   "source": []
  },
  {
   "cell_type": "markdown",
   "metadata": {
    "id": "YxFZc3a_unP8"
   },
   "source": [
    "¿Cómo obtener el número 3?"
   ]
  },
  {
   "cell_type": "code",
   "execution_count": null,
   "metadata": {},
   "outputs": [],
   "source": []
  },
  {
   "cell_type": "markdown",
   "metadata": {
    "id": "vUaPCER36ME0"
   },
   "source": [
    "### Operadores y listas"
   ]
  },
  {
   "cell_type": "code",
   "execution_count": null,
   "metadata": {
    "colab": {
     "base_uri": "https://localhost:8080/"
    },
    "executionInfo": {
     "elapsed": 255,
     "status": "ok",
     "timestamp": 1634135223875,
     "user": {
      "displayName": "Valentina Coggan",
      "photoUrl": "https://lh3.googleusercontent.com/a/default-user=s64",
      "userId": "05309776279401351870"
     },
     "user_tz": 180
    },
    "id": "49DIXGjt6LnR",
    "outputId": "13dc7446-3d42-4988-d7ac-0332225847f8"
   },
   "outputs": [],
   "source": [
    "1 in [1,2,3]"
   ]
  },
  {
   "cell_type": "code",
   "execution_count": null,
   "metadata": {
    "colab": {
     "base_uri": "https://localhost:8080/"
    },
    "executionInfo": {
     "elapsed": 244,
     "status": "ok",
     "timestamp": 1634135226064,
     "user": {
      "displayName": "Valentina Coggan",
      "photoUrl": "https://lh3.googleusercontent.com/a/default-user=s64",
      "userId": "05309776279401351870"
     },
     "user_tz": 180
    },
    "id": "Mj-SB3bX6Lpy",
    "outputId": "00a59f02-7b90-49f5-bbd7-76707e5d91da"
   },
   "outputs": [],
   "source": [
    "[1,2] == [1,2]"
   ]
  },
  {
   "cell_type": "code",
   "execution_count": null,
   "metadata": {
    "colab": {
     "base_uri": "https://localhost:8080/"
    },
    "executionInfo": {
     "elapsed": 256,
     "status": "ok",
     "timestamp": 1634135228200,
     "user": {
      "displayName": "Valentina Coggan",
      "photoUrl": "https://lh3.googleusercontent.com/a/default-user=s64",
      "userId": "05309776279401351870"
     },
     "user_tz": 180
    },
    "id": "NkkQtKiL6a22",
    "outputId": "2fd94da5-ed94-4044-9b9c-beeb20053a42"
   },
   "outputs": [],
   "source": [
    "[1,2] in [1,2,3]"
   ]
  },
  {
   "cell_type": "code",
   "execution_count": null,
   "metadata": {
    "colab": {
     "base_uri": "https://localhost:8080/"
    },
    "executionInfo": {
     "elapsed": 422,
     "status": "ok",
     "timestamp": 1634135239935,
     "user": {
      "displayName": "Valentina Coggan",
      "photoUrl": "https://lh3.googleusercontent.com/a/default-user=s64",
      "userId": "05309776279401351870"
     },
     "user_tz": 180
    },
    "id": "L2IqQOqS6a5i",
    "outputId": "bc457988-8292-43aa-c339-f92e2bf6198f"
   },
   "outputs": [],
   "source": [
    "[1,2] in [[1,2], [3,4]]"
   ]
  },
  {
   "cell_type": "markdown",
   "metadata": {
    "id": "ZQzEnjS7zJgy"
   },
   "source": [
    "### split(): String to list\n",
    "\n",
    "Separa (*o splitea*) un string, bajo algún criterio de separación que *por defecto* es `''` y los almacena en una lista."
   ]
  },
  {
   "cell_type": "code",
   "execution_count": null,
   "metadata": {
    "colab": {
     "base_uri": "https://localhost:8080/"
    },
    "executionInfo": {
     "elapsed": 598,
     "status": "ok",
     "timestamp": 1634135361553,
     "user": {
      "displayName": "Valentina Coggan",
      "photoUrl": "https://lh3.googleusercontent.com/a/default-user=s64",
      "userId": "05309776279401351870"
     },
     "user_tz": 180
    },
    "id": "LClJ8n1EzKtz",
    "outputId": "098bb85d-3ebc-426f-db5e-9193edfa24e9"
   },
   "outputs": [],
   "source": [
    "'Se hacen tus ojos demasiado azules.'.split()"
   ]
  },
  {
   "cell_type": "code",
   "execution_count": null,
   "metadata": {
    "colab": {
     "base_uri": "https://localhost:8080/"
    },
    "executionInfo": {
     "elapsed": 243,
     "status": "ok",
     "timestamp": 1634135373710,
     "user": {
      "displayName": "Valentina Coggan",
      "photoUrl": "https://lh3.googleusercontent.com/a/default-user=s64",
      "userId": "05309776279401351870"
     },
     "user_tz": 180
    },
    "id": "WIHak7wKzuNF",
    "outputId": "ba49172c-3192-4cd6-b722-b8b4812d1f87"
   },
   "outputs": [],
   "source": [
    "gpg_sv_log = '$GPGSV,3,2,11,19,25,314,42,26,24,044,42,24,16,118,43,29,15,039,42*7E'\n",
    "gpg_sv_log.split(',')"
   ]
  },
  {
   "cell_type": "markdown",
   "metadata": {},
   "source": [
    "### join(): list to str\n",
    "\n",
    "*Concatena* los strings de una lista con un *caracter* dado:"
   ]
  },
  {
   "cell_type": "code",
   "execution_count": null,
   "metadata": {
    "colab": {
     "base_uri": "https://localhost:8080/"
    },
    "executionInfo": {
     "elapsed": 245,
     "status": "ok",
     "timestamp": 1634135379964,
     "user": {
      "displayName": "Valentina Coggan",
      "photoUrl": "https://lh3.googleusercontent.com/a/default-user=s64",
      "userId": "05309776279401351870"
     },
     "user_tz": 180
    },
    "id": "mmys_oyEzOmv",
    "outputId": "8ea963e7-dde5-41c1-d485-878a6c687481"
   },
   "outputs": [],
   "source": [
    "name = \"Bugs\"\n",
    "last_name = \"Bunny\"\n",
    "\n",
    "name_sequence = [name, last_name]\n",
    "\n",
    "' '.join(name_sequence)"
   ]
  },
  {
   "cell_type": "code",
   "execution_count": null,
   "metadata": {},
   "outputs": [],
   "source": [
    "gpg_sv_values_list = ['3', '1', '11', '18', '87', '050', '48']\n",
    "gpg_sv_values_str = ','.join(gpg_sv_values_list)\n",
    "gpg_sv_values_str"
   ]
  },
  {
   "cell_type": "code",
   "execution_count": null,
   "metadata": {},
   "outputs": [],
   "source": [
    "f'$GPGSV,{gpg_sv_values_str}'"
   ]
  },
  {
   "cell_type": "markdown",
   "metadata": {},
   "source": [
    "## Ejercicios list\n",
    "\n",
    "### Sincrónicos"
   ]
  },
  {
   "cell_type": "markdown",
   "metadata": {},
   "source": [
    "Invertir el primer y último elemento de una lista dada:\n",
    "\n",
    "Input : [12, 35, 9, 56, 24]  \n",
    "Output : [24, 35, 9, 56, 12]\n",
    "\n",
    "Input : [1, 2, 3]  \n",
    "Output : [3, 2, 1]"
   ]
  },
  {
   "cell_type": "code",
   "execution_count": null,
   "metadata": {},
   "outputs": [],
   "source": []
  },
  {
   "cell_type": "markdown",
   "metadata": {},
   "source": [
    "Obtener los datos de interés sobre satélites disponibles del log:\n",
    "\n",
    "- total_number_of_messages\n",
    "- message_number\n",
    "- total_number_of_sat_in_view\n",
    "- pr\n",
    "- elevation_degrees\n",
    "- azimuth\n",
    "- SNR"
   ]
  },
  {
   "cell_type": "code",
   "execution_count": null,
   "metadata": {},
   "outputs": [],
   "source": [
    "gpg_sv_log = '$GPGSV,3,1,11,18,87,050,48'"
   ]
  },
  {
   "cell_type": "code",
   "execution_count": null,
   "metadata": {},
   "outputs": [],
   "source": []
  },
  {
   "cell_type": "markdown",
   "metadata": {},
   "source": [
    "### Asincrónicos"
   ]
  },
  {
   "cell_type": "markdown",
   "metadata": {},
   "source": [
    "Invertir dos elementos de una lista, según dos posiciones dadas:"
   ]
  },
  {
   "cell_type": "markdown",
   "metadata": {},
   "source": [
    "Input : [23, 65, 19, 90], i = 1, j = 3  \n",
    "Output : [19, 65, 23, 90]\n",
    "\n",
    "Input : [1, 2, 3, 4, 5], i = 2, j = 5  \n",
    "Output : [1, 5, 3, 4, 2]"
   ]
  },
  {
   "cell_type": "code",
   "execution_count": null,
   "metadata": {},
   "outputs": [],
   "source": []
  },
  {
   "cell_type": "markdown",
   "metadata": {},
   "source": [
    "Generalizar el ejercicio anterior para dos posiciones que se reciben *por teclado*"
   ]
  },
  {
   "cell_type": "code",
   "execution_count": null,
   "metadata": {},
   "outputs": [],
   "source": []
  },
  {
   "cell_type": "markdown",
   "metadata": {},
   "source": [
    "Dadas las siguientes listas:"
   ]
  },
  {
   "cell_type": "code",
   "execution_count": null,
   "metadata": {},
   "outputs": [],
   "source": [
    "a_list = [1, 2, 3]\n",
    "another_list = ['six', 'five', 'four']"
   ]
  },
  {
   "cell_type": "markdown",
   "metadata": {},
   "source": [
    "Obtener una tercera tal que:\n",
    "\n",
    "`mix_list = [1, 2, 3, 'four', 'five', 'six']`"
   ]
  },
  {
   "cell_type": "code",
   "execution_count": null,
   "metadata": {},
   "outputs": [],
   "source": []
  },
  {
   "cell_type": "markdown",
   "metadata": {},
   "source": [
    "Modificar las siguientes listas tal que:\n",
    "\n",
    "Input : [23, 65, 19, 90, -1, -5]  \n",
    "Output : [23, 65, 19, 90]  \n",
    "\n",
    "Input : [1, 2, 3, 5, 4, -2]  \n",
    "Output : [1, 2, 3, 4, 5]"
   ]
  },
  {
   "cell_type": "code",
   "execution_count": null,
   "metadata": {},
   "outputs": [],
   "source": []
  },
  {
   "cell_type": "markdown",
   "metadata": {},
   "source": [
    "Dada una lista, recibir un objeto *por teclado* y agregarlo al final de la lista:"
   ]
  },
  {
   "cell_type": "code",
   "execution_count": null,
   "metadata": {},
   "outputs": [],
   "source": [
    "monty_python = ['Eric Idle', 'Terry Jones', 'Terry Gilliam', 'Graham Chapman']"
   ]
  },
  {
   "cell_type": "code",
   "execution_count": null,
   "metadata": {},
   "outputs": [],
   "source": []
  },
  {
   "cell_type": "markdown",
   "metadata": {},
   "source": [
    "Evaluar si el objeto ingresado por teclado es igual a alguno de la lista."
   ]
  },
  {
   "cell_type": "code",
   "execution_count": null,
   "metadata": {},
   "outputs": [],
   "source": []
  },
  {
   "cell_type": "markdown",
   "metadata": {},
   "source": [
    "En base al ejercicio anterior, agregar el nuevo elemento (recibido por teclado) en una posición también ingresada por teclado:"
   ]
  },
  {
   "cell_type": "code",
   "execution_count": null,
   "metadata": {},
   "outputs": [],
   "source": []
  },
  {
   "cell_type": "markdown",
   "metadata": {},
   "source": [
    "Para la lista `monty_python` eliminar un elemento según una posición recibida por teclado"
   ]
  },
  {
   "cell_type": "code",
   "execution_count": null,
   "metadata": {},
   "outputs": [],
   "source": []
  },
  {
   "cell_type": "markdown",
   "metadata": {},
   "source": [
    "En base a la lista `monty_python` crear los siguientes `str`:\n",
    "* `'Eric Idle, Terry Jones, Terry Gilliam, Graham Chapman'`\n",
    "* `'Eric Idle & Terry Jones & Terry Gilliam & Graham Chapman'`"
   ]
  },
  {
   "cell_type": "code",
   "execution_count": null,
   "metadata": {},
   "outputs": [],
   "source": []
  },
  {
   "cell_type": "markdown",
   "metadata": {},
   "source": [
    "> Más info: [datastructures python oficial](https://docs.python.org/3/tutorial/datastructures.html)  \n",
    "> [list methods - real python](https://realpython.com/lessons/list-methods/)"
   ]
  }
 ],
 "metadata": {
  "colab": {
   "collapsed_sections": [],
   "name": "5.modulo_2-lists.ipynb",
   "provenance": []
  },
  "kernelspec": {
   "display_name": "Python 3 (ipykernel)",
   "language": "python",
   "name": "python3"
  },
  "language_info": {
   "codemirror_mode": {
    "name": "ipython",
    "version": 3
   },
   "file_extension": ".py",
   "mimetype": "text/x-python",
   "name": "python",
   "nbconvert_exporter": "python",
   "pygments_lexer": "ipython3",
   "version": "3.9.12"
  }
 },
 "nbformat": 4,
 "nbformat_minor": 4
}
