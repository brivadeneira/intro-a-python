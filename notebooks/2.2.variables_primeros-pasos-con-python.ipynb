{
 "cells": [
  {
   "cell_type": "markdown",
   "id": "20f6899f-f1f2-455e-83f1-80fbe3e884c2",
   "metadata": {
    "id": "20f6899f-f1f2-455e-83f1-80fbe3e884c2",
    "tags": []
   },
   "source": [
    "# **MÓDULO 2 - PRIMEROS PASOS CON PYTHON**\n",
    "## 💬 Comentarios"
   ]
  },
  {
   "cell_type": "markdown",
   "id": "87764871-d32e-4c49-9e31-31a1533838c6",
   "metadata": {
    "id": "87764871-d32e-4c49-9e31-31a1533838c6",
    "tags": []
   },
   "source": [
    "Los comentarios son muy útiles para dejar explicaciones en el código pero deben ser **claros** y **agregar valor**."
   ]
  },
  {
   "cell_type": "code",
   "execution_count": 1,
   "id": "fd1de815-fc17-455c-b57d-3158ea94086c",
   "metadata": {
    "id": "fd1de815-fc17-455c-b57d-3158ea94086c"
   },
   "outputs": [],
   "source": [
    "# Los comentarios de una sola línea en Python comienzan con \"#\"\n",
    "# todo lo que se escriba a la derecha del \"#\" \n",
    "# hasta el final de la linea va a ser ignorado por el lenguaje"
   ]
  },
  {
   "cell_type": "code",
   "execution_count": 2,
   "id": "uTRt39-T3yOv",
   "metadata": {
    "id": "uTRt39-T3yOv"
   },
   "outputs": [
    {
     "data": {
      "text/plain": [
       "'\\nEste es un comentario\\nde varias\\nlíneas\\n'"
      ]
     },
     "execution_count": 2,
     "metadata": {},
     "output_type": "execute_result"
    }
   ],
   "source": [
    "\"\"\"\n",
    "Este es un comentario\n",
    "de varias\n",
    "líneas\n",
    "\"\"\""
   ]
  },
  {
   "cell_type": "code",
   "execution_count": null,
   "id": "900c2a74-2a8c-47f8-995c-60df1f60dfd3",
   "metadata": {
    "id": "900c2a74-2a8c-47f8-995c-60df1f60dfd3"
   },
   "outputs": [],
   "source": [
    "# comentario\n",
    "2 + 2"
   ]
  },
  {
   "cell_type": "code",
   "execution_count": 1,
   "id": "e239a0cb-6282-4304-ae9c-55206bb4adb8",
   "metadata": {
    "id": "e239a0cb-6282-4304-ae9c-55206bb4adb8"
   },
   "outputs": [
    {
     "data": {
      "text/plain": [
       "4"
      ]
     },
     "execution_count": 1,
     "metadata": {},
     "output_type": "execute_result"
    }
   ],
   "source": [
    "2 + 2  # comentario"
   ]
  },
  {
   "cell_type": "markdown",
   "id": "5fea55c5-c099-4c34-9957-1b426f922b6d",
   "metadata": {
    "id": "5fea55c5-c099-4c34-9957-1b426f922b6d"
   },
   "source": [
    "## Variables\n",
    "\n",
    "![](https://c.tenor.com/5nRQjrwBE7cAAAAC/monty-python.gif)\n",
    "\n",
    "Una variable es un nombre relacionado a un objeto particular. Para definir una variable en Python, basta solamente con hacer la asignación.\n",
    "\n",
    "syntax:\n",
    "\n",
    "`variable_name` = `variable_value` \n",
    "> Snake Case "
   ]
  },
  {
   "cell_type": "code",
   "execution_count": 2,
   "id": "159dff90-8e47-4dc1-b6b5-730066996933",
   "metadata": {},
   "outputs": [],
   "source": [
    "n = 300"
   ]
  },
  {
   "cell_type": "code",
   "execution_count": 3,
   "id": "7c594dfa-6c73-424f-a948-817ca48ca1d5",
   "metadata": {},
   "outputs": [
    {
     "data": {
      "text/plain": [
       "300"
      ]
     },
     "execution_count": 3,
     "metadata": {},
     "output_type": "execute_result"
    }
   ],
   "source": [
    "n"
   ]
  },
  {
   "cell_type": "code",
   "execution_count": 4,
   "id": "b2926891-7f1d-4707-a3c9-bb6feac9c135",
   "metadata": {},
   "outputs": [
    {
     "name": "stdout",
     "output_type": "stream",
     "text": [
      "300\n"
     ]
    }
   ],
   "source": [
    "print(n)"
   ]
  },
  {
   "cell_type": "code",
   "execution_count": 5,
   "id": "7640e4c1-7a98-460d-982e-7d2d190e3e71",
   "metadata": {},
   "outputs": [],
   "source": [
    "a = b = c = 300"
   ]
  },
  {
   "cell_type": "code",
   "execution_count": 6,
   "id": "e41905d8-9bf4-4da8-8132-00573b245588",
   "metadata": {},
   "outputs": [
    {
     "name": "stdout",
     "output_type": "stream",
     "text": [
      "300 300 300\n"
     ]
    }
   ],
   "source": [
    "print(a, b, c)"
   ]
  },
  {
   "cell_type": "markdown",
   "id": "5e69fed0-d9bf-4e80-90a3-54d42f72d0be",
   "metadata": {},
   "source": [
    "Python es un lenguaje de *tipado débil*, el intérprete determina de qué tipo es una variable, y esta puede ser asignada a un tipo de objeto, y más tarde a otro tipo de objeto sin restricciones:"
   ]
  },
  {
   "cell_type": "code",
   "execution_count": 9,
   "id": "49cfc393-1811-4e92-a7d0-010de4e9102b",
   "metadata": {},
   "outputs": [
    {
     "name": "stdout",
     "output_type": "stream",
     "text": [
      "23.5\n"
     ]
    }
   ],
   "source": [
    "var = 23.5\n",
    "print(var)"
   ]
  },
  {
   "cell_type": "code",
   "execution_count": 8,
   "id": "f438ff21-2174-4e11-82ca-3637e6792f49",
   "metadata": {},
   "outputs": [
    {
     "name": "stdout",
     "output_type": "stream",
     "text": [
      "Now I'm a string\n"
     ]
    }
   ],
   "source": [
    "var = \"Now I'm a string\"\n",
    "print(var)"
   ]
  },
  {
   "cell_type": "markdown",
   "id": "86cd627c-2f6e-4ef7-ae1e-cfc08e74cf50",
   "metadata": {},
   "source": [
    "¡`type()` es tu amiga!"
   ]
  },
  {
   "cell_type": "code",
   "execution_count": 9,
   "id": "4ced0df5-e92c-451c-a89d-75af7f53a05d",
   "metadata": {},
   "outputs": [
    {
     "data": {
      "text/plain": [
       "str"
      ]
     },
     "execution_count": 9,
     "metadata": {},
     "output_type": "execute_result"
    }
   ],
   "source": [
    "type(var)"
   ]
  },
  {
   "cell_type": "code",
   "execution_count": 10,
   "id": "3f634740-60aa-45ea-ad25-21f4ad09a488",
   "metadata": {},
   "outputs": [
    {
     "data": {
      "text/plain": [
       "int"
      ]
     },
     "execution_count": 10,
     "metadata": {},
     "output_type": "execute_result"
    }
   ],
   "source": [
    "type(n)"
   ]
  },
  {
   "cell_type": "markdown",
   "id": "01689608-fed1-4390-b2c5-3bfabff36c7d",
   "metadata": {},
   "source": [
    "⚠️ Pero **OJO**, la asignación de una variable implica una *referencia* que *apunta* a un objeto:"
   ]
  },
  {
   "cell_type": "code",
   "execution_count": 11,
   "id": "afe98aa7-28d4-43ad-9b18-a4b26a9a0441",
   "metadata": {},
   "outputs": [],
   "source": [
    "m = n"
   ]
  },
  {
   "cell_type": "markdown",
   "id": "4a27a1ce-58e5-4dc4-93f4-5fe1685e45f0",
   "metadata": {},
   "source": [
    "![](https://files.realpython.com/media/t.d368386b8423.png)"
   ]
  },
  {
   "cell_type": "code",
   "execution_count": 12,
   "id": "2b3f16ed-b3f2-4ca5-b992-293f12513cd1",
   "metadata": {},
   "outputs": [],
   "source": [
    "m = 400"
   ]
  },
  {
   "cell_type": "markdown",
   "id": "531fe2fa-3c5f-4cb2-a757-35748f658938",
   "metadata": {},
   "source": [
    "![](https://files.realpython.com/media/t.d476d91592cd.png)"
   ]
  },
  {
   "cell_type": "code",
   "execution_count": 13,
   "id": "aad972e6-2ab2-4bce-8a67-eafb2acdc42c",
   "metadata": {},
   "outputs": [],
   "source": [
    "n = 'foo'"
   ]
  },
  {
   "cell_type": "markdown",
   "id": "3686aca0-7566-440d-8faf-dcef797ef7cd",
   "metadata": {},
   "source": [
    "![](https://files.realpython.com/media/t.344ab0b3aa8c.png)"
   ]
  },
  {
   "cell_type": "markdown",
   "id": "46d36bea-206d-4844-a505-d5bc433c59e0",
   "metadata": {},
   "source": [
    "Para Python *todo es un objeto*, cada objeto tiene un número de identificación:"
   ]
  },
  {
   "cell_type": "code",
   "execution_count": 14,
   "id": "7283810d-2b08-4db9-b376-de83d8d3223e",
   "metadata": {},
   "outputs": [
    {
     "name": "stdout",
     "output_type": "stream",
     "text": [
      "139967348651568\n",
      "139967348651568\n"
     ]
    }
   ],
   "source": [
    "n = 300\n",
    "m = n\n",
    "print(id(n))\n",
    "print(id(m))"
   ]
  },
  {
   "cell_type": "code",
   "execution_count": 15,
   "id": "8f670899-b6bb-4efa-abe1-851bc891b75c",
   "metadata": {},
   "outputs": [
    {
     "data": {
      "text/plain": [
       "139967348652976"
      ]
     },
     "execution_count": 15,
     "metadata": {},
     "output_type": "execute_result"
    }
   ],
   "source": [
    "m = 400\n",
    "id(m)"
   ]
  },
  {
   "cell_type": "markdown",
   "id": "8759f9d9-5141-42ef-adb1-ca695350282c",
   "metadata": {},
   "source": [
    "### Nombres de variables\n",
    "\n",
    "válidos"
   ]
  },
  {
   "cell_type": "code",
   "execution_count": 1,
   "id": "bc3981cf-300c-4983-a1cf-c5436adc3259",
   "metadata": {},
   "outputs": [
    {
     "name": "stdout",
     "output_type": "stream",
     "text": [
      "Bob 54 True\n"
     ]
    }
   ],
   "source": [
    "name = \"Bob\"\n",
    "age = 54\n",
    "has_w2 = True\n",
    "print(name, age, has_w2)"
   ]
  },
  {
   "cell_type": "markdown",
   "id": "2a84f87f-fc02-445a-b605-ae3997dc93d9",
   "metadata": {},
   "source": [
    "inválidos"
   ]
  },
  {
   "cell_type": "code",
   "execution_count": 16,
   "id": "dca3c0a8-8c12-4b47-a99d-529f8f03c8ee",
   "metadata": {},
   "outputs": [
    {
     "ename": "SyntaxError",
     "evalue": "invalid decimal literal (4226384492.py, line 1)",
     "output_type": "error",
     "traceback": [
      "\u001b[0;36m  Input \u001b[0;32mIn [16]\u001b[0;36m\u001b[0m\n\u001b[0;31m    1099_filed = False\u001b[0m\n\u001b[0m        ^\u001b[0m\n\u001b[0;31mSyntaxError\u001b[0m\u001b[0;31m:\u001b[0m invalid decimal literal\n"
     ]
    }
   ],
   "source": [
    "1099_filed = False"
   ]
  },
  {
   "cell_type": "markdown",
   "id": "ef644f03-1ad3-4ed2-ab12-49263fd7b5b4",
   "metadata": {},
   "source": [
    "⚠️ *OJO*, Python diferencia mayúsculas de minúsculas"
   ]
  },
  {
   "cell_type": "code",
   "execution_count": 18,
   "id": "dcf838bd-2e68-4b76-8766-dedaca62a4c4",
   "metadata": {},
   "outputs": [
    {
     "name": "stdout",
     "output_type": "stream",
     "text": [
      "54 55\n"
     ]
    }
   ],
   "source": [
    "age = 54\n",
    "Age = 55\n",
    "print(age, Age)"
   ]
  },
  {
   "cell_type": "markdown",
   "id": "2ffb74bb-c401-4431-997a-b16e38ec0b40",
   "metadata": {},
   "source": [
    "#### Cómo elegir buenos nombres de variables\n",
    "\n",
    "Un \"buen\" nombre para una variable:\n",
    "\n",
    "- Debe ser claro y conciso.\n",
    "- Debe estar escrito en inglés.\n",
    "- No debe contener caracteres especiales.\n",
    "- No deben coincidir con palabras reservadas de python: `False, def, if, raise, None, del, import, return, True, elif, in, try, and, else, is, while, as, except, lambda, with, assert, finally, nonlocal, yield, break, for, not, class, from, or, continue, global, pass`.\n",
    "- Debe estar escrito en **minúscula**.\n",
    "- Las palabras se deben separar con `_`.\n"
   ]
  },
  {
   "cell_type": "markdown",
   "id": "2be9ce8a-f975-44d8-b4eb-d539fa24f5c8",
   "metadata": {
    "id": "68baa794-e0a9-42ac-86ac-10133bf053fd"
   },
   "source": [
    "## Ejercicios de variables ✏️\n",
    "\n",
    "### Sincrónicos\n",
    "\n",
    "Crear las variables necesarias para la simulación de Monte Carlo:\n",
    "\n",
    "* Initial stock index level $S_0 = 100$  \n",
    "* Strike price of the European call option $K = 105$\n",
    "* Time to maturity $T = 1 year$\n",
    "* Constant, riskless short rate $r = 0.05$\n",
    "* Constant volatility σ $ = 0.2$"
   ]
  },
  {
   "cell_type": "code",
   "execution_count": null,
   "id": "fbcf9035-012b-4a97-bd33-e92d41087bdb",
   "metadata": {},
   "outputs": [],
   "source": [
    "σ = 0.2"
   ]
  },
  {
   "cell_type": "markdown",
   "id": "3bcb2af2-b5e8-4463-8ba7-bdf5355d3989",
   "metadata": {},
   "source": [
    "Repetir la expresión de Monte Carlo empleando las variables antes creadas"
   ]
  },
  {
   "cell_type": "code",
   "execution_count": null,
   "id": "3a31f333-c625-434a-aa28-67c78de38f46",
   "metadata": {},
   "outputs": [],
   "source": []
  },
  {
   "cell_type": "markdown",
   "id": "21b8dc25-0708-4b8a-bd59-d889109f4f27",
   "metadata": {
    "id": "21b8dc25-0708-4b8a-bd59-d889109f4f27"
   },
   "source": [
    "Crear una variable con nombre `price` y con valor 500."
   ]
  },
  {
   "cell_type": "code",
   "execution_count": null,
   "id": "54197496-90a5-4883-a725-9ce92077f146",
   "metadata": {
    "id": "54197496-90a5-4883-a725-9ce92077f146"
   },
   "outputs": [],
   "source": []
  },
  {
   "cell_type": "markdown",
   "id": "25a9c010-f41d-438a-a938-9bbc3159981d",
   "metadata": {
    "id": "25a9c010-f41d-438a-a938-9bbc3159981d"
   },
   "source": [
    "Crear una variable con nombre `product_name` y con valor 'hamburguesa'."
   ]
  },
  {
   "cell_type": "code",
   "execution_count": null,
   "id": "abd052d5-81a0-4423-b83e-74462b719862",
   "metadata": {
    "id": "abd052d5-81a0-4423-b83e-74462b719862"
   },
   "outputs": [],
   "source": []
  },
  {
   "cell_type": "markdown",
   "id": "5a0af036-e8a5-462d-9ddb-97e035c54437",
   "metadata": {
    "id": "5a0af036-e8a5-462d-9ddb-97e035c54437"
   },
   "source": [
    "Crear una variable con nombre `fruit` y con valor \"banana\". Luego cambiar el valor por \"manzana\"."
   ]
  },
  {
   "cell_type": "code",
   "execution_count": null,
   "id": "77887d73-b7ce-4543-86f0-bbaab8a71d9b",
   "metadata": {},
   "outputs": [],
   "source": []
  },
  {
   "cell_type": "markdown",
   "id": "8901693f-ba00-489d-a18d-96df5e8f78f7",
   "metadata": {},
   "source": [
    "### Para investigar 🔎\n",
    "\n",
    "Explorar el repositorio de la librería oficial de Python `numpy`: [numpy](https://github.com/numpy/numpy) en busca de buenos ejemplos de nombres de variables"
   ]
  },
  {
   "cell_type": "code",
   "execution_count": null,
   "id": "1e0c9fe8-e018-45f7-a7ef-5e42aa8bbbfb",
   "metadata": {},
   "outputs": [],
   "source": []
  },
  {
   "cell_type": "markdown",
   "id": "699cbe64-34c7-4fde-ad87-e98e41cfefac",
   "metadata": {},
   "source": [
    "> Más info: [Real Python - Python variables](https://realpython.com/python-variables/)"
   ]
  }
 ],
 "metadata": {
  "colab": {
   "collapsed_sections": [
    "68e5a07d-dc4a-472b-9a3e-da522d303f7f",
    "0d1bbdf0-0031-4a70-b35e-356adfb3475f"
   ],
   "name": "2.modulo_2-variables_strings.ipynb",
   "provenance": []
  },
  "kernelspec": {
   "display_name": "Python 3 (ipykernel)",
   "language": "python",
   "name": "python3"
  },
  "language_info": {
   "codemirror_mode": {
    "name": "ipython",
    "version": 3
   },
   "file_extension": ".py",
   "mimetype": "text/x-python",
   "name": "python",
   "nbconvert_exporter": "python",
   "pygments_lexer": "ipython3",
   "version": "3.9.12"
  }
 },
 "nbformat": 4,
 "nbformat_minor": 5
}
