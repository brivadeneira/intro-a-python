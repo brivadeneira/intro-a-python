{
 "cells": [
  {
   "cell_type": "markdown",
   "id": "bce45bee-6bb0-4674-a9f0-56d376203f38",
   "metadata": {},
   "source": [
    "# **MÓDULO 2 - PRIMEROS PASOS CON PYTHON**\n",
    "\n",
    "## Ejercicios integradores\n",
    "\n",
    "- Python como calculadora\n",
    "- Variables\n",
    "- Tipos de datos\n",
    "\n",
    "    * **Número**\n",
    "        * **Int** (entero), `3`, `598`, `1655`\n",
    "        * **Float** (de punto flotante), `1.5`, `2.0`\n",
    "        * **Complex** (complejo), `1 + 2j`, `29 + 56j`\n",
    "    * **String** (cadenas de texto), `'hola'`, `\"A\"`\n",
    "    * **Bool**, `True`, `False`"
   ]
  },
  {
   "cell_type": "markdown",
   "id": "c26dbd24-922d-414d-bca9-235a85b90390",
   "metadata": {},
   "source": [
    "1. Calcular las raices de las siguientes ecuaciones cuadráticas con **dos decimales** usando `formatted string literals`:\n",
    "\n",
    "a. $x^2 – 2x – 3 = 0$  \n",
    "b. $x2 – 12x + 36 = 0$  \n",
    "c. $x2 – 6x + 25 = 0$  \n",
    "\n",
    "La expresión para cálculo de raíces cuadráticas es:\n",
    "\n",
    "$ax + bx^2 + c = 0$  \n",
    "$x_1/x_2 = \\sqrt{\\frac{b^2 \\pm 4ac}{2a}}$"
   ]
  },
  {
   "cell_type": "code",
   "execution_count": null,
   "id": "03e9f35c-5326-4d60-aac4-6ca67d515831",
   "metadata": {},
   "outputs": [],
   "source": [
    "# 1"
   ]
  },
  {
   "cell_type": "code",
   "execution_count": null,
   "id": "1829bf98-3e20-45de-a5f1-f020aec1776b",
   "metadata": {},
   "outputs": [],
   "source": [
    "# 2"
   ]
  },
  {
   "cell_type": "code",
   "execution_count": null,
   "id": "45182073-32d9-40c1-8ca2-b9dcda2f78e4",
   "metadata": {},
   "outputs": [],
   "source": [
    "# 3"
   ]
  },
  {
   "cell_type": "markdown",
   "id": "e22d978f-918b-4acd-b45f-94ca14b22b35",
   "metadata": {},
   "source": [
    "2. Generalizar el cálculo de raíces para coeficientes a, b y c ingresados *por teclado* printeando los resultados con `str.format()` "
   ]
  },
  {
   "cell_type": "code",
   "execution_count": null,
   "id": "c58c21fb-a584-4565-9a96-ea841e42227b",
   "metadata": {},
   "outputs": [],
   "source": []
  },
  {
   "cell_type": "markdown",
   "id": "1325b8ef-4255-453a-8746-25b4a6092190",
   "metadata": {},
   "source": [
    "3. ¿Cuál es el resultado del siguiente código?\n",
    "\n",
    "```python\n",
    "a_even = not bool(a // 2)\n",
    "b_odd = bool(b // 2)\n",
    "\n",
    "print(f'{a} is an even number? {a_even}')\n",
    "print(f'{b} is an odd number? {b_odd}')\n",
    "```\n",
    "\n",
    "a. Para\n",
    "```\n",
    "a = 15\n",
    "b = 6\n",
    "```\n",
    "\n",
    "b. Para\n",
    "```\n",
    "a = 16\n",
    "b = 6\n",
    "```\n",
    "\n",
    "c. Para\n",
    "```\n",
    "a = 11\n",
    "b = 3\n",
    "```"
   ]
  },
  {
   "cell_type": "markdown",
   "id": "6a8e67fb-7b26-4a24-994f-7ffb10136775",
   "metadata": {},
   "source": [
    "a.  \n",
    "b.  \n",
    "c.  "
   ]
  },
  {
   "cell_type": "markdown",
   "id": "a616b04c-0d4b-4eba-b54c-5c9a7dd42b70",
   "metadata": {},
   "source": [
    "4. Se desea setear una variable de tipo `bool` que resulte de la evaluación de las siguientes condiciones:\n",
    "- temp_value < 40\n",
    "- temp_value > -10  \n",
    "(que le dan sentido físico a la medición de dicha magnitud)\n",
    "\n",
    "Donde temp_value es un `str` que **DEBE** contener `'°C'`"
   ]
  },
  {
   "cell_type": "code",
   "execution_count": 10,
   "id": "dd20125a-c40d-4ae7-b56e-e7aa8a1e68fc",
   "metadata": {},
   "outputs": [],
   "source": [
    "temp_value = '26.8°C'"
   ]
  },
  {
   "cell_type": "code",
   "execution_count": null,
   "id": "a0adb3d6-d35f-4984-9359-2ec652b1ba94",
   "metadata": {},
   "outputs": [],
   "source": []
  },
  {
   "cell_type": "code",
   "execution_count": null,
   "id": "eaac6651-7401-4b6b-997d-563a2d032f7f",
   "metadata": {},
   "outputs": [],
   "source": [
    "temp_value = '-1'"
   ]
  },
  {
   "cell_type": "code",
   "execution_count": null,
   "id": "43e27b23-d1a7-4456-8370-b112cd8510e5",
   "metadata": {},
   "outputs": [],
   "source": []
  },
  {
   "cell_type": "code",
   "execution_count": 12,
   "id": "81e638a0-c055-4272-9fa5-16fd6a64405a",
   "metadata": {},
   "outputs": [],
   "source": [
    "temp_value = '100°C'"
   ]
  },
  {
   "cell_type": "code",
   "execution_count": null,
   "id": "a2ed51a8-9375-4581-8dad-a65225a35d2f",
   "metadata": {},
   "outputs": [],
   "source": []
  },
  {
   "cell_type": "markdown",
   "id": "f4651b00-afa7-4e1d-ba76-9b71edb9a059",
   "metadata": {},
   "source": [
    "5. Se reciben *logs* de los satélites disponibles desde un punto en la tierra, las especificaciones técnicas son:\n",
    "\n",
    "|    Field    |  Structure  |                                                                          Description                                                                         | Symbol |  Example |\n",
    "|:-----------:|:-----------:|:------------------------------------------------------------------------------------------------------------------------------------------------------------:|:------:|:--------:|\n",
    "| 1           | `$GPGSV`      | Log header. For information about the log headers, see ASCII, Abbreviated ASCII or Binary.                                                                   |        | $GPGSV   |\n",
    "| 2           | # msgs      | Total number of messages (1-9)                                                                                                                               | x      | 3        |\n",
    "| 3           | msg #       | Message number (1-9)                                                                                                                                         | x      | 1        |\n",
    "| 4           | # sats      | Total number of satellites in view. May be different than the number of satellites in use (see also the GPGGA log)                                           | xx     | 09       |\n",
    "| 5           | prn         | Satellite PRN number GPS = 1 to 32 Galileo = 1 to 36 BeiDou = 1 to 63 NavIC = 1 to 14 QZSS = 1 to 10 SBAS = 33 to 64 (add 87 for PRN#s) GLONASS = 65 to 96 1 | xx     | 03       |\n",
    "| 6           | elev        | Elevation, degrees, 90 maximum                                                                                                                               | xx     | 51       |\n",
    "| 7           | azimuth     | Azimuth, degrees True, 000 to 359                                                                                                                            | xxx    | 140      |\n",
    "| 8           | SNR         | SNR (C/No) 00-99 dB, null when not tracking                                                                                                                  | xx     | 42       |\n",
    "| ... ... ... | ... ... ... | Next satellite PRN number, elev, azimuth, SNR, ... Last satellite PRN number, elev, azimuth, SNR,                                                            |        |          |\n",
    "| variable    | system ID   | GNSS system ID. See Table: System and Signal IDs. This field is only output if the NMEAVERSION is 4.11 (see the NMEAVERSION command).                        |        |          |\n",
    "| variable    | *xx         | Check sum                                                                                                                                                    | *hh    | *72      |\n",
    "| variable    | [CR][LF]    | Sentence terminator                                                                                                                                          |        | [CR][LF] |"
   ]
  },
  {
   "cell_type": "markdown",
   "id": "05e2ad56-2db0-4640-818a-e3a6e4c71f3a",
   "metadata": {},
   "source": [
    "De manera que, al recibir `$GPGSV,3,1,11,18,87,050,48,22,56,250,49,21,55,122,49,03,40,284,47*78` se pueden extraer:\n",
    "- total_number_of_messages: 3\n",
    "- message_number: 1\n",
    "- total_number_of_sat_in_view: 11\n",
    "- prn: 18\n",
    "- elevation_degrees: 87\n",
    "- azimuth: 050\n",
    "- SNR: 48\n",
    "- pnr_2: 22\n",
    "- elevation_degrees_2: 56\n",
    "- azimuth_2: 250\n",
    "- SNR_2: 49\n",
    "- pnr_3: 21\n",
    "- elevation_degrees_3: 55\n",
    "- azimuth_3: 122\n",
    "- SNR_3: 49\n",
    "- pnr_4: 03\n",
    "- elevation_degrees_4: 40\n",
    "- azimuth_4: 284\n",
    "- SNR_4: 47\n",
    "- check_sum: 78"
   ]
  },
  {
   "cell_type": "markdown",
   "id": "e9be246b-f9a3-4473-95cd-afa5c72841a2",
   "metadata": {},
   "source": [
    "Obtener de manera similar los valores de interés para el siguiente `str`:"
   ]
  },
  {
   "cell_type": "code",
   "execution_count": 9,
   "id": "2f7ac736-3711-407a-be8b-6619be733303",
   "metadata": {},
   "outputs": [],
   "source": [
    "gpg_sv_log = '$GPGSV,3,2,11,19,25,314,42,26,24,044,42,24,16,118,43,29,15,039,42*7E'"
   ]
  },
  {
   "cell_type": "code",
   "execution_count": null,
   "id": "9767e5c6-87ca-446c-bf4c-13726bbf8d89",
   "metadata": {},
   "outputs": [],
   "source": []
  }
 ],
 "metadata": {
  "kernelspec": {
   "display_name": "Python 3 (ipykernel)",
   "language": "python",
   "name": "python3"
  },
  "language_info": {
   "codemirror_mode": {
    "name": "ipython",
    "version": 3
   },
   "file_extension": ".py",
   "mimetype": "text/x-python",
   "name": "python",
   "nbconvert_exporter": "python",
   "pygments_lexer": "ipython3",
   "version": "3.9.5"
  }
 },
 "nbformat": 4,
 "nbformat_minor": 5
}
