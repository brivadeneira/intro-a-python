{
 "cells": [
  {
   "cell_type": "markdown",
   "metadata": {
    "id": "pyLDlbh7InwM"
   },
   "source": [
    "# **MÓDULO 3 - FUNDAMENTOS DE LA PROGRAMACIÓN CON PYTHON**\n",
    "\n",
    "## Estructuras de control de flujo\n",
    "\n",
    "* `if`: ejecuta un bloque de código u otro según el resultado de evaluar una condición.\n",
    "* `for`: ejecuta un bloque de código una cantidad **definida** de veces.\n",
    "* `while`: ejecuta un bloque de código **hasta que** se deje de cumplir una condición determinada.\n",
    "* `try-except`: *intenta* ejecutar un bloque de código *catcheando* (o atajando) excepciones que ocurran en dicho intento y ejecutando así otro bloque de código."
   ]
  },
  {
   "cell_type": "markdown",
   "metadata": {},
   "source": [
    "> ⚠️ recordatorio `bool`  \n",
    "> `True` o `False`  \n",
    "> surgen del resultado de operadores como: `==`, `!=`, `>`, `<`, `>=`, `<=`, `in`  \n",
    "> python interpreta al `0` y a objectos *vacíos* como `False`: `''`, `[]`, `()`, `{}`  \n",
    "> soportan operaciones lógicas como: `and`/`&`, `or`/`|`, `not`/`!`   "
   ]
  },
  {
   "cell_type": "markdown",
   "metadata": {
    "tags": []
   },
   "source": [
    "### while\n",
    "\n",
    "Se ejecuta un bloque de código de manera repetitiva (**iteración**) *en loop* una **cantidad indefinida de veces** que depende del resultado de la evaluación de una expresión.\n",
    "\n",
    "![](https://files.realpython.com/media/t.899f357dd948.png)\n",
    "\n",
    "syntax:\n",
    "\n",
    "```python\n",
    "while <exp>:\n",
    "    # do something\n",
    "```\n",
    "\n",
    "```python\n",
    "while <exp>:\n",
    "    # do something\n",
    "    if <expr>:\n",
    "        break\n",
    "```\n",
    "\n",
    "```python\n",
    "while <exp>:\n",
    "    # do something\n",
    "    if <expr>:\n",
    "        continue\n",
    "```\n",
    "\n",
    "```python\n",
    "while <exp>:\n",
    "    # do something\n",
    "    if <expr>:\n",
    "        break\n",
    "else:\n",
    "    # do this\n",
    "```"
   ]
  },
  {
   "cell_type": "markdown",
   "metadata": {},
   "source": [
    "> pro tip:  \n",
    "> `n = n + 1` = `n += 1`  \n",
    "> `n = n - 1` = `n -= 1`  \n",
    "> `n = n * m` = `n *= m`  "
   ]
  },
  {
   "cell_type": "markdown",
   "metadata": {},
   "source": [
    "#### ⚠️ identado\n",
    "\n",
    "4 espacios o *Tab* que preceden el bloque de código debajo de `:` e indican que ese bloque de código se debe ejecutar según el resultado de la expresión"
   ]
  },
  {
   "cell_type": "code",
   "execution_count": null,
   "metadata": {},
   "outputs": [],
   "source": [
    "n = 0\n",
    "\n",
    "while n < 10:\n",
    "    n += 1\n",
    "    print(n)"
   ]
  },
  {
   "cell_type": "code",
   "execution_count": null,
   "metadata": {},
   "outputs": [],
   "source": [
    "n = 0\n",
    "\n",
    "while n < 10:\n",
    "    print(n)\n",
    "    n += 1"
   ]
  },
  {
   "cell_type": "code",
   "execution_count": null,
   "metadata": {},
   "outputs": [],
   "source": [
    "n = 0\n",
    "\n",
    "while n < 10:\n",
    "    n += 1\n",
    "    print(n)\n",
    "    \n",
    "print(n)"
   ]
  },
  {
   "cell_type": "code",
   "execution_count": null,
   "metadata": {},
   "outputs": [],
   "source": [
    "n = 0\n",
    "\n",
    "while n < 10:\n",
    "    n += 1\n",
    "    print(n)\n",
    "    if n == 5:\n",
    "        break\n",
    "        \n",
    "print(n)"
   ]
  },
  {
   "cell_type": "code",
   "execution_count": null,
   "metadata": {},
   "outputs": [],
   "source": [
    "n = 0\n",
    "\n",
    "while n < 10:\n",
    "    n += 1\n",
    "    print(n)\n",
    "    if n == 5:\n",
    "        break\n",
    "        \n",
    "else:\n",
    "    print(n)"
   ]
  },
  {
   "cell_type": "code",
   "execution_count": null,
   "metadata": {},
   "outputs": [],
   "source": [
    "n = 0\n",
    "\n",
    "while n < 10:\n",
    "    n += 1\n",
    "    print(n)\n",
    "else:\n",
    "    print(n)"
   ]
  },
  {
   "cell_type": "code",
   "execution_count": null,
   "metadata": {},
   "outputs": [],
   "source": [
    "password = ''\n",
    "\n",
    "while password != '1234':\n",
    "    password = input('Enter the password': )"
   ]
  },
  {
   "cell_type": "code",
   "execution_count": null,
   "metadata": {},
   "outputs": [],
   "source": [
    "ints_list = [5, 1, 2, -1, 6, 10, 6, 8, 8, 3]\n",
    "\n",
    "i = 0\n",
    "number = ints_list[i]\n",
    "\n",
    "while number != 10:\n",
    "    print(number)\n",
    "    i += 1\n",
    "    number = ints_list[i]"
   ]
  },
  {
   "cell_type": "code",
   "execution_count": null,
   "metadata": {},
   "outputs": [],
   "source": [
    "i = 0\n",
    "number = ints_list[i]\n",
    "\n",
    "while number != 10:\n",
    "    if number % 2 == 0:\n",
    "        print(number)\n",
    "    i += 1\n",
    "    number = ints_list[i]"
   ]
  },
  {
   "cell_type": "code",
   "execution_count": null,
   "metadata": {},
   "outputs": [],
   "source": [
    "i = 0\n",
    "number = ints_list[i]\n",
    "\n",
    "while number != 10:\n",
    "    if number % 2 == 0:\n",
    "        print(number)\n",
    "    elif number == -1:\n",
    "        break\n",
    "    i += 1\n",
    "    number = ints_list[i]"
   ]
  },
  {
   "cell_type": "code",
   "execution_count": null,
   "metadata": {},
   "outputs": [],
   "source": [
    "i = 0\n",
    "number = ints_list[i]\n",
    "\n",
    "while number != 10:\n",
    "    if number % 2 == 0:\n",
    "        print(number)\n",
    "    elif number == -1:\n",
    "        break\n",
    "    i += 1\n",
    "    number = ints_list[i]\n",
    "print(i)"
   ]
  },
  {
   "cell_type": "code",
   "execution_count": null,
   "metadata": {},
   "outputs": [],
   "source": []
  },
  {
   "cell_type": "markdown",
   "metadata": {
    "id": "cHPe0U_hZDwa"
   },
   "source": [
    "## ✏️ Ejercicios while\n",
    "### Sincrónicos"
   ]
  },
  {
   "cell_type": "markdown",
   "metadata": {},
   "source": [
    "* Dada una lista, recibir *por teclado* un número, si se encuentra en la lista printear un mensaje, de lo contrario seguir iterando."
   ]
  },
  {
   "cell_type": "code",
   "execution_count": null,
   "metadata": {},
   "outputs": [],
   "source": [
    "numbers_to_guess = [4, 5, 5, 9, 7, 2, 0, 10, 3, 2]"
   ]
  },
  {
   "cell_type": "code",
   "execution_count": null,
   "metadata": {},
   "outputs": [],
   "source": []
  },
  {
   "cell_type": "markdown",
   "metadata": {},
   "source": [
    "* A partir de la lista `names`, crear otra con todos aquellos strings *no vacíos* hasta encontrar uno vacío:"
   ]
  },
  {
   "cell_type": "code",
   "execution_count": null,
   "metadata": {},
   "outputs": [],
   "source": [
    "names = [\"Joe\", \"Sarah\", \"Mike\", \"Jess\", \"\", \"Matt\", \"\", \"Greg\"]"
   ]
  },
  {
   "cell_type": "code",
   "execution_count": null,
   "metadata": {},
   "outputs": [],
   "source": []
  },
  {
   "cell_type": "markdown",
   "metadata": {},
   "source": [
    "#### Asincrónicos"
   ]
  },
  {
   "cell_type": "markdown",
   "metadata": {},
   "source": [
    "* Recibir un número *por teclado* y generar los números de la sucesión de fibonacci menores a dicho número.\n",
    "\n",
    "> 0, 1, 1, 2, 3, 5, 8, 13, 21, 34, 55, 89, 144, 233, 377, 610, 987, 1597…"
   ]
  },
  {
   "cell_type": "code",
   "execution_count": null,
   "metadata": {},
   "outputs": [],
   "source": []
  },
  {
   "cell_type": "markdown",
   "metadata": {},
   "source": [
    "* Dado un rango de números por teclado, para todos los números enteros en ese rango, printear un mensaje que indique si es par o impar, si el número es *cero* no hacer nada."
   ]
  },
  {
   "cell_type": "code",
   "execution_count": null,
   "metadata": {},
   "outputs": [],
   "source": []
  },
  {
   "cell_type": "markdown",
   "metadata": {},
   "source": [
    "* Escribir un código que cumpla con:\n",
    "\n",
    "Input: 10  \n",
    "Output: 10, 9, 8, 7, 6, 5, 4, 3, 2, 1, 0"
   ]
  },
  {
   "cell_type": "code",
   "execution_count": null,
   "metadata": {},
   "outputs": [],
   "source": []
  },
  {
   "cell_type": "markdown",
   "metadata": {},
   "source": [
    "* Escribir un código que cumpla con:\n",
    "\n",
    "Input: 10, 5  \n",
    "Output: 10, 9, 8, 7, 6, 5"
   ]
  },
  {
   "cell_type": "code",
   "execution_count": null,
   "metadata": {},
   "outputs": [],
   "source": []
  },
  {
   "cell_type": "markdown",
   "metadata": {},
   "source": [
    "> Más info: [control flow - python official](https://docs.python.org/es/3/tutorial/controlflow.html)  \n",
    "[conditial statements - real python](https://realpython.com/python-conditional-statements/)"
   ]
  }
 ],
 "metadata": {
  "colab": {
   "authorship_tag": "ABX9TyPrxtgJbn8JKn6K/emfVHeV",
   "name": "7.modulo_2-diccionarios.ipynb",
   "provenance": []
  },
  "kernelspec": {
   "display_name": "Python 3 (ipykernel)",
   "language": "python",
   "name": "python3"
  },
  "language_info": {
   "codemirror_mode": {
    "name": "ipython",
    "version": 3
   },
   "file_extension": ".py",
   "mimetype": "text/x-python",
   "name": "python",
   "nbconvert_exporter": "python",
   "pygments_lexer": "ipython3",
   "version": "3.9.12"
  }
 },
 "nbformat": 4,
 "nbformat_minor": 4
}
