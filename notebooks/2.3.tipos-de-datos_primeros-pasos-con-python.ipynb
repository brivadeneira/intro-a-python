{
 "cells": [
  {
   "cell_type": "markdown",
   "id": "68e5a07d-dc4a-472b-9a3e-da522d303f7f",
   "metadata": {
    "id": "68e5a07d-dc4a-472b-9a3e-da522d303f7f",
    "tags": []
   },
   "source": [
    "# **MÓDULO 2 - PRIMEROS PASOS CON PYTHON**\n",
    "## Tipos de datos\n",
    "\n",
    "Los tipos de datos elementales que existen en Python son:\n",
    "* **Número**\n",
    "    * **Int** (entero), `3`, `598`, `1655`\n",
    "    * **Float** (de punto flotante), `1.5`, `2.0`\n",
    "    * **Complex** (complejo), `1 + 2j`, `29 + 56j`\n",
    "* **String** (cadenas de texto), `'hola'`, `\"A\"`\n",
    "* **Bool**, `True`, `False`"
   ]
  },
  {
   "cell_type": "markdown",
   "id": "ffdd09df-af97-4691-a5c8-c742b3625a3a",
   "metadata": {},
   "source": [
    "### 💯 Numéricos"
   ]
  },
  {
   "cell_type": "markdown",
   "id": "99d4ae7d-ddf7-4bde-a3e4-116075dde173",
   "metadata": {},
   "source": [
    "#### int"
   ]
  },
  {
   "cell_type": "code",
   "execution_count": 3,
   "id": "6d030f1a-5447-4c89-9853-148f05b7de53",
   "metadata": {},
   "outputs": [
    {
     "data": {
      "text/plain": [
       "(2, 4, 65, 10000000)"
      ]
     },
     "execution_count": 3,
     "metadata": {},
     "output_type": "execute_result"
    }
   ],
   "source": [
    "2, 4, 65, 10_000_000"
   ]
  },
  {
   "cell_type": "code",
   "execution_count": 6,
   "id": "429157e6-e50f-40e5-861d-9ef1b7eebb78",
   "metadata": {},
   "outputs": [
    {
     "data": {
      "text/plain": [
       "int"
      ]
     },
     "execution_count": 6,
     "metadata": {},
     "output_type": "execute_result"
    }
   ],
   "source": [
    "type(2)"
   ]
  },
  {
   "cell_type": "markdown",
   "id": "d6cc2a04-80dc-47ae-9e16-4778711282ee",
   "metadata": {},
   "source": [
    "#### float"
   ]
  },
  {
   "cell_type": "code",
   "execution_count": 4,
   "id": "1190ef1e-95d8-49e2-ad62-13811541785d",
   "metadata": {},
   "outputs": [
    {
     "data": {
      "text/plain": [
       "(0.5, 0.333, 0.6666666666666666)"
      ]
     },
     "execution_count": 4,
     "metadata": {},
     "output_type": "execute_result"
    }
   ],
   "source": [
    "0.5, 0.333, 2/3"
   ]
  },
  {
   "cell_type": "code",
   "execution_count": 3,
   "id": "6bdbbbea-0400-48eb-9451-d7dc39180af3",
   "metadata": {},
   "outputs": [
    {
     "data": {
      "text/plain": [
       "4.0"
      ]
     },
     "execution_count": 3,
     "metadata": {},
     "output_type": "execute_result"
    }
   ],
   "source": [
    "10 / 2.5"
   ]
  },
  {
   "cell_type": "code",
   "execution_count": 4,
   "id": "b07b511d-08fd-4b5b-9d16-8b5c407cf90c",
   "metadata": {},
   "outputs": [
    {
     "data": {
      "text/plain": [
       "5.0"
      ]
     },
     "execution_count": 4,
     "metadata": {},
     "output_type": "execute_result"
    }
   ],
   "source": [
    "10 / 2"
   ]
  },
  {
   "cell_type": "code",
   "execution_count": 7,
   "id": "e77aea8d-0ecb-4729-bcd8-0ecbba2dd286",
   "metadata": {},
   "outputs": [
    {
     "data": {
      "text/plain": [
       "float"
      ]
     },
     "execution_count": 7,
     "metadata": {},
     "output_type": "execute_result"
    }
   ],
   "source": [
    "type(3.1416)"
   ]
  },
  {
   "cell_type": "markdown",
   "id": "d6ee316a-2f6a-494a-8f27-024d7617a297",
   "metadata": {},
   "source": [
    "#### complex"
   ]
  },
  {
   "cell_type": "code",
   "execution_count": 5,
   "id": "5f489d01-979b-4bbb-9c9a-09ad76b87755",
   "metadata": {},
   "outputs": [
    {
     "data": {
      "text/plain": [
       "(2, 3j)"
      ]
     },
     "execution_count": 5,
     "metadata": {},
     "output_type": "execute_result"
    }
   ],
   "source": [
    "2, 3j"
   ]
  },
  {
   "cell_type": "markdown",
   "id": "238746de-c074-4173-9054-83343ac81b70",
   "metadata": {},
   "source": [
    "### round()"
   ]
  },
  {
   "cell_type": "code",
   "execution_count": 1,
   "id": "838371b9-7527-45af-ace4-41b72cdf5062",
   "metadata": {
    "id": "ba120033-e05a-4214-a8bb-e19bc47491ab"
   },
   "outputs": [
    {
     "name": "stdout",
     "output_type": "stream",
     "text": [
      "Sin redondeo 0.7142857142857143\n",
      "Con redondeo 4 cifras 0.7143\n",
      "Con redondeo 1 cifra 0.7\n",
      "Redondeo a enteros 1\n"
     ]
    }
   ],
   "source": [
    "print(\"Sin redondeo\", 5/7)\n",
    "print(\"Con redondeo 4 cifras\", round(5/7, 4)) # redondeo a 4 cifras despues de la coma\n",
    "print(\"Con redondeo 1 cifra\", round(5/7, 1)) # redondeo a 1 cifras despues de la coma\n",
    "print(\"Redondeo a enteros\", round(5/7)) # redondeo a enteros"
   ]
  },
  {
   "cell_type": "code",
   "execution_count": null,
   "id": "2c9fb61b-5d9d-470d-881d-bb4d095b24d2",
   "metadata": {},
   "outputs": [],
   "source": [
    "10 > 4"
   ]
  },
  {
   "cell_type": "code",
   "execution_count": null,
   "id": "8050ca04-1bb8-4a2b-a201-880e1892f695",
   "metadata": {},
   "outputs": [],
   "source": [
    "2 > 3"
   ]
  },
  {
   "cell_type": "code",
   "execution_count": null,
   "id": "45979884-50a8-48ce-9cc8-09bdbd3ac37d",
   "metadata": {},
   "outputs": [],
   "source": [
    "2/3 == 4/6"
   ]
  },
  {
   "cell_type": "code",
   "execution_count": null,
   "id": "f85b160a-0522-4626-a5ce-57c8dcd2a1ca",
   "metadata": {},
   "outputs": [],
   "source": [
    "5/8 != 10/3"
   ]
  },
  {
   "cell_type": "markdown",
   "id": "cfd99755-76c7-4f63-badc-8aca9ab503c9",
   "metadata": {
    "id": "cfd99755-76c7-4f63-badc-8aca9ab503c9"
   },
   "source": [
    "### 🔤 str\n",
    "\n",
    "*strings* o *cadena de caracteres*\n",
    "\n",
    "syntax:\n",
    "\n",
    "`'I am a string'`\n",
    "\n",
    "`\"I am another string\"`"
   ]
  },
  {
   "cell_type": "code",
   "execution_count": 9,
   "id": "04dfcd19-f98b-479e-b836-e6058b64f506",
   "metadata": {},
   "outputs": [
    {
     "data": {
      "text/plain": [
       "'I am a string'"
      ]
     },
     "execution_count": 9,
     "metadata": {},
     "output_type": "execute_result"
    }
   ],
   "source": [
    "'I am a string'"
   ]
  },
  {
   "cell_type": "code",
   "execution_count": 10,
   "id": "fae56d1a-79c9-4bbf-8467-d55058414b4d",
   "metadata": {},
   "outputs": [
    {
     "data": {
      "text/plain": [
       "str"
      ]
     },
     "execution_count": 10,
     "metadata": {},
     "output_type": "execute_result"
    }
   ],
   "source": [
    "type('I am a string')"
   ]
  },
  {
   "cell_type": "code",
   "execution_count": 9,
   "id": "32af5410-2d09-40e6-866d-b460e7fe40f3",
   "metadata": {
    "id": "32af5410-2d09-40e6-866d-b460e7fe40f3"
   },
   "outputs": [
    {
     "data": {
      "text/plain": [
       "'spam eggs'"
      ]
     },
     "execution_count": 9,
     "metadata": {},
     "output_type": "execute_result"
    }
   ],
   "source": [
    "'spam eggs'  # single quotes"
   ]
  },
  {
   "cell_type": "code",
   "execution_count": 11,
   "id": "78d3cd1f-6123-4790-b35b-7b3f213c9609",
   "metadata": {},
   "outputs": [
    {
     "data": {
      "text/plain": [
       "\"doesn't\""
      ]
     },
     "execution_count": 11,
     "metadata": {},
     "output_type": "execute_result"
    }
   ],
   "source": [
    "'doesn\\'t'  # use \\' to escape the single quote..."
   ]
  },
  {
   "cell_type": "code",
   "execution_count": 12,
   "id": "cbf3ab08-2aba-4bcb-bb2e-2b9966f0bc98",
   "metadata": {},
   "outputs": [
    {
     "data": {
      "text/plain": [
       "\"doesn't\""
      ]
     },
     "execution_count": 12,
     "metadata": {},
     "output_type": "execute_result"
    }
   ],
   "source": [
    "\"doesn't\"  # ...or use double quotes instead"
   ]
  },
  {
   "cell_type": "code",
   "execution_count": 13,
   "id": "3453af99-ea26-44b6-b39e-28c58e05df93",
   "metadata": {},
   "outputs": [
    {
     "data": {
      "text/plain": [
       "'\"Yes,\" they said.'"
      ]
     },
     "execution_count": 13,
     "metadata": {},
     "output_type": "execute_result"
    }
   ],
   "source": [
    "'\"Yes,\" they said.'"
   ]
  },
  {
   "cell_type": "code",
   "execution_count": 14,
   "id": "f4f98002-3124-4aa5-8977-e70a9209ee41",
   "metadata": {},
   "outputs": [
    {
     "data": {
      "text/plain": [
       "'\"Yes,\" they said.'"
      ]
     },
     "execution_count": 14,
     "metadata": {},
     "output_type": "execute_result"
    }
   ],
   "source": [
    "\"\\\"Yes,\\\" they said.\""
   ]
  },
  {
   "cell_type": "code",
   "execution_count": 15,
   "id": "077484e8-eb04-4acb-a3af-0031df68725e",
   "metadata": {},
   "outputs": [
    {
     "data": {
      "text/plain": [
       "'\"Isn\\'t,\" they said.'"
      ]
     },
     "execution_count": 15,
     "metadata": {},
     "output_type": "execute_result"
    }
   ],
   "source": [
    "'\"Isn\\'t,\" they said.'"
   ]
  },
  {
   "cell_type": "code",
   "execution_count": 2,
   "id": "ZxOGygV56Ik6",
   "metadata": {
    "id": "ZxOGygV56Ik6"
   },
   "outputs": [],
   "source": [
    "# a_slice_of_pizza = '🍕'"
   ]
  },
  {
   "cell_type": "code",
   "execution_count": 17,
   "id": "fe42ba25-ae62-4018-8106-bd118e9334ae",
   "metadata": {},
   "outputs": [
    {
     "name": "stdout",
     "output_type": "stream",
     "text": [
      "First line.\n",
      "Second line.\n"
     ]
    }
   ],
   "source": [
    "s = 'First line.\\nSecond line.'  # \\n means newline\n",
    "print(s)"
   ]
  },
  {
   "cell_type": "code",
   "execution_count": 18,
   "id": "f5a14172-3f0d-4761-a1cc-c145628e3ac3",
   "metadata": {},
   "outputs": [
    {
     "name": "stdout",
     "output_type": "stream",
     "text": [
      "First line.\n",
      "Second line.\n"
     ]
    }
   ],
   "source": [
    "s = \"\"\"First line.\n",
    "Second line.\"\"\"\n",
    "print(s)"
   ]
  },
  {
   "cell_type": "markdown",
   "id": "7ee80223-a97b-4ade-93c4-0a30e6d781a4",
   "metadata": {},
   "source": [
    "#### concatenar strings"
   ]
  },
  {
   "cell_type": "code",
   "execution_count": 19,
   "id": "ec94f71d-7533-43fa-a0bb-5aec83366bc4",
   "metadata": {},
   "outputs": [
    {
     "data": {
      "text/plain": [
       "'Python'"
      ]
     },
     "execution_count": 19,
     "metadata": {},
     "output_type": "execute_result"
    }
   ],
   "source": [
    "'Py' 'thon'"
   ]
  },
  {
   "cell_type": "code",
   "execution_count": 20,
   "id": "02b9c195-a612-456b-a54b-d8e5b51f7633",
   "metadata": {},
   "outputs": [
    {
     "data": {
      "text/plain": [
       "'Python'"
      ]
     },
     "execution_count": 20,
     "metadata": {},
     "output_type": "execute_result"
    }
   ],
   "source": [
    "prefix = 'Py'\n",
    "prefix + 'thon'"
   ]
  },
  {
   "cell_type": "code",
   "execution_count": 23,
   "id": "d540b0f6-2a65-4c5f-a4c8-cdf96c70c0e0",
   "metadata": {
    "id": "d540b0f6-2a65-4c5f-a4c8-cdf96c70c0e0"
   },
   "outputs": [
    {
     "name": "stdout",
     "output_type": "stream",
     "text": [
      "Python\n"
     ]
    }
   ],
   "source": [
    "a_string = f\"{prefix}thon\"\n",
    "print(a_string)"
   ]
  },
  {
   "cell_type": "code",
   "execution_count": 25,
   "id": "cf3c0646-4994-40cc-9d66-ba655a507f12",
   "metadata": {
    "id": "cf3c0646-4994-40cc-9d66-ba655a507f12"
   },
   "outputs": [
    {
     "data": {
      "text/plain": [
       "str"
      ]
     },
     "execution_count": 25,
     "metadata": {},
     "output_type": "execute_result"
    }
   ],
   "source": [
    "type(a_string)"
   ]
  },
  {
   "cell_type": "markdown",
   "id": "fb643d72-b8db-4f0b-a052-0cdbb88b0f10",
   "metadata": {},
   "source": [
    "#### lower()\n",
    "\n",
    "Convierte a minúscula *todos* los caracteres de un str."
   ]
  },
  {
   "cell_type": "code",
   "execution_count": 12,
   "id": "5b00372f-0869-414c-9b9b-381c4bfd1f59",
   "metadata": {},
   "outputs": [],
   "source": [
    "a_str = 'I am a simple string'"
   ]
  },
  {
   "cell_type": "code",
   "execution_count": 13,
   "id": "676af7d5-256e-432d-a7dd-9aea5d1e5188",
   "metadata": {
    "id": "676af7d5-256e-432d-a7dd-9aea5d1e5188"
   },
   "outputs": [
    {
     "data": {
      "text/plain": [
       "'i am a simple string'"
      ]
     },
     "execution_count": 13,
     "metadata": {},
     "output_type": "execute_result"
    }
   ],
   "source": [
    "a_str.lower()"
   ]
  },
  {
   "cell_type": "markdown",
   "id": "185b4857-35af-4c7c-a8e8-2014f681b58d",
   "metadata": {},
   "source": [
    "#### upper()\n",
    "\n",
    "Convierte a mayúscula *todos* los caracteres de un str."
   ]
  },
  {
   "cell_type": "code",
   "execution_count": 14,
   "id": "a3eec1b0-cab7-44e9-871e-7888ccd8b187",
   "metadata": {
    "id": "a3eec1b0-cab7-44e9-871e-7888ccd8b187"
   },
   "outputs": [
    {
     "data": {
      "text/plain": [
       "'I AM A SIMPLE STRING'"
      ]
     },
     "execution_count": 14,
     "metadata": {},
     "output_type": "execute_result"
    }
   ],
   "source": [
    "a_str.upper()  # convierte a maypuscula todos los caracteres del str"
   ]
  },
  {
   "cell_type": "markdown",
   "id": "ff0b3b2b-41fd-4ae2-9d61-a6e7ea9905d5",
   "metadata": {},
   "source": [
    "#### capitalize()\n",
    "\n",
    "Convierte a mayúscula el primer caracter de un str, y a minúscula los demás."
   ]
  },
  {
   "cell_type": "code",
   "execution_count": 16,
   "id": "22d801e4-3801-4cce-9375-102bf63274a0",
   "metadata": {
    "id": "22d801e4-3801-4cce-9375-102bf63274a0"
   },
   "outputs": [
    {
     "data": {
      "text/plain": [
       "'I am a simple string'"
      ]
     },
     "execution_count": 16,
     "metadata": {},
     "output_type": "execute_result"
    }
   ],
   "source": [
    "a_str.capitalize()  # capitaliza el str, convierte a mayúscula el primer caracter y todos los demás a minúscula"
   ]
  },
  {
   "cell_type": "markdown",
   "id": "afff0573-85ea-4869-86f3-4aef2a73c63d",
   "metadata": {},
   "source": [
    "#### replace()\n",
    "\n",
    "Reemplaza un str por otro dado."
   ]
  },
  {
   "cell_type": "code",
   "execution_count": 17,
   "id": "2b7b20ad-8625-454d-91f8-9b0a932ca142",
   "metadata": {
    "id": "2b7b20ad-8625-454d-91f8-9b0a932ca142"
   },
   "outputs": [
    {
     "data": {
      "text/plain": [
       "'I am a simple string'"
      ]
     },
     "execution_count": 17,
     "metadata": {},
     "output_type": "execute_result"
    }
   ],
   "source": [
    "a_str"
   ]
  },
  {
   "cell_type": "code",
   "execution_count": 18,
   "id": "4c587b91-4160-4cbd-b461-50e2d8f67f60",
   "metadata": {},
   "outputs": [
    {
     "data": {
      "text/plain": [
       "'I am a complex string'"
      ]
     },
     "execution_count": 18,
     "metadata": {},
     "output_type": "execute_result"
    }
   ],
   "source": [
    "a_str.replace('simple', 'complex')"
   ]
  },
  {
   "cell_type": "markdown",
   "id": "64bee34f-ff1d-4986-8583-cd4dc8a6947a",
   "metadata": {},
   "source": [
    "#### len()\n",
    "\n",
    "Retorna la cantidad de caracteres de un str dado"
   ]
  },
  {
   "cell_type": "code",
   "execution_count": 19,
   "id": "b14390c9-3315-4abd-9ff8-a6c646451e05",
   "metadata": {
    "id": "b14390c9-3315-4abd-9ff8-a6c646451e05"
   },
   "outputs": [
    {
     "data": {
      "text/plain": [
       "20"
      ]
     },
     "execution_count": 19,
     "metadata": {},
     "output_type": "execute_result"
    }
   ],
   "source": [
    "len(a_str) # largo del string"
   ]
  },
  {
   "cell_type": "markdown",
   "id": "10e5724c-044f-4750-b364-9fc35aa87c2f",
   "metadata": {},
   "source": [
    "#### slicing\n",
    "\n",
    "*o \"rebanado\"*"
   ]
  },
  {
   "cell_type": "markdown",
   "id": "10ec3446-760d-4bab-86d4-681402ba7706",
   "metadata": {
    "id": "10ec3446-760d-4bab-86d4-681402ba7706"
   },
   "source": [
    "Los strings tienen naturaleza de arreglo. Definición sencilla de arreglo: grupo o colección finita, homogénea y ordenada de elementos.\n",
    "\n",
    "![](https://raw.githubusercontent.com/mgaitan/curso-python-cientifico/e0567d7ba49f0deb167fe71b80b404d95d7afb6e/img/index_slicing.png)\n",
    "\n",
    "Para la palabra `Python` : \n",
    "\n",
    "`| P | y | t | h | o | n |`\n",
    "\n",
    "* ⚠️ **¡Las posiciones comienzan en cero!**\n",
    "* ¿Qué posición ocupa la \"h\"?\n",
    "* ¿Cuántas letras tiene la palabra?\n",
    "* ¿Qué posición ocupa la n?\n",
    "* ¿Y la \"y\"?"
   ]
  },
  {
   "cell_type": "code",
   "execution_count": null,
   "id": "92ee7f12-454b-4900-95e9-51b1ae6c105c",
   "metadata": {
    "id": "92ee7f12-454b-4900-95e9-51b1ae6c105c"
   },
   "outputs": [],
   "source": [
    "\"Python\"[0]"
   ]
  },
  {
   "cell_type": "code",
   "execution_count": null,
   "id": "28ccd1fa-be34-4aad-ad0c-1292a261cba2",
   "metadata": {
    "id": "28ccd1fa-be34-4aad-ad0c-1292a261cba2"
   },
   "outputs": [],
   "source": [
    "\"Python\"[3:5] # 3 y 4"
   ]
  },
  {
   "cell_type": "code",
   "execution_count": null,
   "id": "d0c76f98-8311-4768-859d-054811926f32",
   "metadata": {
    "id": "d0c76f98-8311-4768-859d-054811926f32"
   },
   "outputs": [],
   "source": [
    "\"Python\"[5]"
   ]
  },
  {
   "cell_type": "code",
   "execution_count": null,
   "id": "8f4d951c-a1c8-470f-aa67-22b75f303cc0",
   "metadata": {
    "id": "8f4d951c-a1c8-470f-aa67-22b75f303cc0"
   },
   "outputs": [],
   "source": [
    "\"Python\"[:5]"
   ]
  },
  {
   "cell_type": "code",
   "execution_count": null,
   "id": "4041351f-4af6-4c8e-84bd-c576533da021",
   "metadata": {
    "id": "4041351f-4af6-4c8e-84bd-c576533da021"
   },
   "outputs": [],
   "source": [
    "\"12345-Python\"[6:]"
   ]
  },
  {
   "cell_type": "code",
   "execution_count": null,
   "id": "873b9e5e-e1ae-47f8-a383-3b42b5fe1000",
   "metadata": {
    "id": "873b9e5e-e1ae-47f8-a383-3b42b5fe1000"
   },
   "outputs": [],
   "source": [
    "\"Python\"[:20]"
   ]
  },
  {
   "cell_type": "code",
   "execution_count": null,
   "id": "d8a07546-f537-42ff-aab4-6a57a6a0035b",
   "metadata": {
    "id": "d8a07546-f537-42ff-aab4-6a57a6a0035b"
   },
   "outputs": [],
   "source": [
    "\"Python\"[-3]"
   ]
  },
  {
   "cell_type": "code",
   "execution_count": null,
   "id": "a3cb6809-31ba-420b-b282-1465b08452ed",
   "metadata": {
    "id": "a3cb6809-31ba-420b-b282-1465b08452ed"
   },
   "outputs": [],
   "source": [
    "\"Python\"[-3:-1]"
   ]
  },
  {
   "cell_type": "markdown",
   "id": "15a7eae6-2d22-43b1-b13e-e2dffcf77990",
   "metadata": {},
   "source": [
    "## Ejercicios de strings ✏️\n",
    "\n",
    "### Sincrónicos"
   ]
  },
  {
   "cell_type": "markdown",
   "id": "2e6141d6-98fd-4094-b304-1eb56117f862",
   "metadata": {
    "id": "2e6141d6-98fd-4094-b304-1eb56117f862"
   },
   "source": [
    "Para el str `\"I like Python\"` obtener:\n",
    "\n",
    " - únicamente la palabra `Python`"
   ]
  },
  {
   "cell_type": "code",
   "execution_count": null,
   "id": "e9eea82b-6809-40f6-8cc0-85db7c4f2b66",
   "metadata": {
    "id": "e9eea82b-6809-40f6-8cc0-85db7c4f2b66"
   },
   "outputs": [],
   "source": []
  },
  {
   "cell_type": "markdown",
   "id": "0bea7100-35c0-4720-ac96-0cf44e8fc6f0",
   "metadata": {
    "id": "0bea7100-35c0-4720-ac96-0cf44e8fc6f0"
   },
   "source": [
    " - los caracteres desde el índice 6 al 12 inclusive"
   ]
  },
  {
   "cell_type": "code",
   "execution_count": null,
   "id": "de0ab443-b60d-4567-84b1-7eefb57d2d20",
   "metadata": {
    "id": "de0ab443-b60d-4567-84b1-7eefb57d2d20"
   },
   "outputs": [],
   "source": []
  },
  {
   "cell_type": "markdown",
   "id": "fba69819-b7a2-4182-a50b-9f41c0087c29",
   "metadata": {
    "id": "fba69819-b7a2-4182-a50b-9f41c0087c29"
   },
   "source": [
    " - los primeros 4 caracteres"
   ]
  },
  {
   "cell_type": "code",
   "execution_count": null,
   "id": "98cd4a9d-5871-481d-b20f-dee89ed84365",
   "metadata": {
    "id": "98cd4a9d-5871-481d-b20f-dee89ed84365"
   },
   "outputs": [],
   "source": []
  },
  {
   "cell_type": "code",
   "execution_count": null,
   "id": "ef330099-5a53-45cc-b6d9-05b708361794",
   "metadata": {
    "id": "ef330099-5a53-45cc-b6d9-05b708361794"
   },
   "outputs": [],
   "source": [
    "\"Python\" == \"python\""
   ]
  },
  {
   "cell_type": "code",
   "execution_count": null,
   "id": "4cda282e-48f8-4f08-ae81-e532f20fdc4e",
   "metadata": {
    "id": "4cda282e-48f8-4f08-ae81-e532f20fdc4e"
   },
   "outputs": [],
   "source": [
    "\"Python\" != \"Java\""
   ]
  },
  {
   "cell_type": "code",
   "execution_count": null,
   "id": "2ff712bf-dd74-4c54-92d4-98d535a4577a",
   "metadata": {
    "id": "2ff712bf-dd74-4c54-92d4-98d535a4577a"
   },
   "outputs": [],
   "source": [
    "\"Python\" in \"I like Python\""
   ]
  },
  {
   "cell_type": "code",
   "execution_count": null,
   "id": "8ce1ef5e-c58f-48b1-b145-dcbddca92369",
   "metadata": {
    "id": "8ce1ef5e-c58f-48b1-b145-dcbddca92369"
   },
   "outputs": [],
   "source": [
    "\"python\" in \"I like Python\""
   ]
  },
  {
   "cell_type": "code",
   "execution_count": null,
   "id": "687136d5-37f6-4e09-a3fc-016101a1b115",
   "metadata": {
    "id": "687136d5-37f6-4e09-a3fc-016101a1b115"
   },
   "outputs": [],
   "source": [
    "\"usta\" in \"I like Python\""
   ]
  },
  {
   "cell_type": "code",
   "execution_count": null,
   "id": "8d6cb2ff-3da8-4df3-95b8-f5e02ce5eb49",
   "metadata": {
    "id": "8d6cb2ff-3da8-4df3-95b8-f5e02ce5eb49"
   },
   "outputs": [],
   "source": [
    "\"I like Python\" in \"I like Python\""
   ]
  },
  {
   "cell_type": "markdown",
   "id": "012377b3-0dde-4148-80ed-af543cfca320",
   "metadata": {
    "id": "012377b3-0dde-4148-80ed-af543cfca320"
   },
   "source": [
    "#### conversion to a str"
   ]
  },
  {
   "cell_type": "code",
   "execution_count": null,
   "id": "3258a6d3-4576-47a2-982f-0946dfe67ae5",
   "metadata": {
    "id": "3258a6d3-4576-47a2-982f-0946dfe67ae5"
   },
   "outputs": [],
   "source": [
    "str(7)"
   ]
  },
  {
   "cell_type": "code",
   "execution_count": null,
   "id": "95c7b2ad-fe2c-435c-8dc3-2aee95c1dbda",
   "metadata": {
    "id": "95c7b2ad-fe2c-435c-8dc3-2aee95c1dbda"
   },
   "outputs": [],
   "source": [
    "\"7\" == 7"
   ]
  },
  {
   "cell_type": "code",
   "execution_count": null,
   "id": "5ddb3881-3d57-4791-b921-5c32c5748a89",
   "metadata": {
    "id": "5ddb3881-3d57-4791-b921-5c32c5748a89"
   },
   "outputs": [],
   "source": [
    "\"7\" == str(7)"
   ]
  },
  {
   "cell_type": "markdown",
   "id": "55eff61d-c24d-4bcc-abeb-e57bfead03fd",
   "metadata": {},
   "source": [
    "### inpunt es tu amigo"
   ]
  },
  {
   "cell_type": "code",
   "execution_count": null,
   "id": "8fb4335f-8886-4fda-bb60-bfc104a29f28",
   "metadata": {
    "id": "8fb4335f-8886-4fda-bb60-bfc104a29f28"
   },
   "outputs": [],
   "source": [
    "name = input(\"What is your name? \")\n",
    "last_name = input(\"What is your last name?\")\n",
    "\n",
    "print(f\"Hello {name} {last_name}!\")"
   ]
  },
  {
   "cell_type": "code",
   "execution_count": null,
   "id": "85439fdd-2869-4e89-a7bd-af19474f14b4",
   "metadata": {},
   "outputs": [],
   "source": []
  },
  {
   "cell_type": "markdown",
   "id": "037425ce-223a-44cd-935e-f94beecd2662",
   "metadata": {},
   "source": [
    "## Ejercicios de strings ✏️\n",
    "\n",
    "### Sincrónicos"
   ]
  },
  {
   "cell_type": "code",
   "execution_count": 1,
   "id": "c73ce169-4416-4d6f-a6bb-cd4afdcd11af",
   "metadata": {
    "id": "c73ce169-4416-4d6f-a6bb-cd4afdcd11af",
    "tags": []
   },
   "outputs": [
    {
     "name": "stdin",
     "output_type": "stream",
     "text": [
      "Enter a number:  1\n",
      "Enter a number:  2\n"
     ]
    },
    {
     "name": "stdout",
     "output_type": "stream",
     "text": [
      "The addition of the numbers is: 12\n"
     ]
    }
   ],
   "source": [
    "a_number = input(\"Enter a number: \")\n",
    "another_number = input(\"Enter a number: \")\n",
    "\n",
    "print(f\"The sum of the numbers is: {a_number + another_number}\")"
   ]
  },
  {
   "cell_type": "markdown",
   "id": "95645b54-54f9-4c8d-9869-4abafea2a4af",
   "metadata": {},
   "source": [
    "Redefinir el código anterior para obtener la suma de los números ingresados"
   ]
  },
  {
   "cell_type": "code",
   "execution_count": null,
   "id": "b740cc3d-4425-412d-9614-5c652192b128",
   "metadata": {},
   "outputs": [],
   "source": []
  },
  {
   "cell_type": "markdown",
   "id": "1d93d6a3-368e-4ce0-9dbb-b85423063329",
   "metadata": {},
   "source": [
    "Dado el siguiente string:"
   ]
  },
  {
   "cell_type": "code",
   "execution_count": 39,
   "id": "b5606bd3-5b2c-4107-b62f-85494f0163b4",
   "metadata": {},
   "outputs": [],
   "source": [
    "tv_program = \"Monty Python\""
   ]
  },
  {
   "cell_type": "markdown",
   "id": "bb1b0974-c5c1-4610-8d39-1e5f1df0fdc3",
   "metadata": {},
   "source": [
    "Obtener la palabra \"python\" *(nótese que es en minúscula)*:"
   ]
  },
  {
   "cell_type": "code",
   "execution_count": null,
   "id": "f0c3a1d8-d3cb-49a0-910d-cf784674c1e5",
   "metadata": {},
   "outputs": [],
   "source": []
  },
  {
   "cell_type": "markdown",
   "id": "0a0c898b-e57b-4947-8900-19f3ed136b55",
   "metadata": {},
   "source": [
    "Obtener la palabra \"MONTY\" *(nótese que es en mayúscula)*:"
   ]
  },
  {
   "cell_type": "code",
   "execution_count": null,
   "id": "9d4b9e26-cc96-48c9-bfcb-133e6f00fdd8",
   "metadata": {},
   "outputs": [],
   "source": []
  },
  {
   "cell_type": "markdown",
   "id": "64cd422a-5055-417f-a012-439e30914ce5",
   "metadata": {},
   "source": [
    "Obtener la palabra \"Python\" usando índices **negativos**:"
   ]
  },
  {
   "cell_type": "code",
   "execution_count": null,
   "id": "37181be3-bb2a-4668-a20e-ba158184be6c",
   "metadata": {},
   "outputs": [],
   "source": []
  },
  {
   "cell_type": "markdown",
   "id": "7694efce-762f-4b39-a99d-3593e543c1c3",
   "metadata": {},
   "source": [
    "Para el siguiente string:"
   ]
  },
  {
   "cell_type": "code",
   "execution_count": 2,
   "id": "fa9ecd89-9bff-4678-9b43-a8aa2513b486",
   "metadata": {},
   "outputs": [],
   "source": [
    "borges_quote = \"\"\"Algunos temerarios durmieron con la cara expuesta a la luna;\n",
    "la fiebre los ardió;\n",
    "en el agua depravada de las cisternas otros bebieron la locura y la muerte.\n",
    "El Inmortal\".\n",
    "\"\"\""
   ]
  },
  {
   "cell_type": "markdown",
   "id": "6a50778b-e1bf-485a-a2b3-2e0081db6616",
   "metadata": {},
   "source": [
    "Obtener la cantidad de caracteres total"
   ]
  },
  {
   "cell_type": "code",
   "execution_count": null,
   "id": "b589a293-cde7-4dce-b57f-1a298f81a9f8",
   "metadata": {},
   "outputs": [],
   "source": []
  },
  {
   "cell_type": "markdown",
   "id": "647b795f-4d27-4499-8c5b-15b3ceace29f",
   "metadata": {},
   "source": [
    "Reemplazar `;` por `,`"
   ]
  },
  {
   "cell_type": "code",
   "execution_count": null,
   "id": "6ba37605-e164-45af-be2d-da4709a34043",
   "metadata": {},
   "outputs": [],
   "source": []
  },
  {
   "cell_type": "markdown",
   "id": "baec9a81-9030-40cf-98d9-e66f68bd45bc",
   "metadata": {},
   "source": [
    "Eliminar los saltos de línea"
   ]
  },
  {
   "cell_type": "code",
   "execution_count": null,
   "id": "2a22876d-bd65-4257-8343-3c1f0760afe4",
   "metadata": {},
   "outputs": [],
   "source": []
  },
  {
   "cell_type": "markdown",
   "id": "cc09c846-8dc6-4e55-93c9-2c2578ff5ff2",
   "metadata": {},
   "source": [
    "Determinar la **vocal más frecuente** del fragmento"
   ]
  },
  {
   "cell_type": "code",
   "execution_count": null,
   "id": "e0f65882-796b-4c13-91a8-61ca8f3c50d9",
   "metadata": {
    "id": "e0f65882-796b-4c13-91a8-61ca8f3c50d9"
   },
   "outputs": [],
   "source": []
  },
  {
   "cell_type": "markdown",
   "id": "DpKHNqfT6p9z",
   "metadata": {
    "id": "DpKHNqfT6p9z"
   },
   "source": [
    "*YAPA*: Definir una variable que contenga *texto multilínea* copiando y pegando un artículo, noticia o post largo. Investigar de qué forma se puede determinar **la palabra más frecuente** de ese texto con Python. *Siempre pensando en una variable de tipo string*."
   ]
  },
  {
   "cell_type": "code",
   "execution_count": null,
   "id": "304fc9a2-6cef-478f-9ebe-1634a60a8000",
   "metadata": {},
   "outputs": [],
   "source": []
  },
  {
   "cell_type": "markdown",
   "id": "ed59557e-6957-4629-9f55-3755fbda91e7",
   "metadata": {
    "id": "ed59557e-6957-4629-9f55-3755fbda91e7"
   },
   "source": [
    "> Más info: [python official strings](https://docs.python.org/3/tutorial/introduction.html#strings)  \n",
    "> [python como calculadora oficial](https://docs.python.org/es/3/tutorial/introduction.html#using-python-as-a-calculator)  \n",
    "> [basic data types in python - real python](https://realpython.com/python-data-types/)  "
   ]
  }
 ],
 "metadata": {
  "colab": {
   "collapsed_sections": [
    "68e5a07d-dc4a-472b-9a3e-da522d303f7f",
    "0d1bbdf0-0031-4a70-b35e-356adfb3475f"
   ],
   "name": "2.modulo_2-variables_strings.ipynb",
   "provenance": []
  },
  "kernelspec": {
   "display_name": "Python 3 (ipykernel)",
   "language": "python",
   "name": "python3"
  },
  "language_info": {
   "codemirror_mode": {
    "name": "ipython",
    "version": 3
   },
   "file_extension": ".py",
   "mimetype": "text/x-python",
   "name": "python",
   "nbconvert_exporter": "python",
   "pygments_lexer": "ipython3",
   "version": "3.9.12"
  }
 },
 "nbformat": 4,
 "nbformat_minor": 5
}
