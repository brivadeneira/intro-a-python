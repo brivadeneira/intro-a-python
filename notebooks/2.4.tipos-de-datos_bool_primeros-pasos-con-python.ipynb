{
 "cells": [
  {
   "cell_type": "markdown",
   "metadata": {
    "id": "7xwAtQDYh029"
   },
   "source": [
    "# **MÓDULO 2 - PRIMEROS PASOS CON PYTHON**\n",
    "## Tipos de datos\n",
    "### ✔️❌ Bool\n",
    "\n",
    "# Tipos de de datos en Python\n",
    "\n",
    "* **Número**\n",
    "    * **Int** (entero), `3`, `598`, `1655`\n",
    "    * **Float** (de punto flotante), `1.5`, `2.0`\n",
    "    * **Complex** (complejo), `1 + 2j`, `29 + 56j`\n",
    "* **String** (cadenas de texto), `'hola'`, `\"A\"`\n",
    "* **Bool**, `True`, `False` <----\n",
    "\n",
    "\n",
    "Los booleanos son la manera de representar valores de verdad\n",
    "\n",
    "`(True o False)` |  `(1 o 0)`\n",
    "\n",
    "Este tipo de dato cobra importancia con estructuras de control de flujo.\n",
    "\n",
    "Las variables de tipo __bool__ (del inglés _boolean_) solamente pueden tomar dos valores: __True__ y __False__. Python tiene la capacidad de interpretar varios tipos de variable como si fuesen booleanas, asignando el valor __False__ a variables __vacías__ y el valor __True__ a variables __no vacías__.\n",
    "Las conversiones al tipo __bool__ se llevan a cabo con la instrucción __bool(_variable a convertir_)__."
   ]
  },
  {
   "cell_type": "code",
   "execution_count": 1,
   "metadata": {
    "id": "ng7UD82OKE7N"
   },
   "outputs": [
    {
     "data": {
      "text/plain": [
       "True"
      ]
     },
     "execution_count": 1,
     "metadata": {},
     "output_type": "execute_result"
    }
   ],
   "source": [
    "value = 1 > 0\n",
    "value"
   ]
  },
  {
   "cell_type": "code",
   "execution_count": 2,
   "metadata": {
    "id": "X7NbADtaKNsv"
   },
   "outputs": [
    {
     "data": {
      "text/plain": [
       "False"
      ]
     },
     "execution_count": 2,
     "metadata": {},
     "output_type": "execute_result"
    }
   ],
   "source": [
    "value = 1 < 0\n",
    "value"
   ]
  },
  {
   "cell_type": "code",
   "execution_count": 3,
   "metadata": {
    "id": "W2mNt3IaeX2g"
   },
   "outputs": [
    {
     "data": {
      "text/plain": [
       "bool"
      ]
     },
     "execution_count": 3,
     "metadata": {},
     "output_type": "execute_result"
    }
   ],
   "source": [
    "type(True)"
   ]
  },
  {
   "cell_type": "code",
   "execution_count": 4,
   "metadata": {
    "id": "x6d7Sfs5H5gP"
   },
   "outputs": [
    {
     "data": {
      "text/plain": [
       "bool"
      ]
     },
     "execution_count": 4,
     "metadata": {},
     "output_type": "execute_result"
    }
   ],
   "source": [
    "type(False)"
   ]
  },
  {
   "cell_type": "code",
   "execution_count": 5,
   "metadata": {
    "id": "TWMCAYcKz05f"
   },
   "outputs": [
    {
     "data": {
      "text/plain": [
       "1"
      ]
     },
     "execution_count": 5,
     "metadata": {},
     "output_type": "execute_result"
    }
   ],
   "source": [
    "int(True) # fun fact"
   ]
  },
  {
   "cell_type": "code",
   "execution_count": 6,
   "metadata": {
    "id": "k3JhmZDNz5Li"
   },
   "outputs": [
    {
     "data": {
      "text/plain": [
       "0"
      ]
     },
     "execution_count": 6,
     "metadata": {},
     "output_type": "execute_result"
    }
   ],
   "source": [
    "int(False) # fun fact"
   ]
  },
  {
   "cell_type": "markdown",
   "metadata": {
    "id": "JRYZOJQGeX2h"
   },
   "source": [
    "**TIP** : La mayoría de los valores son `True` \n",
    "- Cualquier string es `True`, menos el string vacio `\"\"`\n",
    "- Cualquier número es `True`, menos el `0`"
   ]
  },
  {
   "cell_type": "code",
   "execution_count": 6,
   "metadata": {
    "id": "8fTL_lUBeX2i"
   },
   "outputs": [
    {
     "data": {
      "text/plain": [
       "True"
      ]
     },
     "execution_count": 6,
     "metadata": {},
     "output_type": "execute_result"
    }
   ],
   "source": [
    "bool(\"a string\")"
   ]
  },
  {
   "cell_type": "code",
   "execution_count": 7,
   "metadata": {
    "id": "s7-uC65HeX2j"
   },
   "outputs": [
    {
     "data": {
      "text/plain": [
       "False"
      ]
     },
     "execution_count": 7,
     "metadata": {},
     "output_type": "execute_result"
    }
   ],
   "source": [
    "bool(\"\")"
   ]
  },
  {
   "cell_type": "code",
   "execution_count": 8,
   "metadata": {
    "id": "BxPYftmveX2j"
   },
   "outputs": [
    {
     "data": {
      "text/plain": [
       "True"
      ]
     },
     "execution_count": 8,
     "metadata": {},
     "output_type": "execute_result"
    }
   ],
   "source": [
    "bool(5)"
   ]
  },
  {
   "cell_type": "code",
   "execution_count": 9,
   "metadata": {
    "id": "TWLh_LKCeX2k"
   },
   "outputs": [
    {
     "data": {
      "text/plain": [
       "False"
      ]
     },
     "execution_count": 9,
     "metadata": {},
     "output_type": "execute_result"
    }
   ],
   "source": [
    "bool(0)"
   ]
  },
  {
   "cell_type": "markdown",
   "metadata": {
    "id": "5z-6fn_AX8g6"
   },
   "source": [
    "### Operadores lógicos\n",
    "#### Conjunción (and)\n",
    "\n",
    "Devuelve `True` solo si todas las declaraciones son verdaderas"
   ]
  },
  {
   "cell_type": "code",
   "execution_count": 10,
   "metadata": {
    "id": "c0HSkR0BsvFR",
    "tags": []
   },
   "outputs": [],
   "source": [
    "x = True \n",
    "y = False"
   ]
  },
  {
   "cell_type": "code",
   "execution_count": 11,
   "metadata": {
    "id": "1VhONus8tHxd",
    "tags": []
   },
   "outputs": [
    {
     "data": {
      "text/plain": [
       "False"
      ]
     },
     "execution_count": 11,
     "metadata": {},
     "output_type": "execute_result"
    }
   ],
   "source": [
    "x and y # el and devuelve True, solo si ambas variables son True en caso contrario devuelve false"
   ]
  },
  {
   "cell_type": "code",
   "execution_count": 12,
   "metadata": {
    "id": "ZWjdDZM0eX2m"
   },
   "outputs": [
    {
     "data": {
      "text/plain": [
       "False"
      ]
     },
     "execution_count": 12,
     "metadata": {},
     "output_type": "execute_result"
    }
   ],
   "source": [
    "x & y"
   ]
  },
  {
   "cell_type": "code",
   "execution_count": 13,
   "metadata": {
    "colab": {
     "base_uri": "https://localhost:8080/"
    },
    "executionInfo": {
     "elapsed": 311,
     "status": "ok",
     "timestamp": 1634397151814,
     "user": {
      "displayName": "Bibiana Rivadeneira",
      "photoUrl": "https://lh3.googleusercontent.com/a-/AOh14GhL-xTUu_mVlpBRHQ1YIbHfKhfJrlVkLdoD9S19OQ=s64",
      "userId": "13403832355809551391"
     },
     "user_tz": 180
    },
    "id": "A5lYsN6TqHGU",
    "outputId": "2729cc75-4a03-4f51-9012-37701c2e0daf"
   },
   "outputs": [
    {
     "data": {
      "text/plain": [
       "True"
      ]
     },
     "execution_count": 13,
     "metadata": {},
     "output_type": "execute_result"
    }
   ],
   "source": [
    "True or False"
   ]
  },
  {
   "cell_type": "code",
   "execution_count": 14,
   "metadata": {
    "colab": {
     "base_uri": "https://localhost:8080/"
    },
    "executionInfo": {
     "elapsed": 318,
     "status": "ok",
     "timestamp": 1634397156974,
     "user": {
      "displayName": "Bibiana Rivadeneira",
      "photoUrl": "https://lh3.googleusercontent.com/a-/AOh14GhL-xTUu_mVlpBRHQ1YIbHfKhfJrlVkLdoD9S19OQ=s64",
      "userId": "13403832355809551391"
     },
     "user_tz": 180
    },
    "id": "M2XQsjChqKEJ",
    "outputId": "98f69de5-7820-478c-95e5-bbd5ae9cad33"
   },
   "outputs": [
    {
     "data": {
      "text/plain": [
       "False"
      ]
     },
     "execution_count": 14,
     "metadata": {},
     "output_type": "execute_result"
    }
   ],
   "source": [
    "False and True"
   ]
  },
  {
   "cell_type": "code",
   "execution_count": 15,
   "metadata": {
    "colab": {
     "base_uri": "https://localhost:8080/"
    },
    "executionInfo": {
     "elapsed": 11,
     "status": "ok",
     "timestamp": 1634397161015,
     "user": {
      "displayName": "Bibiana Rivadeneira",
      "photoUrl": "https://lh3.googleusercontent.com/a-/AOh14GhL-xTUu_mVlpBRHQ1YIbHfKhfJrlVkLdoD9S19OQ=s64",
      "userId": "13403832355809551391"
     },
     "user_tz": 180
    },
    "id": "_3mV9qYDqKvX",
    "outputId": "a285739e-8200-47d2-a72b-a48216fa1533"
   },
   "outputs": [
    {
     "data": {
      "text/plain": [
       "True"
      ]
     },
     "execution_count": 15,
     "metadata": {},
     "output_type": "execute_result"
    }
   ],
   "source": [
    "True or False"
   ]
  },
  {
   "cell_type": "code",
   "execution_count": 16,
   "metadata": {
    "colab": {
     "base_uri": "https://localhost:8080/"
    },
    "executionInfo": {
     "elapsed": 12,
     "status": "ok",
     "timestamp": 1634397167073,
     "user": {
      "displayName": "Bibiana Rivadeneira",
      "photoUrl": "https://lh3.googleusercontent.com/a-/AOh14GhL-xTUu_mVlpBRHQ1YIbHfKhfJrlVkLdoD9S19OQ=s64",
      "userId": "13403832355809551391"
     },
     "user_tz": 180
    },
    "id": "m3TpE-F0qK0m",
    "outputId": "8214e33d-3889-43df-fd9e-33e92a42f28f"
   },
   "outputs": [
    {
     "data": {
      "text/plain": [
       "True"
      ]
     },
     "execution_count": 16,
     "metadata": {},
     "output_type": "execute_result"
    }
   ],
   "source": [
    "True or True"
   ]
  },
  {
   "cell_type": "code",
   "execution_count": 17,
   "metadata": {
    "colab": {
     "base_uri": "https://localhost:8080/"
    },
    "executionInfo": {
     "elapsed": 317,
     "status": "ok",
     "timestamp": 1634397179099,
     "user": {
      "displayName": "Bibiana Rivadeneira",
      "photoUrl": "https://lh3.googleusercontent.com/a-/AOh14GhL-xTUu_mVlpBRHQ1YIbHfKhfJrlVkLdoD9S19OQ=s64",
      "userId": "13403832355809551391"
     },
     "user_tz": 180
    },
    "id": "OJe7IIMMqah8",
    "outputId": "67cd23e6-6404-4878-c5f2-0652b685aea8"
   },
   "outputs": [
    {
     "data": {
      "text/plain": [
       "False"
      ]
     },
     "execution_count": 17,
     "metadata": {},
     "output_type": "execute_result"
    }
   ],
   "source": [
    "False and False"
   ]
  },
  {
   "cell_type": "code",
   "execution_count": 18,
   "metadata": {
    "colab": {
     "base_uri": "https://localhost:8080/"
    },
    "executionInfo": {
     "elapsed": 310,
     "status": "ok",
     "timestamp": 1634397183704,
     "user": {
      "displayName": "Bibiana Rivadeneira",
      "photoUrl": "https://lh3.googleusercontent.com/a-/AOh14GhL-xTUu_mVlpBRHQ1YIbHfKhfJrlVkLdoD9S19OQ=s64",
      "userId": "13403832355809551391"
     },
     "user_tz": 180
    },
    "id": "NbfwbVNVqak8",
    "outputId": "3b5a8f5a-1113-4f23-df7d-ba2f8406e274"
   },
   "outputs": [
    {
     "data": {
      "text/plain": [
       "False"
      ]
     },
     "execution_count": 18,
     "metadata": {},
     "output_type": "execute_result"
    }
   ],
   "source": [
    "False and True"
   ]
  },
  {
   "cell_type": "code",
   "execution_count": 19,
   "metadata": {
    "colab": {
     "base_uri": "https://localhost:8080/"
    },
    "executionInfo": {
     "elapsed": 312,
     "status": "ok",
     "timestamp": 1634397189704,
     "user": {
      "displayName": "Bibiana Rivadeneira",
      "photoUrl": "https://lh3.googleusercontent.com/a-/AOh14GhL-xTUu_mVlpBRHQ1YIbHfKhfJrlVkLdoD9S19OQ=s64",
      "userId": "13403832355809551391"
     },
     "user_tz": 180
    },
    "id": "ckguQ7vvqany",
    "outputId": "861d757a-1aec-40eb-8c27-fa6eba6b923a"
   },
   "outputs": [
    {
     "data": {
      "text/plain": [
       "False"
      ]
     },
     "execution_count": 19,
     "metadata": {},
     "output_type": "execute_result"
    }
   ],
   "source": [
    "True and False"
   ]
  },
  {
   "cell_type": "code",
   "execution_count": 20,
   "metadata": {
    "colab": {
     "base_uri": "https://localhost:8080/"
    },
    "executionInfo": {
     "elapsed": 280,
     "status": "ok",
     "timestamp": 1634397193113,
     "user": {
      "displayName": "Bibiana Rivadeneira",
      "photoUrl": "https://lh3.googleusercontent.com/a-/AOh14GhL-xTUu_mVlpBRHQ1YIbHfKhfJrlVkLdoD9S19OQ=s64",
      "userId": "13403832355809551391"
     },
     "user_tz": 180
    },
    "id": "Nl7Y7bZAqarR",
    "outputId": "1c757c57-a9f4-4cd9-80aa-3f353bb67cc3"
   },
   "outputs": [
    {
     "data": {
      "text/plain": [
       "True"
      ]
     },
     "execution_count": 20,
     "metadata": {},
     "output_type": "execute_result"
    }
   ],
   "source": [
    "True and True"
   ]
  },
  {
   "cell_type": "markdown",
   "metadata": {
    "id": "5JbbizAdtnxd"
   },
   "source": [
    "| Entrada 1 \t| Entrada 2 \t|   Or \t|\n",
    "|:---------:\t|:---------:\t|:-----:\t|\n",
    "|   False   \t|   False   \t| False \t|\n",
    "|   False   \t|    True   \t|  True \t|\n",
    "|    True   \t|   False   \t|  True \t|\n",
    "|    True   \t|    True   \t|  True \t|"
   ]
  },
  {
   "cell_type": "markdown",
   "metadata": {},
   "source": [
    "| Entrada 1 \t| Entrada 2 \t|  And \t|\n",
    "|:---------:\t|:---------:\t|:-----:\t|\n",
    "|   False   \t|   False   \t| False \t|\n",
    "|   False   \t|    True   \t| False \t|\n",
    "|    True   \t|   False   \t| False \t|\n",
    "|    True   \t|    True   \t|  True \t|"
   ]
  },
  {
   "cell_type": "markdown",
   "metadata": {
    "id": "z0CgxuRCYf_r"
   },
   "source": [
    "#### Negación (not)\n",
    "\n",
    "Invierte el resultado:\n",
    "\n",
    "`True` --> `False`\n",
    "\n",
    "`False` --> `True`\n"
   ]
  },
  {
   "cell_type": "code",
   "execution_count": null,
   "metadata": {
    "id": "o6MfvBmfO6NT"
   },
   "outputs": [],
   "source": [
    "not True"
   ]
  },
  {
   "cell_type": "code",
   "execution_count": null,
   "metadata": {
    "id": "g0io7O5UKZ0G"
   },
   "outputs": [],
   "source": [
    "not False"
   ]
  },
  {
   "cell_type": "markdown",
   "metadata": {
    "id": "qzZZf1aheX2o"
   },
   "source": [
    "\n",
    "### 📝 Resumen - Tabla operadores lógicos\n",
    "\n",
    "| x | y | x and y | x or y | not x\n",
    "| --- | --- | --- | --- | --- |\n",
    "| True | True | True | True | False\n",
    "| True | False | False | True | False\n",
    "| False | True | False | True | True\n",
    "| False | False | False | False | True"
   ]
  },
  {
   "cell_type": "markdown",
   "metadata": {
    "id": "cfreaEcaZBp7"
   },
   "source": [
    "### Operadores de comparación"
   ]
  },
  {
   "cell_type": "code",
   "execution_count": 21,
   "metadata": {
    "id": "bjRs5YqvYq-q"
   },
   "outputs": [
    {
     "data": {
      "text/plain": [
       "True"
      ]
     },
     "execution_count": 21,
     "metadata": {},
     "output_type": "execute_result"
    }
   ],
   "source": [
    "True == True  # igual"
   ]
  },
  {
   "cell_type": "code",
   "execution_count": 22,
   "metadata": {
    "id": "9lDMLOpDYrB3"
   },
   "outputs": [
    {
     "data": {
      "text/plain": [
       "True"
      ]
     },
     "execution_count": 22,
     "metadata": {},
     "output_type": "execute_result"
    }
   ],
   "source": [
    "True != False  # no igual"
   ]
  },
  {
   "cell_type": "code",
   "execution_count": 23,
   "metadata": {
    "id": "0PL_FF1yvnHI"
   },
   "outputs": [
    {
     "data": {
      "text/plain": [
       "True"
      ]
     },
     "execution_count": 23,
     "metadata": {},
     "output_type": "execute_result"
    }
   ],
   "source": [
    "2 == 2"
   ]
  },
  {
   "cell_type": "code",
   "execution_count": 24,
   "metadata": {
    "id": "hH2C-bHQWc8V"
   },
   "outputs": [
    {
     "data": {
      "text/plain": [
       "False"
      ]
     },
     "execution_count": 24,
     "metadata": {},
     "output_type": "execute_result"
    }
   ],
   "source": [
    "2 > 3  # mayor que"
   ]
  },
  {
   "cell_type": "code",
   "execution_count": 25,
   "metadata": {
    "id": "UoIywEB7YvkV"
   },
   "outputs": [
    {
     "data": {
      "text/plain": [
       "False"
      ]
     },
     "execution_count": 25,
     "metadata": {},
     "output_type": "execute_result"
    }
   ],
   "source": [
    "2 >= 3  # mayor o igual que"
   ]
  },
  {
   "cell_type": "code",
   "execution_count": 26,
   "metadata": {
    "id": "tZ57stFMYvtK"
   },
   "outputs": [
    {
     "data": {
      "text/plain": [
       "True"
      ]
     },
     "execution_count": 26,
     "metadata": {},
     "output_type": "execute_result"
    }
   ],
   "source": [
    "2 < 3  # menor que"
   ]
  },
  {
   "cell_type": "code",
   "execution_count": 27,
   "metadata": {
    "id": "oXwQEEOWYvwA"
   },
   "outputs": [
    {
     "data": {
      "text/plain": [
       "True"
      ]
     },
     "execution_count": 27,
     "metadata": {},
     "output_type": "execute_result"
    }
   ],
   "source": [
    "2 <= 3  # menor o igual que"
   ]
  },
  {
   "cell_type": "code",
   "execution_count": 28,
   "metadata": {
    "id": "QYzwLMxXeX2s"
   },
   "outputs": [
    {
     "data": {
      "text/plain": [
       "True"
      ]
     },
     "execution_count": 28,
     "metadata": {},
     "output_type": "execute_result"
    }
   ],
   "source": [
    "'a' < 'b'"
   ]
  },
  {
   "cell_type": "code",
   "execution_count": null,
   "metadata": {
    "id": "iDSEDtRHeX2s"
   },
   "outputs": [],
   "source": [
    "'b' < 'a'"
   ]
  },
  {
   "cell_type": "code",
   "execution_count": null,
   "metadata": {
    "id": "tefA7ELEeX2t"
   },
   "outputs": [],
   "source": [
    "-2 < 0"
   ]
  },
  {
   "cell_type": "code",
   "execution_count": null,
   "metadata": {
    "id": "7sIfUdN5eX2t"
   },
   "outputs": [],
   "source": [
    "'2' > '3'"
   ]
  },
  {
   "cell_type": "code",
   "execution_count": null,
   "metadata": {
    "id": "HdmXItcYeX2t"
   },
   "outputs": [],
   "source": [
    "True < False"
   ]
  },
  {
   "cell_type": "code",
   "execution_count": null,
   "metadata": {
    "id": "wnsusqVKLbyh"
   },
   "outputs": [],
   "source": [
    "(True and not False)"
   ]
  },
  {
   "cell_type": "code",
   "execution_count": null,
   "metadata": {
    "id": "9UhmtgaFLb1X"
   },
   "outputs": [],
   "source": [
    "(True or not (2 < 3))"
   ]
  },
  {
   "cell_type": "code",
   "execution_count": null,
   "metadata": {
    "id": "E6IpdjNJPHgZ"
   },
   "outputs": [],
   "source": [
    "(True and not False) or (True or not (2 < 3))"
   ]
  },
  {
   "cell_type": "markdown",
   "metadata": {
    "id": "cHPe0U_hZDwa"
   },
   "source": [
    "## ✏️ Ejercicios de bool\n",
    "### Sincrónicos"
   ]
  },
  {
   "cell_type": "markdown",
   "metadata": {},
   "source": [
    "Evaluae las siguientes expresiones\n",
    "\n",
    "1. `(not True or False) and True`\n",
    "2. `not (True and False or 'n' < 'm')`\n",
    "3. `(True and False) and (3 < 5)`\n",
    "4. `('0' < '2' ) and (True == 1)`\n",
    "5. `not (True != 0) or (True == '')`"
   ]
  },
  {
   "cell_type": "markdown",
   "metadata": {},
   "source": [
    "1.  \n",
    "2.  \n",
    "3.  \n",
    "4.  \n",
    "5.  "
   ]
  },
  {
   "cell_type": "markdown",
   "metadata": {
    "id": "ygr4fpjvrt8J"
   },
   "source": [
    "Se debe setear una alarma en el celular que avise cuando *es hora de que pase el recolector* **Y** *el cesto esté lleno*"
   ]
  },
  {
   "cell_type": "code",
   "execution_count": 1,
   "metadata": {
    "id": "9pqaeZQBrP1X"
   },
   "outputs": [],
   "source": [
    "garbage_collector_time = True\n",
    "trash_bin_full = False"
   ]
  },
  {
   "cell_type": "code",
   "execution_count": 3,
   "metadata": {
    "colab": {
     "base_uri": "https://localhost:8080/"
    },
    "executionInfo": {
     "elapsed": 324,
     "status": "ok",
     "timestamp": 1634397469757,
     "user": {
      "displayName": "Bibiana Rivadeneira",
      "photoUrl": "https://lh3.googleusercontent.com/a-/AOh14GhL-xTUu_mVlpBRHQ1YIbHfKhfJrlVkLdoD9S19OQ=s64",
      "userId": "13403832355809551391"
     },
     "user_tz": 180
    },
    "id": "eAUIQH8brhtB",
    "outputId": "0698d9cc-1c4f-447f-a226-d77b255fd13a"
   },
   "outputs": [],
   "source": [
    "# garbage_collector_time <bool operator> trash_bin_full"
   ]
  },
  {
   "cell_type": "code",
   "execution_count": null,
   "metadata": {},
   "outputs": [],
   "source": [
    "i_am_out_of_home = True"
   ]
  },
  {
   "cell_type": "markdown",
   "metadata": {
    "id": "Utq3GF1Er8HB"
   },
   "source": [
    "La alarma debe encenderse si *es hora de que pase el recolector* **Y** *el cesto esté lleno* **O** no hay nadie en casa casa"
   ]
  },
  {
   "cell_type": "code",
   "execution_count": 4,
   "metadata": {
    "id": "KxXzRmBVsCHT"
   },
   "outputs": [],
   "source": [
    "# garbage_collector_time <bool operator> trash_bin_full <bool operator> i_am_out_of_home"
   ]
  },
  {
   "cell_type": "markdown",
   "metadata": {
    "id": "KjZLbo-UeX2u",
    "tags": []
   },
   "source": [
    "### Asincrónicos"
   ]
  },
  {
   "cell_type": "markdown",
   "metadata": {
    "id": "-Xs929OgsESk"
   },
   "source": [
    "La alarma debe encenderse si *es hora de que pase el recolector* **Y** *el cesto esté lleno* **O** *no hay nadie en casa* **O** *hay residuo orgánico*"
   ]
  },
  {
   "cell_type": "code",
   "execution_count": null,
   "metadata": {
    "id": "sJ-PjGeUsMbL"
   },
   "outputs": [],
   "source": []
  },
  {
   "cell_type": "markdown",
   "metadata": {
    "id": "oyPPJCnbudrj"
   },
   "source": [
    "Para un bot que compra o venda moneda extranjera según la cotización, se debe setear la variable *sell* si la cotización de ayer es menor a la cotización de hoy, y setear la variable *buy* si la cotización de ayer **NO** es mayor a la de hoy **Y** hay fondos suficientes."
   ]
  },
  {
   "cell_type": "code",
   "execution_count": 5,
   "metadata": {
    "id": "rf0fIb2lu86j"
   },
   "outputs": [],
   "source": [
    "banking_hours = True\n",
    "yesterday_price = 55\n",
    "today_price = 57\n",
    "sufficient_funds = True"
   ]
  },
  {
   "cell_type": "code",
   "execution_count": null,
   "metadata": {
    "id": "J7MEcEDBwEBG"
   },
   "outputs": [],
   "source": []
  },
  {
   "cell_type": "markdown",
   "metadata": {
    "id": "NB0Y73bRZK1n"
   },
   "source": [
    "Más info: \n",
    "- [digitalocean tutorial](https://www.digitalocean.com/community/tutorials/understanding-boolean-logic-in-python-3)\n",
    "- [w3school tutorial](https://www.w3schools.com/python/python_booleans.asp)\n"
   ]
  }
 ],
 "metadata": {
  "colab": {
   "collapsed_sections": [],
   "name": "4.modulo_2-bool.ipynb",
   "provenance": []
  },
  "kernelspec": {
   "display_name": "Python 3 (ipykernel)",
   "language": "python",
   "name": "python3"
  },
  "language_info": {
   "codemirror_mode": {
    "name": "ipython",
    "version": 3
   },
   "file_extension": ".py",
   "mimetype": "text/x-python",
   "name": "python",
   "nbconvert_exporter": "python",
   "pygments_lexer": "ipython3",
   "version": "3.9.12"
  }
 },
 "nbformat": 4,
 "nbformat_minor": 4
}
