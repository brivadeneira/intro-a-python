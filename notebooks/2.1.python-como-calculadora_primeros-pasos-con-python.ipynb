{
 "cells": [
  {
   "cell_type": "markdown",
   "id": "21247f65-482b-478e-a8b5-971acebed8bd",
   "metadata": {
    "id": "21247f65-482b-478e-a8b5-971acebed8bd",
    "tags": []
   },
   "source": [
    "# **MÓDULO 2 - PRIMEROS PASOS CON PYTHON**"
   ]
  },
  {
   "cell_type": "markdown",
   "id": "ebf58977-a12b-47d0-bdde-b7e3e73f8fe7",
   "metadata": {},
   "source": [
    "* **NO** se necesita un editor para programar en Python.\n",
    "* **NO** se necesita jupyter para programar en python.  \n",
    "Una vez que se instala Python en el Sistema Operativo, está disponible el *intérprete* de Python:\n",
    "\n",
    "```sh\n",
    "$ python\n",
    "Python 3.10 (default, June 4 2019, 09:25:04)\n",
    "[GCC 4.8.2] on linux\n",
    "Type \"help\", \"copyright\", \"credits\" or \"license\" for more information.\n",
    ">>>\n",
    "``` \n",
    "\n",
    "El prompt `>>>` indica la presencia del intérprete interactivo de Python, que *entiende* sintaxis de Python\n",
    "\n",
    "```sh\n",
    ">>> the_world_is_flat = True\n",
    ">>> if the_world_is_flat:\n",
    "...     print(\"Be careful not to fall off!\")\n",
    "...\n",
    "Be careful not to fall off!\n",
    "``` "
   ]
  },
  {
   "cell_type": "markdown",
   "id": "a4ba040c-e8f5-4154-880e-e72217943782",
   "metadata": {},
   "source": [
    "## Python como calculadora\n",
    "### Operaciones básicas"
   ]
  },
  {
   "cell_type": "code",
   "execution_count": null,
   "id": "2bfea841-059f-4919-9b7d-681b423ae250",
   "metadata": {},
   "outputs": [],
   "source": []
  },
  {
   "cell_type": "code",
   "execution_count": 2,
   "id": "4a561654-ced5-4784-94fe-31b677777034",
   "metadata": {
    "id": "4a561654-ced5-4784-94fe-31b677777034"
   },
   "outputs": [
    {
     "data": {
      "text/plain": [
       "72"
      ]
     },
     "execution_count": 2,
     "metadata": {},
     "output_type": "execute_result"
    }
   ],
   "source": [
    "23 + 49  # suma "
   ]
  },
  {
   "cell_type": "code",
   "execution_count": 3,
   "id": "2e376bdb-531a-4a42-8de5-cb01be080e4e",
   "metadata": {
    "id": "2e376bdb-531a-4a42-8de5-cb01be080e4e"
   },
   "outputs": [
    {
     "data": {
      "text/plain": [
       "4"
      ]
     },
     "execution_count": 3,
     "metadata": {},
     "output_type": "execute_result"
    }
   ],
   "source": [
    "2 + 2"
   ]
  },
  {
   "cell_type": "code",
   "execution_count": 4,
   "id": "050c4024-d8e4-46a3-aaf8-8b1313bb2102",
   "metadata": {
    "id": "050c4024-d8e4-46a3-aaf8-8b1313bb2102"
   },
   "outputs": [
    {
     "data": {
      "text/plain": [
       "(2+2j)"
      ]
     },
     "execution_count": 4,
     "metadata": {},
     "output_type": "execute_result"
    }
   ],
   "source": [
    "2 + 300000000j"
   ]
  },
  {
   "cell_type": "code",
   "execution_count": 5,
   "id": "a8f5f000-ea66-4400-9489-ab3de529b388",
   "metadata": {
    "id": "a8f5f000-ea66-4400-9489-ab3de529b388"
   },
   "outputs": [
    {
     "ename": "SyntaxError",
     "evalue": "invalid syntax (1657464894.py, line 1)",
     "output_type": "error",
     "traceback": [
      "\u001b[0;36m  Input \u001b[0;32mIn [5]\u001b[0;36m\u001b[0m\n\u001b[0;31m    2 + 2i\u001b[0m\n\u001b[0m         ^\u001b[0m\n\u001b[0;31mSyntaxError\u001b[0m\u001b[0;31m:\u001b[0m invalid syntax\n"
     ]
    }
   ],
   "source": [
    "2 + 2i"
   ]
  },
  {
   "cell_type": "code",
   "execution_count": 7,
   "id": "9145ab2f-9e7d-4325-b76c-ca802d7ad7ff",
   "metadata": {
    "id": "9145ab2f-9e7d-4325-b76c-ca802d7ad7ff"
   },
   "outputs": [
    {
     "data": {
      "text/plain": [
       "4.1"
      ]
     },
     "execution_count": 7,
     "metadata": {},
     "output_type": "execute_result"
    }
   ],
   "source": [
    "2 + 2.1"
   ]
  },
  {
   "cell_type": "code",
   "execution_count": 8,
   "id": "8b7f9ea1-7be7-40e9-ad07-503a48b3e391",
   "metadata": {
    "id": "8b7f9ea1-7be7-40e9-ad07-503a48b3e391"
   },
   "outputs": [
    {
     "data": {
      "text/plain": [
       "92"
      ]
     },
     "execution_count": 8,
     "metadata": {},
     "output_type": "execute_result"
    }
   ],
   "source": [
    "# resta\n",
    "189 - 97"
   ]
  },
  {
   "cell_type": "code",
   "execution_count": 9,
   "id": "b7493bc9-bb58-40e4-bf27-93b00c0a9c39",
   "metadata": {
    "id": "b7493bc9-bb58-40e4-bf27-93b00c0a9c39"
   },
   "outputs": [
    {
     "ename": "TypeError",
     "evalue": "unsupported operand type(s) for -: 'int' and 'str'",
     "output_type": "error",
     "traceback": [
      "\u001b[0;31m---------------------------------------------------------------------------\u001b[0m",
      "\u001b[0;31mTypeError\u001b[0m                                 Traceback (most recent call last)",
      "Input \u001b[0;32mIn [9]\u001b[0m, in \u001b[0;36m<cell line: 1>\u001b[0;34m()\u001b[0m\n\u001b[0;32m----> 1\u001b[0m \u001b[38;5;241;43m189\u001b[39;49m\u001b[43m \u001b[49m\u001b[38;5;241;43m-\u001b[39;49m\u001b[43m \u001b[49m\u001b[38;5;124;43m'\u001b[39;49m\u001b[38;5;124;43m97\u001b[39;49m\u001b[38;5;124;43m'\u001b[39;49m\n",
      "\u001b[0;31mTypeError\u001b[0m: unsupported operand type(s) for -: 'int' and 'str'"
     ]
    }
   ],
   "source": [
    "189 - 'abc'"
   ]
  },
  {
   "cell_type": "code",
   "execution_count": 10,
   "id": "33a9997b-9c54-442e-a0b0-f4d91ab274ce",
   "metadata": {
    "id": "33a9997b-9c54-442e-a0b0-f4d91ab274ce"
   },
   "outputs": [
    {
     "data": {
      "text/plain": [
       "-286"
      ]
     },
     "execution_count": 10,
     "metadata": {},
     "output_type": "execute_result"
    }
   ],
   "source": [
    "- 189 - 97"
   ]
  },
  {
   "cell_type": "code",
   "execution_count": 11,
   "id": "b07ae7e8-109d-47bc-b54b-3a308dbf45d0",
   "metadata": {
    "id": "b07ae7e8-109d-47bc-b54b-3a308dbf45d0"
   },
   "outputs": [
    {
     "data": {
      "text/plain": [
       "60"
      ]
     },
     "execution_count": 11,
     "metadata": {},
     "output_type": "execute_result"
    }
   ],
   "source": [
    "12 * 5  # producto"
   ]
  },
  {
   "cell_type": "code",
   "execution_count": 12,
   "id": "577c8699-e58e-4640-a33d-99ed24a50cf5",
   "metadata": {
    "id": "577c8699-e58e-4640-a33d-99ed24a50cf5"
   },
   "outputs": [
    {
     "data": {
      "text/plain": [
       "248832"
      ]
     },
     "execution_count": 12,
     "metadata": {},
     "output_type": "execute_result"
    }
   ],
   "source": [
    "12 ** 5"
   ]
  },
  {
   "cell_type": "code",
   "execution_count": 13,
   "id": "a640f0d8-cda9-44d1-9846-f1b9ccf57b58",
   "metadata": {
    "id": "a640f0d8-cda9-44d1-9846-f1b9ccf57b58"
   },
   "outputs": [
    {
     "data": {
      "text/plain": [
       "2.4"
      ]
     },
     "execution_count": 13,
     "metadata": {},
     "output_type": "execute_result"
    }
   ],
   "source": [
    "# cociente\n",
    "12 / 5"
   ]
  },
  {
   "cell_type": "code",
   "execution_count": 14,
   "id": "a148c308-6af8-4bd3-8df0-d9733168b93e",
   "metadata": {
    "id": "a148c308-6af8-4bd3-8df0-d9733168b93e"
   },
   "outputs": [
    {
     "data": {
      "text/plain": [
       "2"
      ]
     },
     "execution_count": 14,
     "metadata": {},
     "output_type": "execute_result"
    }
   ],
   "source": [
    "12 // 5"
   ]
  },
  {
   "cell_type": "code",
   "execution_count": 16,
   "id": "1576cfa5-cd81-414f-9bfc-2fab7e9b060c",
   "metadata": {
    "id": "1576cfa5-cd81-414f-9bfc-2fab7e9b060c"
   },
   "outputs": [
    {
     "data": {
      "text/plain": [
       "0"
      ]
     },
     "execution_count": 16,
     "metadata": {},
     "output_type": "execute_result"
    }
   ],
   "source": [
    "10 % 5  # mod"
   ]
  },
  {
   "cell_type": "code",
   "execution_count": 17,
   "id": "c72bee58-280c-463d-a611-ba86046bb940",
   "metadata": {
    "id": "c72bee58-280c-463d-a611-ba86046bb940"
   },
   "outputs": [
    {
     "ename": "SyntaxError",
     "evalue": "invalid syntax (3887458437.py, line 1)",
     "output_type": "error",
     "traceback": [
      "\u001b[0;36m  Input \u001b[0;32mIn [17]\u001b[0;36m\u001b[0m\n\u001b[0;31m    2 *** 3\u001b[0m\n\u001b[0m        ^\u001b[0m\n\u001b[0;31mSyntaxError\u001b[0m\u001b[0;31m:\u001b[0m invalid syntax\n"
     ]
    }
   ],
   "source": [
    "2 *** 3"
   ]
  },
  {
   "cell_type": "markdown",
   "id": "5fead847-1c9f-4db3-b9f3-33d4556882e5",
   "metadata": {
    "id": "5fead847-1c9f-4db3-b9f3-33d4556882e5"
   },
   "source": [
    "Es posible dar prioridad a operaciones:"
   ]
  },
  {
   "cell_type": "code",
   "execution_count": 19,
   "id": "d5f3b940-b4b8-463e-b067-f83db94e3d0c",
   "metadata": {
    "id": "d5f3b940-b4b8-463e-b067-f83db94e3d0c"
   },
   "outputs": [
    {
     "data": {
      "text/plain": [
       "-14"
      ]
     },
     "execution_count": 19,
     "metadata": {},
     "output_type": "execute_result"
    }
   ],
   "source": [
    "(4+3) * -2"
   ]
  },
  {
   "cell_type": "markdown",
   "id": "1e4905ef-b6ad-4a51-971a-40fbdc371f15",
   "metadata": {
    "id": "1e4905ef-b6ad-4a51-971a-40fbdc371f15"
   },
   "source": [
    "#### math"
   ]
  },
  {
   "cell_type": "code",
   "execution_count": 20,
   "id": "77a12f91-ad9c-4ff0-b87e-ee4fcaa5e29d",
   "metadata": {
    "id": "77a12f91-ad9c-4ff0-b87e-ee4fcaa5e29d"
   },
   "outputs": [],
   "source": [
    "import math"
   ]
  },
  {
   "cell_type": "code",
   "execution_count": 21,
   "id": "4562ce76-4993-477c-b533-d88bc695a682",
   "metadata": {
    "id": "4562ce76-4993-477c-b533-d88bc695a682"
   },
   "outputs": [
    {
     "data": {
      "text/plain": [
       "4.0"
      ]
     },
     "execution_count": 21,
     "metadata": {},
     "output_type": "execute_result"
    }
   ],
   "source": [
    "# Raiz Cuadrada\n",
    "math.sqrt(16)"
   ]
  },
  {
   "cell_type": "code",
   "execution_count": 22,
   "id": "f087ece0-cc9c-43dd-b8f3-696adeaed46f",
   "metadata": {},
   "outputs": [
    {
     "data": {
      "text/plain": [
       "3.141592653589793"
      ]
     },
     "execution_count": 22,
     "metadata": {},
     "output_type": "execute_result"
    }
   ],
   "source": [
    "math.pi"
   ]
  },
  {
   "cell_type": "code",
   "execution_count": 23,
   "id": "fa3c3096-e39c-4094-a850-60f426a08f94",
   "metadata": {
    "id": "fa3c3096-e39c-4094-a850-60f426a08f94"
   },
   "outputs": [
    {
     "data": {
      "text/plain": [
       "3.141592653589793"
      ]
     },
     "execution_count": 23,
     "metadata": {},
     "output_type": "execute_result"
    }
   ],
   "source": [
    "from math import pi\n",
    "pi"
   ]
  },
  {
   "cell_type": "markdown",
   "id": "14261df2-c2e0-4148-9597-9db48062d8c2",
   "metadata": {
    "id": "14261df2-c2e0-4148-9597-9db48062d8c2",
    "tags": []
   },
   "source": [
    "#### ¡Explorar!\n",
    "`math. + tab+tab`"
   ]
  },
  {
   "cell_type": "code",
   "execution_count": 24,
   "id": "01228516-8947-45d3-8d63-d6ea391918e4",
   "metadata": {
    "id": "01228516-8947-45d3-8d63-d6ea391918e4"
   },
   "outputs": [
    {
     "data": {
      "text/plain": [
       "2.718281828459045"
      ]
     },
     "execution_count": 24,
     "metadata": {},
     "output_type": "execute_result"
    }
   ],
   "source": [
    "math."
   ]
  },
  {
   "cell_type": "markdown",
   "id": "a4960c51-bac5-4409-a6bf-69c705ccfcbb",
   "metadata": {
    "id": "a4960c51-bac5-4409-a6bf-69c705ccfcbb",
    "tags": []
   },
   "source": [
    "### ✏️ Ejercicios Python como calculadora \n",
    "\n",
    "#### Sincrónicos"
   ]
  },
  {
   "cell_type": "markdown",
   "id": "35bca4c7-83b6-4d09-937c-6406b61a09b5",
   "metadata": {
    "id": "35bca4c7-83b6-4d09-937c-6406b61a09b5",
    "tags": []
   },
   "source": [
    "* Calcular el área de las siguientes figuras:\n",
    "\n",
    "![](https://cdn1.byjus.com/wp-content/uploads/2018/11/maths/2016/06/14093138/167.png)\n",
    "\n",
    "siendo:\n",
    "\n",
    "$a = 13 cm$  \n",
    "$b = 25.7 cm$  \n",
    "$h = 10 cm$  \n",
    "$s = 6.5 cm$  \n"
   ]
  },
  {
   "cell_type": "code",
   "execution_count": 25,
   "id": "6095e20a-2c0f-4c45-b7c4-be5fdd78f935",
   "metadata": {
    "id": "6095e20a-2c0f-4c45-b7c4-be5fdd78f935"
   },
   "outputs": [
    {
     "data": {
      "text/plain": [
       "42.25"
      ]
     },
     "execution_count": 25,
     "metadata": {},
     "output_type": "execute_result"
    }
   ],
   "source": [
    "# cuadrado\n",
    "6.5 ** 2"
   ]
  },
  {
   "cell_type": "code",
   "execution_count": null,
   "id": "f663f7a4-99ef-4aa5-a7a7-aeed2a90e7cd",
   "metadata": {
    "id": "f663f7a4-99ef-4aa5-a7a7-aeed2a90e7cd",
    "tags": []
   },
   "outputs": [],
   "source": [
    "# rectángulo"
   ]
  },
  {
   "cell_type": "code",
   "execution_count": null,
   "id": "SUZGVqT-zKpg",
   "metadata": {
    "id": "SUZGVqT-zKpg",
    "tags": []
   },
   "outputs": [],
   "source": [
    "# círculo"
   ]
  },
  {
   "cell_type": "code",
   "execution_count": null,
   "id": "VKR1pcLo0olR",
   "metadata": {
    "id": "VKR1pcLo0olR",
    "tags": []
   },
   "outputs": [],
   "source": [
    "# trapezoide\n"
   ]
  },
  {
   "cell_type": "code",
   "execution_count": 1,
   "id": "7f81b56b-8303-41a8-b804-4f3236c4ffd6",
   "metadata": {},
   "outputs": [],
   "source": [
    "# triangulo"
   ]
  },
  {
   "cell_type": "code",
   "execution_count": 2,
   "id": "b1df66c3-7274-4f46-9c13-bc854c78cef6",
   "metadata": {},
   "outputs": [],
   "source": [
    "# elipse"
   ]
  },
  {
   "cell_type": "code",
   "execution_count": 3,
   "id": "3e3b4b03-edac-426b-97cf-5f8f8489857a",
   "metadata": {},
   "outputs": [],
   "source": [
    "# paralelograma"
   ]
  },
  {
   "cell_type": "markdown",
   "id": "1ca14918-1243-4222-9fab-a193feb764ed",
   "metadata": {
    "id": "1ca14918-1243-4222-9fab-a193feb764ed",
    "tags": []
   },
   "source": [
    "#### Asincrónicos"
   ]
  },
  {
   "cell_type": "markdown",
   "id": "e9ac481c-ada8-4848-9d3b-5f79957ee701",
   "metadata": {
    "id": "e9ac481c-ada8-4848-9d3b-5f79957ee701",
    "tags": []
   },
   "source": [
    "Calcular el resultado de las siguientes expresiones:\n",
    "\n",
    "$$\n",
    "\\frac{49-12}{25 \\cdot 6} + 2\\,\\cdot\\sqrt{25 + 66.2}\\,\\cdot 49\n",
    "$$"
   ]
  },
  {
   "cell_type": "code",
   "execution_count": null,
   "id": "3ed8be6b-9aa3-4ae3-92c6-e812a01b04ad",
   "metadata": {
    "id": "3ed8be6b-9aa3-4ae3-92c6-e812a01b04ad",
    "tags": []
   },
   "outputs": [],
   "source": []
  },
  {
   "cell_type": "markdown",
   "id": "5e31b7b7-a550-40b5-9400-32a4ebfe03f8",
   "metadata": {},
   "source": [
    "- tax = 0.21 · price\n",
    "- total_price = price + tax\n",
    "- price = $ 2200.45"
   ]
  },
  {
   "cell_type": "markdown",
   "id": "3fc2884d-da2a-446a-b348-136f0eb44281",
   "metadata": {},
   "source": []
  },
  {
   "cell_type": "markdown",
   "id": "149dcb82-3cd2-43ed-9fa1-d307aa010f01",
   "metadata": {},
   "source": [
    "### Para investigar 🔎\n",
    "\n",
    "¿Cómo obtener sólo *dos* decimales después de la coma para el precio del ejercicio anterior?"
   ]
  },
  {
   "cell_type": "markdown",
   "id": "ef50f267-11e7-4a15-8222-dd432da1ca8c",
   "metadata": {},
   "source": [
    "< two digits > python **official doc**"
   ]
  },
  {
   "cell_type": "code",
   "execution_count": null,
   "id": "2e094a11-2d43-414c-a4ea-bf54342aaf8a",
   "metadata": {},
   "outputs": [],
   "source": [
    "stack overflow, real python "
   ]
  },
  {
   "cell_type": "markdown",
   "id": "aa3885a2-7cf2-4209-9793-385248ee4a15",
   "metadata": {
    "id": "aa3885a2-7cf2-4209-9793-385248ee4a15",
    "tags": []
   },
   "source": [
    "Recrear el algoritmo de evaluación de Monte Carlo de la presentación para los siguientes valores: *(la idea de este ejercicio es NO copiar y pegar)*\n",
    "\n",
    "![](https://thumbs.gfycat.com/BelatedLikableGoa-size_restricted.gif)"
   ]
  },
  {
   "cell_type": "markdown",
   "id": "de1ece0b-52fa-4792-91cf-9a609ec62d2a",
   "metadata": {
    "id": "950174cb-c453-4d37-9e9b-0a9fadf3b8a4",
    "tags": []
   },
   "source": [
    "$S_0$ = 123.  \n",
    "K = 164.  \n",
    "T = 1.0  \n",
    "r = 0.072  \n",
    "$\\sigma$ = 0.3  \n",
    "I = 1500000  "
   ]
  },
  {
   "cell_type": "markdown",
   "id": "cae3b809-4df0-408c-9759-c139134ad466",
   "metadata": {},
   "source": [
    "> tip: Para los tipos de datos numéricos en python se puede usar `_` como punto de mil, esto facilita la lectura, por ejemplo: `1_500_000`"
   ]
  },
  {
   "cell_type": "code",
   "execution_count": null,
   "id": "040c09da-f303-4f47-852b-4b882999c99a",
   "metadata": {
    "id": "040c09da-f303-4f47-852b-4b882999c99a"
   },
   "outputs": [],
   "source": []
  },
  {
   "cell_type": "markdown",
   "id": "kCGQWeVGzqWa",
   "metadata": {
    "id": "kCGQWeVGzqWa"
   },
   "source": [
    "### Para investigar 🔎\n",
    "\n",
    "Investigar y determinar **tres formas diferentes** de calcular la *raíz cuadrada de un número en Python*.  \n",
    "> pro tip: una de ellas tiene que ver con un operador abordado en clases, la otra con una librería también vista en clase, y la última con una función que a descubrir *\"googleando\"*."
   ]
  },
  {
   "cell_type": "code",
   "execution_count": null,
   "id": "328be90e-4e21-44cc-a355-517fc27a89a2",
   "metadata": {},
   "outputs": [],
   "source": []
  },
  {
   "cell_type": "markdown",
   "id": "6a491a14-7cc0-4139-a750-d0f39157da87",
   "metadata": {},
   "source": [
    "¿Cómo generar números aleatorios con Python?"
   ]
  },
  {
   "cell_type": "code",
   "execution_count": null,
   "id": "c163af64-4533-44ed-99af-d9a441d7a0e2",
   "metadata": {},
   "outputs": [],
   "source": []
  },
  {
   "cell_type": "markdown",
   "id": "klteicGFgLkG",
   "metadata": {
    "id": "klteicGFgLkG"
   },
   "source": [
    "> Más info: [Usando Python como calculadora - Tutorial oficial de Python](https://docs.python.org/es/3/tutorial/introduction.html#using-python-as-a-calculator)"
   ]
  }
 ],
 "metadata": {
  "colab": {
   "collapsed_sections": [],
   "name": "1.modulo_1-introduccion-clase_2.ipynb",
   "provenance": [],
   "toc_visible": true
  },
  "kernelspec": {
   "display_name": "Python 3 (ipykernel)",
   "language": "python",
   "name": "python3"
  },
  "language_info": {
   "codemirror_mode": {
    "name": "ipython",
    "version": 3
   },
   "file_extension": ".py",
   "mimetype": "text/x-python",
   "name": "python",
   "nbconvert_exporter": "python",
   "pygments_lexer": "ipython3",
   "version": "3.9.12"
  }
 },
 "nbformat": 4,
 "nbformat_minor": 5
}
