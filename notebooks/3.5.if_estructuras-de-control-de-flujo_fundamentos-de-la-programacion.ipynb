{
 "cells": [
  {
   "cell_type": "markdown",
   "metadata": {
    "id": "pyLDlbh7InwM"
   },
   "source": [
    "# **MÓDULO 3 - FUNDAMENTOS DE LA PROGRAMACIÓN CON PYTHON**\n",
    "\n",
    "## Estructuras de control de flujo\n",
    "\n",
    "> ⚠️ recordatorio `bool`  \n",
    "> `True` o `False`  \n",
    "> surgen del resultado de operadores como: `==`, `!=`, `>`, `<`, `>=`, `<=`, `in`  \n",
    "> python interpreta al `0` y a objectos *vacíos* como `False`: `''`, `[]`, `()`, `{}`  \n",
    "> soportan operaciones lógicas como: `and`/`&`, `or`/`|`, `not`/`!`   \n",
    "\n",
    "* `if`: ejecuta un bloque de código u otro según el resultado de evaluar una condición.\n",
    "* `for`: ejecuta un bloque de código una cantidad **definida** de veces.\n",
    "* `while`: ejecuta un bloque de código **hasta que** se deje de cumplir una condición determinada.\n",
    "* `try-except`: *intenta* ejecutar un bloque de código *catcheando* (o atajando) excepciones que ocurran en dicho intento y ejecutando así otro bloque de código."
   ]
  },
  {
   "cell_type": "markdown",
   "metadata": {},
   "source": [
    "### if\n",
    "\n",
    "Evalúa una condición en un *contexto booleano*, si el resultado es `True`, ejecuta un bloque de código, de lo contrario otro o finaliza la ejecución de la estructura de control de flujo.\n",
    "\n",
    "![](https://files.realpython.com/media/t.78f3bacaa261.png)\n",
    "\n",
    "syntax:\n",
    "\n",
    "```python\n",
    "if <expr>:\n",
    "    # do something\n",
    "```\n",
    "------------------------\n",
    "```python\n",
    "if <expr>:\n",
    "    # do something\n",
    "else:\n",
    "    # do this\n",
    "```\n",
    "------------------------\n",
    "```python\n",
    "if <expr>:\n",
    "    # do something\n",
    "else:\n",
    "    if <expr>:\n",
    "        # do this\n",
    "    else:\n",
    "        # do this\n",
    "```\n",
    "\n",
    "```python\n",
    "if <expr>:\n",
    "    # do something\n",
    "elif <expr>:\n",
    "    # do this\n",
    "else:\n",
    "    # do this\n",
    "```"
   ]
  },
  {
   "cell_type": "markdown",
   "metadata": {},
   "source": [
    "#### ⚠️ identado\n",
    "\n",
    "4 espacios o *Tab* que preceden el bloque de código debajo de `:` e indican que ese bloque de código se debe ejecutar según el resultado de la expresión"
   ]
  },
  {
   "cell_type": "code",
   "execution_count": 43,
   "metadata": {},
   "outputs": [
    {
     "name": "stdout",
     "output_type": "stream",
     "text": [
      "true\n"
     ]
    }
   ],
   "source": [
    "if True:\n",
    "    print('true')"
   ]
  },
  {
   "cell_type": "code",
   "execution_count": 47,
   "metadata": {},
   "outputs": [
    {
     "name": "stdout",
     "output_type": "stream",
     "text": [
      "true\n",
      "false\n"
     ]
    }
   ],
   "source": [
    "if True:\n",
    "    print('true')\n",
    "\n",
    "print('false')"
   ]
  },
  {
   "cell_type": "code",
   "execution_count": 45,
   "metadata": {},
   "outputs": [
    {
     "name": "stdout",
     "output_type": "stream",
     "text": [
      "true\n"
     ]
    }
   ],
   "source": [
    "if True:\n",
    "    print('true')\n",
    "else:\n",
    "    print('false')"
   ]
  },
  {
   "cell_type": "code",
   "execution_count": 44,
   "metadata": {},
   "outputs": [
    {
     "name": "stdout",
     "output_type": "stream",
     "text": [
      "false\n"
     ]
    }
   ],
   "source": [
    "if False:\n",
    "    print('true')\n",
    "else:\n",
    "    print('false')"
   ]
  },
  {
   "cell_type": "code",
   "execution_count": 48,
   "metadata": {},
   "outputs": [],
   "source": [
    "x = 5\n",
    "y = 3"
   ]
  },
  {
   "cell_type": "code",
   "execution_count": 50,
   "metadata": {},
   "outputs": [
    {
     "data": {
      "text/plain": [
       "True"
      ]
     },
     "execution_count": 50,
     "metadata": {},
     "output_type": "execute_result"
    }
   ],
   "source": [
    "x > y"
   ]
  },
  {
   "cell_type": "code",
   "execution_count": 51,
   "metadata": {},
   "outputs": [
    {
     "data": {
      "text/plain": [
       "False"
      ]
     },
     "execution_count": 51,
     "metadata": {},
     "output_type": "execute_result"
    }
   ],
   "source": [
    "x < y"
   ]
  },
  {
   "cell_type": "code",
   "execution_count": 54,
   "metadata": {},
   "outputs": [],
   "source": [
    "if x < y:\n",
    "    print(f'{x} is less than {y}')"
   ]
  },
  {
   "cell_type": "code",
   "execution_count": 56,
   "metadata": {},
   "outputs": [
    {
     "name": "stdout",
     "output_type": "stream",
     "text": [
      "5\n"
     ]
    }
   ],
   "source": [
    "if x < y:\n",
    "    print(f'{x} is less than {y}')\n",
    "    \n",
    "print(x)"
   ]
  },
  {
   "cell_type": "code",
   "execution_count": 55,
   "metadata": {},
   "outputs": [
    {
     "name": "stdout",
     "output_type": "stream",
     "text": [
      "5 is greater than 3\n"
     ]
    }
   ],
   "source": [
    "if x < y:\n",
    "    print(f'{x} is less than {y}')\n",
    "else:\n",
    "    print(f'{x} is greater than {y}')"
   ]
  },
  {
   "cell_type": "code",
   "execution_count": 85,
   "metadata": {},
   "outputs": [],
   "source": [
    "x = 2"
   ]
  },
  {
   "cell_type": "code",
   "execution_count": 84,
   "metadata": {},
   "outputs": [
    {
     "name": "stdout",
     "output_type": "stream",
     "text": [
      "5 is greater than 3\n"
     ]
    }
   ],
   "source": [
    "if x < 0:\n",
    "    print(f'{x} is negative')\n",
    "elif x < y:\n",
    "    print(f'{x} is less than {y}')\n",
    "else:\n",
    "    print(f'{x} is greater than {y}')"
   ]
  },
  {
   "cell_type": "code",
   "execution_count": 86,
   "metadata": {},
   "outputs": [],
   "source": [
    "x = -1"
   ]
  },
  {
   "cell_type": "code",
   "execution_count": 84,
   "metadata": {},
   "outputs": [
    {
     "name": "stdout",
     "output_type": "stream",
     "text": [
      "5 is greater than 3\n"
     ]
    }
   ],
   "source": [
    "if x < 0:\n",
    "    print(f'{x} is negative')\n",
    "elif x < y:\n",
    "    print(f'{x} is less than {y}')\n",
    "else:\n",
    "    print(f'{x} is greater than {y}')"
   ]
  },
  {
   "cell_type": "code",
   "execution_count": 57,
   "metadata": {},
   "outputs": [],
   "source": [
    "garbage_collector_time = True\n",
    "trash_bin_full = False"
   ]
  },
  {
   "cell_type": "code",
   "execution_count": 58,
   "metadata": {},
   "outputs": [],
   "source": [
    "if garbage_collector_time and trash_bin_full:\n",
    "    print('Drive Out Rubbish!')"
   ]
  },
  {
   "cell_type": "code",
   "execution_count": 59,
   "metadata": {},
   "outputs": [],
   "source": [
    "trash_bin_full = True"
   ]
  },
  {
   "cell_type": "code",
   "execution_count": 60,
   "metadata": {},
   "outputs": [
    {
     "name": "stdout",
     "output_type": "stream",
     "text": [
      "Drive Out Rubbish!\n"
     ]
    }
   ],
   "source": [
    "if garbage_collector_time and trash_bin_full:\n",
    "    print('Drive Out Rubbish!')"
   ]
  },
  {
   "cell_type": "code",
   "execution_count": 62,
   "metadata": {},
   "outputs": [],
   "source": [
    "i_am_out_of_home = False\n",
    "trash_bin_full = False"
   ]
  },
  {
   "cell_type": "code",
   "execution_count": 63,
   "metadata": {},
   "outputs": [],
   "source": [
    "if garbage_collector_time and trash_bin_full or i_am_out_of_home:\n",
    "    print('Drive Out Rubbish!')"
   ]
  },
  {
   "cell_type": "code",
   "execution_count": 64,
   "metadata": {},
   "outputs": [],
   "source": [
    "i_am_out_of_home = True"
   ]
  },
  {
   "cell_type": "code",
   "execution_count": 65,
   "metadata": {},
   "outputs": [
    {
     "name": "stdout",
     "output_type": "stream",
     "text": [
      "Drive Out Rubbish!\n"
     ]
    }
   ],
   "source": [
    "if garbage_collector_time and trash_bin_full or i_am_out_of_home:\n",
    "    print('Drive Out Rubbish!')"
   ]
  },
  {
   "cell_type": "code",
   "execution_count": 68,
   "metadata": {},
   "outputs": [],
   "source": [
    "i_am_at_home = False"
   ]
  },
  {
   "cell_type": "code",
   "execution_count": 69,
   "metadata": {},
   "outputs": [
    {
     "name": "stdout",
     "output_type": "stream",
     "text": [
      "Drive Out Rubbish!\n"
     ]
    }
   ],
   "source": [
    "if garbage_collector_time and trash_bin_full or not i_am_at_home:\n",
    "    print('Drive Out Rubbish!')"
   ]
  },
  {
   "cell_type": "markdown",
   "metadata": {
    "id": "cHPe0U_hZDwa"
   },
   "source": [
    "## ✏️ Ejercicios if\n",
    "### Sincrónicos"
   ]
  },
  {
   "cell_type": "markdown",
   "metadata": {},
   "source": [
    "* Dado un número, si printear un mensaje que indique si es par o impar"
   ]
  },
  {
   "cell_type": "code",
   "execution_count": 70,
   "metadata": {},
   "outputs": [],
   "source": [
    "number = 10"
   ]
  },
  {
   "cell_type": "code",
   "execution_count": null,
   "metadata": {},
   "outputs": [],
   "source": []
  },
  {
   "cell_type": "code",
   "execution_count": 71,
   "metadata": {},
   "outputs": [],
   "source": [
    "number = 5"
   ]
  },
  {
   "cell_type": "code",
   "execution_count": null,
   "metadata": {},
   "outputs": [],
   "source": []
  },
  {
   "cell_type": "markdown",
   "metadata": {},
   "source": [
    "* Determinar si una palabra dada es un *palíndromo* o no, de serlo, printearlo por pantalla.\n",
    "> un políndromo es aquella palabra o frase que, revirtiendo sus caracteres sigue siendo la misma palabra o frase.  \n",
    "> ejemplo 'neuquen'  \n",
    "> ejemplo 'Atar a la rata'"
   ]
  },
  {
   "cell_type": "code",
   "execution_count": null,
   "metadata": {},
   "outputs": [],
   "source": []
  },
  {
   "cell_type": "markdown",
   "metadata": {},
   "source": [
    "* Dado un número, determinar si es divisible por 3 Y menor a 10.\n",
    "> testear el código con: 3, 14, 66, 0, 5"
   ]
  },
  {
   "cell_type": "code",
   "execution_count": null,
   "metadata": {},
   "outputs": [],
   "source": []
  },
  {
   "cell_type": "markdown",
   "metadata": {},
   "source": [
    "#### Asincrónicos"
   ]
  },
  {
   "cell_type": "markdown",
   "metadata": {},
   "source": [
    "* Determinar si un objeto dado se encuentra en una lista\n",
    "> testear el código para 1, 3, 8 y 7"
   ]
  },
  {
   "cell_type": "code",
   "execution_count": 80,
   "metadata": {},
   "outputs": [],
   "source": [
    "ints_list = [10, 2, 1, 8, 9, 10, 9, 1, 10, 5]"
   ]
  },
  {
   "cell_type": "code",
   "execution_count": 81,
   "metadata": {},
   "outputs": [],
   "source": [
    "number = 10"
   ]
  },
  {
   "cell_type": "code",
   "execution_count": null,
   "metadata": {},
   "outputs": [],
   "source": []
  },
  {
   "cell_type": "markdown",
   "metadata": {},
   "source": [
    "* Generalizar el ejercicio anterior para un número *ingresado por teclado*"
   ]
  },
  {
   "cell_type": "code",
   "execution_count": null,
   "metadata": {},
   "outputs": [],
   "source": []
  },
  {
   "cell_type": "markdown",
   "metadata": {},
   "source": [
    "* Clasificar los autos de la siguiente lista según su tamaño:\n",
    "\n",
    "> Small\t< 130 cubic feet (3,680 l)  \n",
    "> Midsize\t130–159 cubic feet (3,680–4,500 l)  \n",
    "> Large\t≥ 160 cubic feet (4,530 l)"
   ]
  },
  {
   "cell_type": "code",
   "execution_count": 83,
   "metadata": {},
   "outputs": [],
   "source": [
    "cars = [\n",
    "#   (model, year, cubic feet)\n",
    "    ('Fiat 500', 1957, 30.1),\n",
    "    ('Rolls-Royce Phantom', 2017, 412),\n",
    "    ('VW Golf Mark 1', 1974, 52.7),\n",
    "    ('Honda Accord', 2022, 105.6)\n",
    "]"
   ]
  },
  {
   "cell_type": "code",
   "execution_count": null,
   "metadata": {},
   "outputs": [],
   "source": []
  },
  {
   "cell_type": "markdown",
   "metadata": {},
   "source": [
    "* Un servicio que opera en Argentina, Ecuador, Perú, Colombia y Uruguay recibe peticiones con la variable `country`, pero envía este dato a otro servicio que como recibe `country_code` ar, ec, co, pe y uy respectivamente, realizar el mapeo necesario.\n",
    "\n",
    "`country = 'Argentina'` -> `country_code = 'ar'`  \n",
    "`country = 'Ecuador'` -> `country_code = 'ec'`  \n",
    ".  \n",
    ".  \n",
    ".  \n",
    "`country = 'Uruguay'` -> `country_code = 'uy'`  "
   ]
  },
  {
   "cell_type": "code",
   "execution_count": null,
   "metadata": {},
   "outputs": [],
   "source": []
  },
  {
   "cell_type": "markdown",
   "metadata": {},
   "source": [
    "* Generalizar el ejercicio anterior para `country` capitalizado o en mayúscula"
   ]
  },
  {
   "cell_type": "code",
   "execution_count": null,
   "metadata": {},
   "outputs": [],
   "source": []
  },
  {
   "cell_type": "markdown",
   "metadata": {},
   "source": [
    "* Generalizar el ejercicio anterior para todo `country` que contenga `country_code`"
   ]
  },
  {
   "cell_type": "code",
   "execution_count": null,
   "metadata": {},
   "outputs": [],
   "source": []
  },
  {
   "cell_type": "markdown",
   "metadata": {},
   "source": [
    "> Más info: [control flow - python official](https://docs.python.org/es/3/tutorial/controlflow.html)  \n",
    "[conditial statements - real p](https://realpython.com/python-conditional-statements/)"
   ]
  }
 ],
 "metadata": {
  "colab": {
   "authorship_tag": "ABX9TyPrxtgJbn8JKn6K/emfVHeV",
   "name": "7.modulo_2-diccionarios.ipynb",
   "provenance": []
  },
  "kernelspec": {
   "display_name": "Python 3 (ipykernel)",
   "language": "python",
   "name": "python3"
  },
  "language_info": {
   "codemirror_mode": {
    "name": "ipython",
    "version": 3
   },
   "file_extension": ".py",
   "mimetype": "text/x-python",
   "name": "python",
   "nbconvert_exporter": "python",
   "pygments_lexer": "ipython3",
   "version": "3.9.7"
  }
 },
 "nbformat": 4,
 "nbformat_minor": 4
}
