{
 "cells": [
  {
   "cell_type": "markdown",
   "metadata": {},
   "source": [
    "# Modules\n",
    "\n",
    "Puede ser útil definir *módulos propios*, es decir conjuntos de funciones o utilidades que resuelven un grupo de tareas específicas. Un módulo debe escribirse en un archivo `.py` desde el que se pueden **importar** las funciones y utilidades que contenga."
   ]
  },
  {
   "cell_type": "code",
   "execution_count": null,
   "metadata": {},
   "outputs": [],
   "source": [
    "%%writefile quadratic.py\n",
    "\n",
    "def roots(a, b=0, c=0):\n",
    "    \"\"\"\n",
    "    Returns the roots of a quadratic expresion \n",
    "    ax^2 + bx + c = 0\n",
    "    \n",
    "    :param a: (int or float) quadratic coefficient\n",
    "    :param b: (int or float) linear coefficient\n",
    "    :param c: (int of float) constant\n",
    "    :return: (tuple) x1, x2 the roots\n",
    "    \"\"\"\n",
    "\n",
    "    agnostic_numerator = ( b ** 2 - 4 * a * c) ** 0.5\n",
    "    x1 = (-b + agnostic_numerator) / (2 * a)\n",
    "    x2 = (-b - agnostic_numerator) / (2 * a)\n",
    "    return (x1, x2)"
   ]
  },
  {
   "cell_type": "code",
   "execution_count": null,
   "metadata": {
    "colab": {},
    "colab_type": "code",
    "id": "g4M0tOnLXqhw"
   },
   "outputs": [],
   "source": [
    "import quadratic"
   ]
  },
  {
   "cell_type": "markdown",
   "metadata": {
    "colab_type": "text",
    "id": "CpH5DTuSXqiP"
   },
   "source": [
    "Se calculan las raíces de las siguientes ecuaciones cuadráticas:\n",
    "\n",
    "$x^2 + 2·x + 1$\n",
    "\n",
    "$4x^2 + 2·x - 7$\n",
    "\n",
    "$2x^2 + 3$"
   ]
  },
  {
   "cell_type": "code",
   "execution_count": null,
   "metadata": {
    "colab": {},
    "colab_type": "code",
    "id": "E6-rSZ8SXqiT"
   },
   "outputs": [],
   "source": [
    "coefficients_lists = ([1, 2, 1], [4, 2, -7], [2, 0, 3])"
   ]
  },
  {
   "cell_type": "code",
   "execution_count": null,
   "metadata": {
    "colab": {},
    "colab_type": "code",
    "id": "73HKXnsOXqij"
   },
   "outputs": [],
   "source": [
    "for coefficients in coefficients_lists:\n",
    "    x1, x2 = quadratic.roots(*coefficients)\n",
    "    print('Roots of ', coefficients)\n",
    "    print(x1, x2)\n",
    "    print()"
   ]
  }
 ],
 "metadata": {
  "colab": {
   "collapsed_sections": [],
   "name": "7.1-Importando-modulos.ipynb",
   "provenance": [],
   "version": "0.3.2"
  },
  "kernelspec": {
   "display_name": "Python 3 (ipykernel)",
   "language": "python",
   "name": "python3"
  },
  "language_info": {
   "codemirror_mode": {
    "name": "ipython",
    "version": 3
   },
   "file_extension": ".py",
   "mimetype": "text/x-python",
   "name": "python",
   "nbconvert_exporter": "python",
   "pygments_lexer": "ipython3",
   "version": "3.9.7"
  }
 },
 "nbformat": 4,
 "nbformat_minor": 4
}
