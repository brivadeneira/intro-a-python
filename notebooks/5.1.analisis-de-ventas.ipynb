{
 "cells": [
  {
   "cell_type": "markdown",
   "id": "41154291-76ee-416d-8106-9d47c52b272f",
   "metadata": {
    "id": "41154291-76ee-416d-8106-9d47c52b272f"
   },
   "source": [
    "# Análisis de ventas\n",
    "\n",
    "Se facilita una lista de `dict` con datos reales de ventas con las siguientes keys:\n",
    "\n",
    "* 'Order ID'\n",
    "* 'Product'\n",
    "* 'Quantity Ordered'\n",
    "* 'Price Each\n",
    "* 'Order Date'\n",
    "* 'Purchase Address'\n",
    "\n",
    "y values de tipo `str` en todos los casos:"
   ]
  },
  {
   "cell_type": "code",
   "execution_count": 1,
   "id": "b5d05795-bd04-427e-b8f4-004b9b52f160",
   "metadata": {
    "colab": {
     "base_uri": "https://localhost:8080/",
     "height": 217
    },
    "executionInfo": {
     "elapsed": 326,
     "status": "error",
     "timestamp": 1649220122908,
     "user": {
      "displayName": "Bibiana Rivadeneira",
      "userId": "13403832355809551391"
     },
     "user_tz": 180
    },
    "id": "b5d05795-bd04-427e-b8f4-004b9b52f160",
    "outputId": "6388b6b0-328d-4037-e9d2-1fd1c6efd9cd"
   },
   "outputs": [],
   "source": [
    "import pickle\n",
    "\n",
    "with open('sales_data.pickle', 'rb') as handle:\n",
    "    sales_data = pickle.load(handle)"
   ]
  },
  {
   "cell_type": "code",
   "execution_count": 4,
   "id": "85741068-6422-47f5-9361-f8027efe0432",
   "metadata": {},
   "outputs": [
    {
     "data": {
      "text/plain": [
       "186850"
      ]
     },
     "execution_count": 4,
     "metadata": {},
     "output_type": "execute_result"
    }
   ],
   "source": [
    "len(sales_data)"
   ]
  },
  {
   "cell_type": "code",
   "execution_count": 6,
   "id": "bd39a5b1-28eb-471e-83a9-ab5f55b784bb",
   "metadata": {
    "id": "bd39a5b1-28eb-471e-83a9-ab5f55b784bb",
    "outputId": "47bf3a43-cdd8-422a-fee6-2333d50ee821"
   },
   "outputs": [
    {
     "data": {
      "text/plain": [
       "[{'Order ID': '209921',\n",
       "  'Product': 'USB-C Charging Cable',\n",
       "  'Quantity Ordered': '1',\n",
       "  'Price Each': '11.95',\n",
       "  'Order Date': '06/23/19 19:34',\n",
       "  'Purchase Address': '950 Walnut St, Portland, ME 04101'},\n",
       " {'Order ID': '209922',\n",
       "  'Product': 'Macbook Pro Laptop',\n",
       "  'Quantity Ordered': '1',\n",
       "  'Price Each': '1700.0',\n",
       "  'Order Date': '06/30/19 10:05',\n",
       "  'Purchase Address': '80 4th St, San Francisco, CA 94016'},\n",
       " {'Order ID': '209923',\n",
       "  'Product': 'ThinkPad Laptop',\n",
       "  'Quantity Ordered': '1',\n",
       "  'Price Each': '999.99',\n",
       "  'Order Date': '06/24/19 20:18',\n",
       "  'Purchase Address': '402 Jackson St, Los Angeles, CA 90001'}]"
      ]
     },
     "execution_count": 6,
     "metadata": {},
     "output_type": "execute_result"
    }
   ],
   "source": [
    "sales_data[0:3]"
   ]
  },
  {
   "cell_type": "markdown",
   "id": "bd775d37-d9b6-457f-acf3-6cf561dbc27f",
   "metadata": {
    "id": "bd775d37-d9b6-457f-acf3-6cf561dbc27f"
   },
   "source": [
    "Responder los siguientes interrogantes de interés, para lo que se requiere:\n",
    "\n",
    "* Inspeccionar los datos\n",
    "* Formatearlos adecuadamente\n",
    "* Elegir y confeccionar nuevas estructuras de datos"
   ]
  },
  {
   "cell_type": "code",
   "execution_count": null,
   "id": "9d7c9580-c873-4e53-aa64-5515982f9ee2",
   "metadata": {
    "id": "9d7c9580-c873-4e53-aa64-5515982f9ee2"
   },
   "outputs": [],
   "source": []
  },
  {
   "cell_type": "markdown",
   "id": "65b001ce-12b7-4b6a-b5e0-f067307d5c3a",
   "metadata": {
    "id": "65b001ce-12b7-4b6a-b5e0-f067307d5c3a"
   },
   "source": [
    "**1)** ¿Cuál es el mes que reporta **la mayor cantidad de productos**? \n",
    "\n",
    "*Se espera*: `El mes de mayor venta es: {Enero/Febrero/Marzo/Abril...}` *(nótese que se debe printear el nombre del mes)*"
   ]
  },
  {
   "cell_type": "code",
   "execution_count": null,
   "id": "3ec4c0a0-4aec-4756-bf25-0a4e79242293",
   "metadata": {
    "id": "3ec4c0a0-4aec-4756-bf25-0a4e79242293"
   },
   "outputs": [],
   "source": [
    "print(f'El mes de mayor venta es: {month}')"
   ]
  },
  {
   "cell_type": "markdown",
   "id": "111cd58e-7c14-437c-9a58-d269504d3dc6",
   "metadata": {
    "id": "111cd58e-7c14-437c-9a58-d269504d3dc6"
   },
   "source": [
    "**2)** ¿Qué ganancia reporta dicho mes?  \n",
    "*Se espera*: `En el mes de {Enero/Febrero/Marzo/Abril...} se reporta una ganancia total de USD{xxxx.xx}` *(nótese que el monto debe incluir DOS decimales)*"
   ]
  },
  {
   "cell_type": "code",
   "execution_count": null,
   "id": "2f53650d-dcdf-40e0-b102-0091b7e153ee",
   "metadata": {
    "id": "2f53650d-dcdf-40e0-b102-0091b7e153ee"
   },
   "outputs": [],
   "source": []
  },
  {
   "cell_type": "markdown",
   "id": "f3eaeae9-19b6-4512-ba98-94f79613d3a5",
   "metadata": {
    "id": "f3eaeae9-19b6-4512-ba98-94f79613d3a5"
   },
   "source": [
    "**3)** ¿Qué porcentaje del total de las ventas representa?  \n",
    "*Se espera*: `Las ventas en el mes de {Enero/Febrero/Marzo/Abril...} representan un xx.xx% del total de las ventas` *(nótese que el monto debe incluir DOS decimales)*"
   ]
  },
  {
   "cell_type": "code",
   "execution_count": null,
   "id": "6294a3f2-e381-479a-94a3-703282d429eb",
   "metadata": {
    "id": "6294a3f2-e381-479a-94a3-703282d429eb"
   },
   "outputs": [],
   "source": []
  },
  {
   "cell_type": "markdown",
   "id": "a123911e-0328-4600-9a7f-0753e79bbd6d",
   "metadata": {
    "id": "a123911e-0328-4600-9a7f-0753e79bbd6d"
   },
   "source": [
    "**4)** ¿Qué ciudad reportó la mayor cantidad de ventas?  \n",
    "*Se espera*: `La ciudad con mayor cantidad de ventas es {Dallas/Los Angeles/Boston...} reporta la mayor cantidad de ventas` *(nótese que se debe especificar la ciudad y no la dirección completa)*"
   ]
  },
  {
   "cell_type": "code",
   "execution_count": null,
   "id": "bef35c63-34ac-4113-b85b-98f218116560",
   "metadata": {
    "id": "bef35c63-34ac-4113-b85b-98f218116560"
   },
   "outputs": [],
   "source": []
  },
  {
   "cell_type": "markdown",
   "id": "7ff085be-3d8e-455b-a66b-c7e905f4c584",
   "metadata": {
    "id": "7ff085be-3d8e-455b-a66b-c7e905f4c584"
   },
   "source": [
    "**5)** ¿Qué porcentaje del total de las ventas representa?  \n",
    "*Se espera*: `Las ventas en {Dallas/Los Angeles/Boston...} representan un xx.xx% del total` *(nótese que se debe especificar la ciudad y no la dirección completa)*"
   ]
  },
  {
   "cell_type": "code",
   "execution_count": null,
   "id": "18ed8be8-2588-46b7-aaab-e78ca03c549e",
   "metadata": {
    "id": "18ed8be8-2588-46b7-aaab-e78ca03c549e"
   },
   "outputs": [],
   "source": []
  },
  {
   "cell_type": "markdown",
   "id": "a050f86b-2f8d-4473-94a2-29c52ff47a5f",
   "metadata": {
    "id": "a050f86b-2f8d-4473-94a2-29c52ff47a5f"
   },
   "source": [
    "**6)** ¿En qué horas del día se deberían publicar anuncios promocionales para maximizar las ventas?  \n",
    "*Se espera*: `Las horas del día en las que más ventas se registran son: {xx}hs y {yy}hs` *(nótese que se requieren horas del día, como \"10hs\" o \"20hs\")*"
   ]
  },
  {
   "cell_type": "code",
   "execution_count": null,
   "id": "d917acad-8db7-4725-ba74-a5ebd4af62fb",
   "metadata": {
    "id": "d917acad-8db7-4725-ba74-a5ebd4af62fb"
   },
   "outputs": [],
   "source": []
  },
  {
   "cell_type": "markdown",
   "id": "80af09de-5127-4d05-af12-717b72da09ab",
   "metadata": {
    "id": "80af09de-5127-4d05-af12-717b72da09ab"
   },
   "source": [
    "**7)** Determinar productos que se venden juntos y DE A DOS.  \n",
    "*Se espera*: `Los siguientes productos se venden juntos y de a dos: {x}-{y}, {yy}-{zz} ...`  \n",
    "**OBS**: Para una misma *orden* se pueden regitrar varios productos."
   ]
  },
  {
   "cell_type": "code",
   "execution_count": null,
   "id": "b2b1c6c9-5ce4-4285-bd55-675f47f930f9",
   "metadata": {
    "id": "b2b1c6c9-5ce4-4285-bd55-675f47f930f9"
   },
   "outputs": [],
   "source": []
  },
  {
   "cell_type": "markdown",
   "id": "b0ca1fe8-0635-43f8-af2b-cc93f65a0de9",
   "metadata": {
    "id": "b0ca1fe8-0635-43f8-af2b-cc93f65a0de9"
   },
   "source": [
    "**8)** ¿Cuál es el producto más vendido?\n",
    "*Se espera*: `El producto más vendido es {x}`"
   ]
  },
  {
   "cell_type": "code",
   "execution_count": null,
   "id": "95a83318-dd52-4db7-9c66-e079a59f5b57",
   "metadata": {
    "id": "95a83318-dd52-4db7-9c66-e079a59f5b57"
   },
   "outputs": [],
   "source": []
  },
  {
   "cell_type": "markdown",
   "id": "68b4e603-0b45-40df-8ae1-cf999dcd3cdc",
   "metadata": {
    "id": "68b4e603-0b45-40df-8ae1-cf999dcd3cdc"
   },
   "source": [
    "**9)** ¿Cuál es la relación entre el precio del producto más vendido y el del menos vendido?\n",
    "*Se espera:* `El precio del producto más vendido es {n} veces mayor/menor que el producto menos vendido`"
   ]
  },
  {
   "cell_type": "code",
   "execution_count": null,
   "id": "644db79a-3fbf-4802-b332-80a3b29f88f3",
   "metadata": {
    "id": "644db79a-3fbf-4802-b332-80a3b29f88f3"
   },
   "outputs": [],
   "source": []
  },
  {
   "cell_type": "markdown",
   "id": "acb2623e-cad1-46ed-a8ea-3ec0e650901e",
   "metadata": {
    "id": "acb2623e-cad1-46ed-a8ea-3ec0e650901e"
   },
   "source": [
    "**10)** ¿Cuál es la órden con mayor cantidad de productos?\n",
    "*Se espera*: `La órden con mayor cantidad de productos es la número {x}, con {y} productos en total`"
   ]
  },
  {
   "cell_type": "code",
   "execution_count": null,
   "id": "25df688f-02b5-4ba5-995c-8861aea7c43e",
   "metadata": {
    "id": "25df688f-02b5-4ba5-995c-8861aea7c43e"
   },
   "outputs": [],
   "source": []
  }
 ],
 "metadata": {
  "colab": {
   "name": "5.1.analisis-de-ventas.ipynb",
   "provenance": []
  },
  "kernelspec": {
   "display_name": "Python 3 (ipykernel)",
   "language": "python",
   "name": "python3"
  },
  "language_info": {
   "codemirror_mode": {
    "name": "ipython",
    "version": 3
   },
   "file_extension": ".py",
   "mimetype": "text/x-python",
   "name": "python",
   "nbconvert_exporter": "python",
   "pygments_lexer": "ipython3",
   "version": "3.9.12"
  }
 },
 "nbformat": 4,
 "nbformat_minor": 5
}
